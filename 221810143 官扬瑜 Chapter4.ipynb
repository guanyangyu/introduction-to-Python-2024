{
 "cells": [
  {
   "cell_type": "markdown",
   "id": "7ec10f57-44c5-4a85-9fbc-55113a711aa2",
   "metadata": {},
   "source": [
    "# 第四章 操作列表"
   ]
  },
  {
   "cell_type": "markdown",
   "id": "69b4e421-0c38-4e84-b574-e22b7e01ff7a",
   "metadata": {},
   "source": [
    "## 4.1 遍历整个列表"
   ]
  },
  {
   "cell_type": "markdown",
   "id": "a2bda1ad-c162-4693-912d-17009089c66f",
   "metadata": {},
   "source": [
    "可以使用for循环去遍历整个列表"
   ]
  },
  {
   "cell_type": "code",
   "execution_count": 1,
   "id": "65b904c7-2aa8-464b-9a5f-94c475b0b585",
   "metadata": {},
   "outputs": [
    {
     "name": "stdout",
     "output_type": "stream",
     "text": [
      "alice\n",
      "david\n",
      "carolina\n"
     ]
    }
   ],
   "source": [
    "magicians=['alice','david','carolina']\n",
    "for magician in magicians:\n",
    "    print(magician)"
   ]
  },
  {
   "cell_type": "markdown",
   "id": "aaac659a-670c-443f-94d7-129d5a4f8d38",
   "metadata": {},
   "source": [
    "### 4.1.1 深入循环研究"
   ]
  },
  {
   "cell_type": "code",
   "execution_count": 22,
   "id": "f654866c-75db-4a20-a8ad-80ba0f66b998",
   "metadata": {},
   "outputs": [
    {
     "name": "stdout",
     "output_type": "stream",
     "text": [
      "lili\n",
      "goid\n",
      "lala\n",
      "haha\n",
      "book\n",
      "telephone\n"
     ]
    }
   ],
   "source": [
    "cats=['lili','goid']\n",
    "for cat in cats:\n",
    "    print(cat)\n",
    "dogs=['lala','haha']\n",
    "for dog in dogs:\n",
    "    print(dog)\n",
    "items=['book','telephone']\n",
    "for item in items:\n",
    "    print(item)"
   ]
  },
  {
   "cell_type": "markdown",
   "id": "8a0fd662-faf7-4d7b-9707-4e04e1f32972",
   "metadata": {},
   "source": [
    "### 4.1.2 在for循环中执行更多的操作"
   ]
  },
  {
   "cell_type": "code",
   "execution_count": 16,
   "id": "1c3cc1a0-1a9c-4c54-b7ef-63d6f8e77315",
   "metadata": {},
   "outputs": [
    {
     "name": "stdout",
     "output_type": "stream",
     "text": [
      "Alice,that was a great trick!\n",
      "David,that was a great trick!\n",
      "Carolina,that was a great trick!\n"
     ]
    }
   ],
   "source": [
    "magicians=['alice','david','carolina']\n",
    "for magician in magicians:\n",
    "    print(f\"{magician.title()},that was a great trick!\")"
   ]
  },
  {
   "cell_type": "code",
   "execution_count": 17,
   "id": "83c2947b-9f53-457f-8269-df111fa30e5d",
   "metadata": {},
   "outputs": [
    {
     "name": "stdout",
     "output_type": "stream",
     "text": [
      "Alice,that was a great trick!\n",
      "I can't wait to see your next trick,Alice\n",
      "\n",
      "David,that was a great trick!\n",
      "I can't wait to see your next trick,David\n",
      "\n",
      "Carolina,that was a great trick!\n",
      "I can't wait to see your next trick,Carolina\n",
      "\n"
     ]
    }
   ],
   "source": [
    "magicians=['alice','david','carolina']\n",
    "for magician in magicians:\n",
    "    print(f\"{magician.title()},that was a great trick!\")\n",
    "    print(f\"I can't wait to see your next trick,{magician.title()}\\n\")"
   ]
  },
  {
   "cell_type": "markdown",
   "id": "43f0e557-fdec-4a12-bd7a-188863155a16",
   "metadata": {},
   "source": [
    "### 4.1.3 在for循环结束后执行一些操作"
   ]
  },
  {
   "cell_type": "code",
   "execution_count": 23,
   "id": "332be9da-1ed5-4099-a05e-1d50b7ac3c50",
   "metadata": {
    "scrolled": true
   },
   "outputs": [
    {
     "name": "stdout",
     "output_type": "stream",
     "text": [
      "Alice,that was a great trick!\n",
      "I can't wait to see your next trick,Alice.\n",
      "\n",
      "David,that was a great trick!\n",
      "I can't wait to see your next trick,David.\n",
      "\n",
      "Carolina,that was a great trick!\n",
      "I can't wait to see your next trick,Carolina.\n",
      "\n",
      "Thank you ,everyone. That was a great show!\n"
     ]
    }
   ],
   "source": [
    "magicians=['alice','david','carolina']\n",
    "for magician in magicians:\n",
    "    print(f\"{magician.title()},that was a great trick!\")\n",
    "    print(f\"I can't wait to see your next trick,{magician.title()}.\\n\")\n",
    "print(\"Thank you ,everyone. That was a great show!\")\n",
    "    "
   ]
  },
  {
   "cell_type": "markdown",
   "id": "10813817-2f65-4d76-86e6-aa5653a8d485",
   "metadata": {},
   "source": [
    "## 4.2避免缩进错误"
   ]
  },
  {
   "cell_type": "code",
   "execution_count": 29,
   "id": "9805dd45-04c4-4f60-b41b-92098e3796c7",
   "metadata": {},
   "outputs": [
    {
     "name": "stdout",
     "output_type": "stream",
     "text": [
      "Alice,that was a great trick!\n",
      "David,that was a great trick!\n",
      "Carolina,that was a great trick!\n"
     ]
    }
   ],
   "source": [
    "magicians=['alice','david','carolina']\n",
    "for magician in magicians:\n",
    "   print(f\"{magician.title()},that was a great trick!\")"
   ]
  },
  {
   "cell_type": "code",
   "execution_count": 37,
   "id": "9de830f1-7ec8-4816-9af6-afda7853ca54",
   "metadata": {},
   "outputs": [
    {
     "name": "stdout",
     "output_type": "stream",
     "text": [
      "Alice, that was a great trick!\n",
      "David, that was a great trick!\n",
      "Carolina, that was a great trick!\n",
      "I can't wait to see your next trick,Carolina.\n",
      "\n"
     ]
    }
   ],
   "source": [
    "magicians=['alice','david','carolina']\n",
    "for magician in magicians:\n",
    "    print(f\"{magician.title()}, that was a great trick!\")\n",
    "    \n",
    "print(f\"I can't wait to see your next trick,{magician.title()}.\\n\")"
   ]
  },
  {
   "cell_type": "code",
   "execution_count": 40,
   "id": "23787a17-4b38-4007-bad5-ba22dd188b7c",
   "metadata": {},
   "outputs": [
    {
     "name": "stdout",
     "output_type": "stream",
     "text": [
      "Hello Python world!\n"
     ]
    }
   ],
   "source": [
    "message=\"Hello Python world!\"\n",
    "print(message)"
   ]
  },
  {
   "cell_type": "code",
   "execution_count": 41,
   "id": "df108902-20f9-419f-8fb1-106a199b36d1",
   "metadata": {},
   "outputs": [
    {
     "name": "stdout",
     "output_type": "stream",
     "text": [
      "Alice, that was a great trick!\n",
      "I can't wait to see your next trick,Alice.\n",
      "\n",
      "Thank you, everyone, that was a great magic show!\n",
      "David, that was a great trick!\n",
      "I can't wait to see your next trick,David.\n",
      "\n",
      "Thank you, everyone, that was a great magic show!\n",
      "Carolina, that was a great trick!\n",
      "I can't wait to see your next trick,Carolina.\n",
      "\n",
      "Thank you, everyone, that was a great magic show!\n"
     ]
    }
   ],
   "source": [
    "magicians=['alice','david','carolina']\n",
    "for magician in magicians:\n",
    "    print(f\"{magician.title()}, that was a great trick!\")\n",
    "    print(f\"I can't wait to see your next trick,{magician.title()}.\\n\")\n",
    "    print(\"Thank you, everyone, that was a great magic show!\")\n",
    "    "
   ]
  },
  {
   "cell_type": "code",
   "execution_count": 44,
   "id": "2f12db41-2cf4-435a-b62c-daedd04580db",
   "metadata": {},
   "outputs": [
    {
     "name": "stdout",
     "output_type": "stream",
     "text": [
      "Alice\n",
      "David\n",
      "Carolina\n"
     ]
    }
   ],
   "source": [
    "magicians=['alice','david','carolina']\n",
    "for magician in magicians:\n",
    "    print(magician.title())"
   ]
  },
  {
   "cell_type": "markdown",
   "id": "2a45a57a-66c0-4015-853d-059fd320f4b5",
   "metadata": {},
   "source": [
    "# 课后练习——动手试一试"
   ]
  },
  {
   "cell_type": "markdown",
   "id": "031fd9e1-7832-44f1-a907-af902db5cfe8",
   "metadata": {},
   "source": [
    "## 练习4.1：比萨"
   ]
  },
  {
   "cell_type": "code",
   "execution_count": 45,
   "id": "c5e1dd0c-f377-48af-b0a0-df114efa1eba",
   "metadata": {},
   "outputs": [
    {
     "name": "stdout",
     "output_type": "stream",
     "text": [
      "KFC\n",
      "Mcdonals\n",
      "bishengke\n"
     ]
    }
   ],
   "source": [
    "Pizzas=['KFC','Mcdonals','bishengke']\n",
    "for Pizza in Pizzas:\n",
    "    print(Pizza)"
   ]
  },
  {
   "cell_type": "code",
   "execution_count": 52,
   "id": "36019873-d508-4a6e-9527-ce32db806255",
   "metadata": {},
   "outputs": [
    {
     "name": "stdout",
     "output_type": "stream",
     "text": [
      "KFC\n",
      "I love eating Kfc,because there is so many cheese!\n",
      "Mcdonals\n",
      "I love eating Mcdonals,because there is so many cheese!\n",
      "bishengke\n",
      "I love eating Bishengke,because there is so many cheese!\n",
      "I really love Pizza!\n"
     ]
    }
   ],
   "source": [
    "Pizzas=['KFC','Mcdonals','bishengke']\n",
    "for Pizza in Pizzas:\n",
    "    print(Pizza)\n",
    "    print(f\"I love eating {Pizza.title()},because there is so many cheese!\")\n",
    "print(\"I really love Pizza!\")"
   ]
  },
  {
   "cell_type": "markdown",
   "id": "81b142ba-a70d-44a7-b96c-3d1ef31ea669",
   "metadata": {},
   "source": [
    "## 练习4.2 动物"
   ]
  },
  {
   "cell_type": "markdown",
   "id": "4847d33f-f0c0-46a2-809d-53058273b861",
   "metadata": {},
   "source": [
    "##  4.3 创建数值列表"
   ]
  },
  {
   "cell_type": "code",
   "execution_count": 1,
   "id": "6eb78dfb-1d3f-44c3-a91a-6c8ec7a4659b",
   "metadata": {},
   "outputs": [
    {
     "name": "stdout",
     "output_type": "stream",
     "text": [
      "cat\n",
      "dog\n",
      "mouse\n"
     ]
    }
   ],
   "source": [
    "animals=['cat','dog','mouse']\n",
    "for animal in animals:\n",
    "    print(animal)"
   ]
  },
  {
   "cell_type": "code",
   "execution_count": 2,
   "id": "a527a5f2-e345-4af6-a8c9-6a7229acac15",
   "metadata": {},
   "outputs": [
    {
     "name": "stdout",
     "output_type": "stream",
     "text": [
      " The Cat has two eyes.\n",
      " The Dog has two eyes.\n",
      " The Mouse has two eyes.\n"
     ]
    }
   ],
   "source": [
    "animals=['cat','dog','mouse']\n",
    "for animal in animals:\n",
    "    print(f\" The {animal.title()} has two eyes.\")"
   ]
  },
  {
   "cell_type": "code",
   "execution_count": 6,
   "id": "d7f578c5-8c54-40f0-ad51-9a9e2fd895ec",
   "metadata": {},
   "outputs": [
    {
     "name": "stdout",
     "output_type": "stream",
     "text": [
      "\n",
      " The Cat has two eyes.\n",
      "\n",
      " The Dog has two eyes.\n",
      "\n",
      " The Mouse has two eyes.\n",
      "\n",
      "Any of these animals would make a great pet!\n"
     ]
    }
   ],
   "source": [
    "animals=['cat','dog','mouse']\n",
    "for animal in animals:\n",
    "    print(f\"\\n The {animal.title()} has two eyes.\")\n",
    "print('\\nAny of these animals would make a great pet!')"
   ]
  },
  {
   "cell_type": "markdown",
   "id": "2a0f5d83-2c9a-4242-9787-1ea9cca9c24d",
   "metadata": {},
   "source": [
    "### 4.3.1 使用range()函数"
   ]
  },
  {
   "cell_type": "code",
   "execution_count": 53,
   "id": "b56859cb-3d1e-4cac-b949-07beff8f5873",
   "metadata": {},
   "outputs": [
    {
     "name": "stdout",
     "output_type": "stream",
     "text": [
      "1\n",
      "2\n",
      "3\n",
      "4\n"
     ]
    }
   ],
   "source": [
    "for value in range(1,5):\n",
    "    print(value)"
   ]
  },
  {
   "cell_type": "code",
   "execution_count": 54,
   "id": "cedf540f-54b4-43ce-9350-01f2fbbcdf8f",
   "metadata": {},
   "outputs": [
    {
     "name": "stdout",
     "output_type": "stream",
     "text": [
      "1\n",
      "2\n",
      "3\n",
      "4\n",
      "5\n"
     ]
    }
   ],
   "source": [
    "for value in range(1,6):\n",
    "    print(value)"
   ]
  },
  {
   "cell_type": "markdown",
   "id": "fd06b88d-369d-4716-bbd1-f9ded3465099",
   "metadata": {},
   "source": [
    "### 4.3.2 使用range()创建数值列表"
   ]
  },
  {
   "cell_type": "code",
   "execution_count": 58,
   "id": "1b48121c-b305-4866-8473-50d7df228cc8",
   "metadata": {},
   "outputs": [
    {
     "name": "stdout",
     "output_type": "stream",
     "text": [
      "[1, 2, 3, 4, 5]\n"
     ]
    }
   ],
   "source": [
    "numbers=list(range(1,6))\n",
    "print(numbers)"
   ]
  },
  {
   "cell_type": "code",
   "execution_count": 62,
   "id": "4fc4f0f5-cb96-46b4-87db-3655ee80725d",
   "metadata": {},
   "outputs": [
    {
     "name": "stdout",
     "output_type": "stream",
     "text": [
      "[2, 4, 6, 8, 10]\n"
     ]
    }
   ],
   "source": [
    "even_numbers=list(range(2,11,2))\n",
    "print(even_numbers)"
   ]
  },
  {
   "cell_type": "code",
   "execution_count": 64,
   "id": "48c6114d-3d69-4e02-bf67-930ef52237b0",
   "metadata": {},
   "outputs": [
    {
     "name": "stdout",
     "output_type": "stream",
     "text": [
      "[3, 9, 15, 21, 27, 33, 39, 45, 51, 57, 63, 69, 75]\n"
     ]
    }
   ],
   "source": [
    "haha_numbers=list(range(3,78,6))\n",
    "print(haha_numbers)"
   ]
  },
  {
   "cell_type": "code",
   "execution_count": 65,
   "id": "1e25a9ec-b9eb-4027-a9bc-c132b17d715b",
   "metadata": {},
   "outputs": [
    {
     "name": "stdout",
     "output_type": "stream",
     "text": [
      "[1, 4, 9, 16, 25, 36, 49, 64, 81, 100]\n"
     ]
    }
   ],
   "source": [
    "squares=[]\n",
    "for value in range(1,11):\n",
    "    square=value**2\n",
    "    squares.append(square)\n",
    "\n",
    "print(squares)\n"
   ]
  },
  {
   "cell_type": "code",
   "execution_count": 66,
   "id": "aab24eb0-22ba-48ea-8876-6d7d48e6a1e1",
   "metadata": {},
   "outputs": [
    {
     "name": "stdout",
     "output_type": "stream",
     "text": [
      "[1, 4, 9, 16, 25, 36, 49, 64, 81, 100]\n"
     ]
    }
   ],
   "source": [
    "squares=[]\n",
    "for value in range(1,11):\n",
    "    squares.append(value**2)\n",
    "\n",
    "print(squares)"
   ]
  },
  {
   "cell_type": "markdown",
   "id": "2fb0636b-4d29-4163-9feb-a0fc1ac25b8b",
   "metadata": {},
   "source": [
    "### 4.3.3 对数值列表执行简单的统计计算"
   ]
  },
  {
   "cell_type": "code",
   "execution_count": 69,
   "id": "4d428869-780a-413a-8ba2-f56977c5f0c6",
   "metadata": {},
   "outputs": [
    {
     "name": "stdout",
     "output_type": "stream",
     "text": [
      "1\n",
      "10\n",
      "43\n"
     ]
    }
   ],
   "source": [
    "digits=[1,2,8,5,4,7,6,10]\n",
    "print(min(digits))\n",
    "print(max(digits))\n",
    "print(sum(digits))"
   ]
  },
  {
   "cell_type": "markdown",
   "id": "1b96c3d0-f031-4367-964b-6e005bd41244",
   "metadata": {},
   "source": [
    "###  4.3.4 列表推导式"
   ]
  },
  {
   "cell_type": "code",
   "execution_count": 74,
   "id": "ca0e2bc8-928b-4b4a-85fd-ba0a0484ab3e",
   "metadata": {},
   "outputs": [
    {
     "name": "stdout",
     "output_type": "stream",
     "text": [
      "[1, 4, 9, 16, 25, 36, 49, 64, 81, 100]\n",
      "[0, 1, 1, 2, 2, 3, 3, 4, 4, 5, 5, 6, 6, 7, 7, 8, 8, 9, 9, 10, 10, 11, 11, 12, 12, 13, 13, 14, 14, 15, 15, 16, 16, 17, 17, 18, 18, 19, 19, 20, 20, 21, 21, 22, 22, 23, 23, 24, 24, 25, 25, 26, 26, 27, 27, 28, 28, 29, 29, 30, 30, 31, 31, 32, 32, 33, 33, 34, 34, 35, 35, 36, 36, 37, 37, 38, 38, 39, 39, 40, 40, 41, 41, 42, 42, 43, 43, 44, 44, 45, 45, 46, 46, 47, 47, 48, 48, 49, 49, 50, 50, 51, 51, 52, 52, 53, 53, 54, 54]\n"
     ]
    }
   ],
   "source": [
    "squares=[value**2 for value in range(1,11)]\n",
    "print(squares)\n",
    "squares=[value//2 for value in range(1,110)]\n",
    "print(squares)\n",
    "         "
   ]
  },
  {
   "cell_type": "code",
   "execution_count": 75,
   "id": "806ca9d1-2356-4cbc-a8b5-09f1c3737e86",
   "metadata": {},
   "outputs": [
    {
     "name": "stdout",
     "output_type": "stream",
     "text": [
      "1\n",
      "2\n",
      "3\n",
      "4\n",
      "5\n",
      "6\n",
      "7\n",
      "8\n",
      "9\n",
      "10\n",
      "11\n",
      "12\n",
      "13\n",
      "14\n",
      "15\n",
      "16\n",
      "17\n",
      "18\n",
      "19\n",
      "20\n"
     ]
    }
   ],
   "source": [
    "for I_think in range(1,21):\n",
    "    print(I_think)"
   ]
  },
  {
   "cell_type": "markdown",
   "id": "c8f537e2-190e-4bfb-9bc1-44ac5726e71a",
   "metadata": {},
   "source": [
    "# 课后练习——动手试一试"
   ]
  },
  {
   "cell_type": "markdown",
   "id": "3da75308-d8ce-4e07-8e49-7e89facdc540",
   "metadata": {},
   "source": [
    "## 练习4.3：数到20"
   ]
  },
  {
   "cell_type": "code",
   "execution_count": 76,
   "id": "41b48521-2edf-4b3c-835f-8ed46c23c818",
   "metadata": {},
   "outputs": [
    {
     "name": "stdout",
     "output_type": "stream",
     "text": [
      "[1, 2, 3, 4, 5, 6, 7, 8, 9, 10, 11, 12, 13, 14, 15, 16, 17, 18, 19, 20]\n"
     ]
    }
   ],
   "source": [
    "number=list(range(1,21))\n",
    "print(number)"
   ]
  },
  {
   "cell_type": "markdown",
   "id": "f25a1279-7f7e-4e71-b287-adc8f5dfea96",
   "metadata": {},
   "source": [
    "## 练习4.4:100万 (因太长改为10）                                                                    "
   ]
  },
  {
   "cell_type": "code",
   "execution_count": 8,
   "id": "d7920b25-6b25-4702-acb3-7c13d131358d",
   "metadata": {},
   "outputs": [
    {
     "name": "stdout",
     "output_type": "stream",
     "text": [
      "1\n",
      "2\n",
      "3\n",
      "4\n",
      "5\n",
      "6\n",
      "7\n",
      "8\n",
      "9\n",
      "10\n"
     ]
    }
   ],
   "source": [
    "numbers=list(range(1,11))\n",
    "for number in numbers:\n",
    "    print(number)"
   ]
  },
  {
   "cell_type": "markdown",
   "id": "473aa1e3-f93e-4c77-af03-117b61ca6c51",
   "metadata": {},
   "source": [
    "## 练习4.5：100万求和（因太长改为10）"
   ]
  },
  {
   "cell_type": "code",
   "execution_count": 10,
   "id": "a32673f9-fcbc-4fa0-b365-a8501d80fd31",
   "metadata": {},
   "outputs": [
    {
     "name": "stdout",
     "output_type": "stream",
     "text": [
      "1\n",
      "10\n"
     ]
    },
    {
     "data": {
      "text/plain": [
       "55"
      ]
     },
     "execution_count": 10,
     "metadata": {},
     "output_type": "execute_result"
    }
   ],
   "source": [
    "numbers=list(range(1,11))\n",
    "print(min(numbers))\n",
    "print(max(numbers))\n",
    "sum(numbers)"
   ]
  },
  {
   "cell_type": "markdown",
   "id": "45d785d1-193b-468b-b0dd-74ee9198a5e2",
   "metadata": {},
   "source": [
    "## 练习4.6 奇数"
   ]
  },
  {
   "cell_type": "code",
   "execution_count": 12,
   "id": "528789f1-1083-4136-b33f-30d506919777",
   "metadata": {},
   "outputs": [
    {
     "name": "stdout",
     "output_type": "stream",
     "text": [
      "1\n",
      "3\n",
      "5\n",
      "7\n",
      "9\n",
      "11\n",
      "13\n",
      "15\n",
      "17\n",
      "19\n"
     ]
    }
   ],
   "source": [
    "numbers=list(range(1,20,2))\n",
    "for number in numbers:\n",
    "    print(number)"
   ]
  },
  {
   "cell_type": "markdown",
   "id": "397c7d0b-6c60-4acd-a24a-e7b05b06e816",
   "metadata": {},
   "source": [
    "## 练习4.7: 3的倍数"
   ]
  },
  {
   "cell_type": "code",
   "execution_count": 18,
   "id": "8bb410e3-75bf-478d-8a31-f106969732df",
   "metadata": {},
   "outputs": [
    {
     "name": "stdout",
     "output_type": "stream",
     "text": [
      "3\n",
      "6\n",
      "9\n",
      "12\n",
      "15\n",
      "18\n",
      "21\n",
      "24\n",
      "27\n"
     ]
    }
   ],
   "source": [
    "numbers=list(range(3,30,3))\n",
    "for number in numbers:\n",
    "    print(number)"
   ]
  },
  {
   "cell_type": "markdown",
   "id": "a438c9b8-a52d-42e7-9ed2-f47f9942ecce",
   "metadata": {},
   "source": [
    "## 练习4.8：立方"
   ]
  },
  {
   "cell_type": "code",
   "execution_count": 19,
   "id": "020a8e98-05b3-4d54-b4c2-623b49be8f3c",
   "metadata": {},
   "outputs": [
    {
     "name": "stdout",
     "output_type": "stream",
     "text": [
      "[1, 8, 27, 64, 125, 216, 343, 512, 729]\n",
      "1\n",
      "8\n",
      "27\n",
      "64\n",
      "125\n",
      "216\n",
      "343\n",
      "512\n",
      "729\n"
     ]
    }
   ],
   "source": [
    "lists=[]\n",
    "for value in range(1,10):\n",
    "    lists.append(value**3)\n",
    "\n",
    "print(lists)\n",
    "for value in lists:\n",
    "    print(value)\n"
   ]
  },
  {
   "cell_type": "markdown",
   "id": "be517cff-6e89-4509-9be5-0c5031e9fb03",
   "metadata": {},
   "source": [
    "## 4.4 使用列表的一部分"
   ]
  },
  {
   "cell_type": "markdown",
   "id": "2a3ab63b-880c-45fb-b3da-1fa254ea8421",
   "metadata": {},
   "source": [
    "### 4.4.1 切片"
   ]
  },
  {
   "cell_type": "code",
   "execution_count": 90,
   "id": "e64f7ff3-6d81-40ca-ac70-47fdc88b6ac8",
   "metadata": {},
   "outputs": [
    {
     "name": "stdout",
     "output_type": "stream",
     "text": [
      "['chaeles', 'martina', 'michael']\n",
      "['martina', 'michael', 'florence']\n",
      "['chaeles', 'martina', 'michael', 'florence']\n",
      "['chaeles', 'martina', 'michael', 'florence', 'eli']\n",
      "['michael', 'florence', 'eli']\n",
      "['michael', 'florence', 'eli']\n"
     ]
    }
   ],
   "source": [
    "players=['chaeles','martina','michael','florence','eli']\n",
    "print(players[0:3])\n",
    "print(players[1:4])\n",
    "print(players[:4])\n",
    "print(players[:])\n",
    "print(players[2:])\n",
    "print(players[-3:])\n"
   ]
  },
  {
   "cell_type": "markdown",
   "id": "f6568bce-0d60-4021-beff-0b3504fc3137",
   "metadata": {},
   "source": [
    "### 4.4.2 遍历切片"
   ]
  },
  {
   "cell_type": "code",
   "execution_count": 91,
   "id": "3503746c-8c6b-4861-971c-ab9d6d4cdc04",
   "metadata": {},
   "outputs": [
    {
     "name": "stdout",
     "output_type": "stream",
     "text": [
      "Here are the first three players on my team:\n",
      "Charles\n",
      "Maetina\n",
      "Michael\n"
     ]
    }
   ],
   "source": [
    "players=['charles','maetina','michael','florence','eli']\n",
    "print(\"Here are the first three players on my team:\")\n",
    "for player in players[:3]:\n",
    "    print(player.title())"
   ]
  },
  {
   "cell_type": "markdown",
   "id": "af95adbc-ecb2-439f-ab78-3341a92e45f2",
   "metadata": {},
   "source": [
    "### 4.4.3复制列表"
   ]
  },
  {
   "cell_type": "code",
   "execution_count": 1,
   "id": "8916a7a2-1848-4086-9716-92ec2d63331b",
   "metadata": {},
   "outputs": [
    {
     "name": "stdout",
     "output_type": "stream",
     "text": [
      "My favorite foods are:\n",
      "['pizza', 'falafel', 'carrot cake']\n",
      "My friend's favorite foods are:\n",
      "['pizza', 'falafel', 'carrot cake']\n"
     ]
    }
   ],
   "source": [
    "my_foods=['pizza','falafel','carrot cake']\n",
    "friend_foods=my_foods[:]\n",
    "print(\"My favorite foods are:\")\n",
    "print(my_foods)\n",
    "print(\"My friend's favorite foods are:\")\n",
    "print(friend_foods)"
   ]
  },
  {
   "cell_type": "code",
   "execution_count": 2,
   "id": "eaf46495-ee77-4e23-b514-00227f15795d",
   "metadata": {},
   "outputs": [
    {
     "name": "stdout",
     "output_type": "stream",
     "text": [
      "My favorite foods are:\n",
      "['pizza', 'falafel', 'carrot cake', 'cannoli']\n",
      "My friend's favorite foods are:\n",
      "['pizza', 'falafel', 'carrot cake', 'ice cream']\n"
     ]
    }
   ],
   "source": [
    "my_foods=['pizza','falafel','carrot cake']\n",
    "friend_foods=my_foods[:]\n",
    "my_foods.append('cannoli')\n",
    "friend_foods.append('ice cream')\n",
    "print(\"My favorite foods are:\")\n",
    "print(my_foods)\n",
    "print(\"My friend's favorite foods are:\")\n",
    "print(friend_foods)"
   ]
  },
  {
   "cell_type": "code",
   "execution_count": 3,
   "id": "16d23814-f1b4-4233-a2a5-bec42f3c1b10",
   "metadata": {},
   "outputs": [
    {
     "name": "stdout",
     "output_type": "stream",
     "text": [
      "My favorite foods are:\n",
      "['pizza', 'falafel', 'carrot cake', 'cannoli', 'ice cream']\n",
      "My friend's favorite foods are:\n",
      "['pizza', 'falafel', 'carrot cake', 'cannoli', 'ice cream']\n"
     ]
    }
   ],
   "source": [
    "my_foods=['pizza','falafel','carrot cake']\n",
    "#这是行不通的：\n",
    "friend_foods=my_foods\n",
    "my_foods.append('cannoli')\n",
    "friend_foods.append('ice cream')\n",
    "print(\"My favorite foods are:\")\n",
    "print(my_foods)\n",
    "print(\"My friend's favorite foods are:\")\n",
    "print(friend_foods)\n"
   ]
  },
  {
   "cell_type": "markdown",
   "id": "a5c853af-b53d-4490-96d4-c71a0c8ea0c6",
   "metadata": {},
   "source": [
    "# 课后练习——动手试一试"
   ]
  },
  {
   "cell_type": "markdown",
   "id": "ff8ce154-7474-432b-945c-a797c01edb6c",
   "metadata": {},
   "source": [
    "## 练习 4.10：切片"
   ]
  },
  {
   "cell_type": "code",
   "execution_count": 23,
   "id": "7691c6a2-f6d2-4d49-b8a2-c2e6cc12bf73",
   "metadata": {},
   "outputs": [
    {
     "name": "stdout",
     "output_type": "stream",
     "text": [
      "The first three items in the list are:\n",
      "['book', 'ice cream', 'bottle']\n",
      "Three items from the middle of the list are:\n",
      "['ice cream', 'bottle', 'noodle']\n",
      "The last three items in the list are:\n",
      "['ice cream', 'bottle', 'noodle']\n"
     ]
    }
   ],
   "source": [
    "items=['book','ice cream','bottle','noodle']\n",
    "print(\"The first three items in the list are:\")\n",
    "print(items[0:3])\n",
    "\n",
    "print(\"Three items from the middle of the list are:\")\n",
    "print(items[1:4])\n",
    "\n",
    "print(\"The last three items in the list are:\")\n",
    "print(items[1:4])"
   ]
  },
  {
   "cell_type": "markdown",
   "id": "080d8bd2-2d00-40d0-b9d9-b2ca3718ae46",
   "metadata": {},
   "source": [
    "## 练习4.11 ：你的比萨，我的比萨"
   ]
  },
  {
   "cell_type": "code",
   "execution_count": 24,
   "id": "0f517b68-96d0-4cd6-8e98-73d65b2f6fec",
   "metadata": {},
   "outputs": [
    {
     "name": "stdout",
     "output_type": "stream",
     "text": [
      "My favorite foods are:\n",
      "['pizza', 'falafel', 'carrot cake', 'cannoli']\n",
      "My friend's favorite foods are:\n",
      "['pizza', 'falafel', 'carrot cake', 'ice cream']\n"
     ]
    }
   ],
   "source": [
    "my_foods=['pizza','falafel','carrot cake']\n",
    "friend_foods=my_foods[:]\n",
    "my_foods.append('cannoli')\n",
    "friend_foods.append('ice cream')\n",
    "print(\"My favorite foods are:\")\n",
    "print(my_foods)\n",
    "print(\"My friend's favorite foods are:\")\n",
    "print(friend_foods)"
   ]
  },
  {
   "cell_type": "markdown",
   "id": "290805ad-9056-4d9b-9b30-edbb52dcfe39",
   "metadata": {},
   "source": [
    "## 4.5 元组"
   ]
  },
  {
   "cell_type": "markdown",
   "id": "84dc8af8-ff1f-4ff2-be76-9a1bcad4fcf1",
   "metadata": {},
   "source": [
    "元组：不可修改值的列表。用（）表示"
   ]
  },
  {
   "cell_type": "markdown",
   "id": "6e5300a2-43a6-4876-a0b9-4969193dc595",
   "metadata": {},
   "source": [
    "### 4.5.1 定义元组"
   ]
  },
  {
   "cell_type": "code",
   "execution_count": 9,
   "id": "df76b022-9e44-4ae8-8611-af8a787cefb1",
   "metadata": {},
   "outputs": [
    {
     "name": "stdout",
     "output_type": "stream",
     "text": [
      "200\n",
      "50\n"
     ]
    }
   ],
   "source": [
    "dimensions=(200,50)\n",
    "print(dimensions[0])\n",
    "print(dimensions[1])"
   ]
  },
  {
   "cell_type": "markdown",
   "id": "c8270843-670e-4952-8969-a08954ad8854",
   "metadata": {},
   "source": [
    "### 4.5.2 遍历元组中的所有值"
   ]
  },
  {
   "cell_type": "code",
   "execution_count": 3,
   "id": "cc22ba4f-e0d1-4e72-8497-566abdd442a3",
   "metadata": {},
   "outputs": [
    {
     "name": "stdout",
     "output_type": "stream",
     "text": [
      "200\n",
      "50\n"
     ]
    }
   ],
   "source": [
    "dimensions=(200,50)\n",
    "for dimension in dimensions:\n",
    "    print(dimension)"
   ]
  },
  {
   "cell_type": "markdown",
   "id": "4532aaf5-7a95-4593-8868-4b8630cc51d9",
   "metadata": {},
   "source": [
    "### 4.5.3修改元组变量"
   ]
  },
  {
   "cell_type": "code",
   "execution_count": 4,
   "id": "4ba8c3ed-6724-4ba0-9363-6155591d294d",
   "metadata": {},
   "outputs": [
    {
     "name": "stdout",
     "output_type": "stream",
     "text": [
      "origional dimensions:\n",
      "200\n",
      "50\n",
      "\n",
      "Modified dimensions:\n",
      "400\n",
      "100\n"
     ]
    }
   ],
   "source": [
    "dimensions=(200,50)\n",
    "print(\"origional dimensions:\")\n",
    "for dimension in dimensions:\n",
    "    print(dimension)\n",
    "\n",
    "dimensions=(400,100)\n",
    "print(\"\\nModified dimensions:\")\n",
    "for dimension in dimensions:\n",
    "    print(dimension)"
   ]
  },
  {
   "cell_type": "markdown",
   "id": "2d09673c-4efc-495e-8af2-6e3a1fad56e8",
   "metadata": {},
   "source": [
    "# 课后练习——动手试一试"
   ]
  },
  {
   "cell_type": "markdown",
   "id": "ab6c3fb8-3f9a-42e4-aefb-ab9fdb61dfb7",
   "metadata": {},
   "source": [
    "## 练习4.13 ：自助餐"
   ]
  },
  {
   "cell_type": "code",
   "execution_count": 25,
   "id": "7eafc569-4ed6-40f0-8836-582141d97467",
   "metadata": {},
   "outputs": [
    {
     "name": "stdout",
     "output_type": "stream",
     "text": [
      "rice\n",
      "potato\n",
      "tomato\n",
      "carrot\n",
      "onion\n"
     ]
    }
   ],
   "source": [
    "foods=('rice','potato','tomato','carrot','onion')\n",
    "for food in foods:\n",
    "    print(food)"
   ]
  },
  {
   "cell_type": "code",
   "execution_count": 31,
   "id": "bf28227c-6ae7-450c-b6fc-4cecc3adb379",
   "metadata": {},
   "outputs": [
    {
     "name": "stdout",
     "output_type": "stream",
     "text": [
      "Origional food:\n",
      "rice\n",
      "potato\n",
      "tomato\n",
      "carrot\n",
      "onion\n",
      "\n",
      "Modified_food:\n",
      "rice\n",
      "pizza\n",
      "tomato\n",
      "carrot\n",
      "water\n"
     ]
    }
   ],
   "source": [
    "foods=('rice','potato','tomato','carrot','onion')\n",
    "print(\"Origional food:\")\n",
    "for food in foods:\n",
    "    print(food)\n",
    "\n",
    "modified_foods=('rice','pizza','tomato','carrot','water')\n",
    "print(\"\\nModified_food:\")\n",
    "for food in modified_foods:\n",
    "    print(food)"
   ]
  },
  {
   "cell_type": "code",
   "execution_count": null,
   "id": "3734e74f-16b4-4b5c-a97c-d5fd023dc8f1",
   "metadata": {},
   "outputs": [],
   "source": []
  }
 ],
 "metadata": {
  "kernelspec": {
   "display_name": "Python 3 (ipykernel)",
   "language": "python",
   "name": "python3"
  },
  "language_info": {
   "codemirror_mode": {
    "name": "ipython",
    "version": 3
   },
   "file_extension": ".py",
   "mimetype": "text/x-python",
   "name": "python",
   "nbconvert_exporter": "python",
   "pygments_lexer": "ipython3",
   "version": "3.11.7"
  }
 },
 "nbformat": 4,
 "nbformat_minor": 5
}
