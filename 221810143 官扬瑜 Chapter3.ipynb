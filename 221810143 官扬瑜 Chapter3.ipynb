{
 "cells": [
  {
   "cell_type": "markdown",
   "id": "d03d1fd4-eee3-4162-bec2-24f459b000e6",
   "metadata": {},
   "source": [
    "# 第3章 列表简介"
   ]
  },
  {
   "cell_type": "markdown",
   "id": "e30bd14e-cf52-4f8c-9c32-ca7de0606aa8",
   "metadata": {},
   "source": [
    "## 3.1 列表是什么"
   ]
  },
  {
   "cell_type": "markdown",
   "id": "d243e7f8-c725-4963-b8c5-4f92bebb945a",
   "metadata": {},
   "source": [
    "在Python中，用[]表示列表，用,分割其中的元素"
   ]
  },
  {
   "cell_type": "code",
   "execution_count": 1,
   "id": "8b649ba6-fc55-44cb-a418-cf2753b316be",
   "metadata": {},
   "outputs": [
    {
     "name": "stdout",
     "output_type": "stream",
     "text": [
      "['trek', 'cannondale', 'redline', 'specilized']\n"
     ]
    }
   ],
   "source": [
    "bicycles=['trek','cannondale','redline','specilized']\n",
    "print(bicycles)"
   ]
  },
  {
   "cell_type": "markdown",
   "id": "6c728468-4293-488c-ba38-61af2a17e6e9",
   "metadata": {},
   "source": [
    "### 3.1.1 访问列表元素"
   ]
  },
  {
   "cell_type": "markdown",
   "id": "32cc06fc-d4f4-41d8-b14d-040eba7e6434",
   "metadata": {},
   "source": [
    "要访问列表元素，首先指出列表名称，再用[]将想要访问的索引括起来"
   ]
  },
  {
   "cell_type": "code",
   "execution_count": 2,
   "id": "b06ece47-e252-46b3-96e8-9b7b3191d375",
   "metadata": {},
   "outputs": [
    {
     "name": "stdout",
     "output_type": "stream",
     "text": [
      "trek\n"
     ]
    }
   ],
   "source": [
    "bicycles=['trek','cannondale','redline','specilized']\n",
    "print(bicycles[0])"
   ]
  },
  {
   "cell_type": "code",
   "execution_count": 3,
   "id": "34558cd8-5dac-49af-8c8a-e9dcd66674ff",
   "metadata": {},
   "outputs": [
    {
     "name": "stdout",
     "output_type": "stream",
     "text": [
      "Trek\n"
     ]
    }
   ],
   "source": [
    "bicycles=['trek','cannondale','redline','specilized']\n",
    "print(bicycles[0].title())"
   ]
  },
  {
   "cell_type": "markdown",
   "id": "b727da29-3564-4326-9d4a-b4cbf7cfeed0",
   "metadata": {},
   "source": [
    "### 3.1.2 索引从0而不是1开始"
   ]
  },
  {
   "cell_type": "markdown",
   "id": "5153b3cf-8c12-4f52-9781-161ab2945c93",
   "metadata": {},
   "source": [
    "差一：位置-1即为索引数"
   ]
  },
  {
   "cell_type": "code",
   "execution_count": 4,
   "id": "550b9d5a-8dfa-4dc0-bb1b-27d905b403c9",
   "metadata": {},
   "outputs": [
    {
     "name": "stdout",
     "output_type": "stream",
     "text": [
      "cannondale\n",
      "specilized\n"
     ]
    }
   ],
   "source": [
    "bicycles=['trek','cannondale','redline','specilized']\n",
    "print(bicycles[1])\n",
    "print(bicycles[3])"
   ]
  },
  {
   "cell_type": "markdown",
   "id": "32f7d2fc-6d2a-4589-a066-6e9d8efff65b",
   "metadata": {},
   "source": [
    "列表最后一个位置的索引可用-1直接表示"
   ]
  },
  {
   "cell_type": "code",
   "execution_count": 5,
   "id": "c713484e-9e9b-4b8a-a159-06810a82f35f",
   "metadata": {},
   "outputs": [
    {
     "name": "stdout",
     "output_type": "stream",
     "text": [
      "specilized\n"
     ]
    }
   ],
   "source": [
    "bicycles=['trek','cannondale','redline','specilized']\n",
    "print(bicycles[-1])"
   ]
  },
  {
   "cell_type": "markdown",
   "id": "23b49679-f89b-480f-8c19-56c9c2238f9c",
   "metadata": {},
   "source": [
    "### 3.1.3 使用列表中的各个值"
   ]
  },
  {
   "cell_type": "code",
   "execution_count": 3,
   "id": "bcc11847-2f4d-430f-aed7-8def67fa10d3",
   "metadata": {},
   "outputs": [
    {
     "name": "stdout",
     "output_type": "stream",
     "text": [
      "my favorite was a Trek.\n"
     ]
    }
   ],
   "source": [
    "bicycles=['trek','cannondale','realine','specilized']\n",
    "message=f\"my favorite was a {bicycles[0].title()}.\"\n",
    "print(message)"
   ]
  },
  {
   "cell_type": "markdown",
   "id": "a8e93584-c0ee-401c-a317-04fd3bf71bc6",
   "metadata": {},
   "source": [
    "# 课后练习——动手试一试"
   ]
  },
  {
   "cell_type": "markdown",
   "id": "9ff56c70-00c6-47ea-bfe1-174cd49fe7b6",
   "metadata": {},
   "source": [
    "## 练习3.1、3.2：姓名、问候语"
   ]
  },
  {
   "cell_type": "code",
   "execution_count": 14,
   "id": "230076db-e297-4821-ac93-7a8eee95a7d6",
   "metadata": {},
   "outputs": [
    {
     "name": "stdout",
     "output_type": "stream",
     "text": [
      "huitong\n",
      "Hi,Huitong,happy everyday!\n"
     ]
    }
   ],
   "source": [
    "names=['huitong','ruixue','fannan']\n",
    "print(names[0])\n",
    "message=f\"Hi,{names[0].title()},happy everyday!\"\n",
    "print(message)\n"
   ]
  },
  {
   "cell_type": "markdown",
   "id": "b02ce980-de1c-4ebc-82cb-9539da1620c7",
   "metadata": {},
   "source": [
    "## 练习3.3：自己的列表"
   ]
  },
  {
   "cell_type": "code",
   "execution_count": 4,
   "id": "d14aca0e-d5fa-4c6d-8c33-df7481df4278",
   "metadata": {},
   "outputs": [
    {
     "name": "stdout",
     "output_type": "stream",
     "text": [
      "I'd like to walking to school.\n"
     ]
    }
   ],
   "source": [
    "ways=['walking','biking','flying']\n",
    "print(f\"I'd like to {ways[0]} to school.\") "
   ]
  },
  {
   "cell_type": "markdown",
   "id": "6ff47835-af4c-4c7b-bb54-338e2cc3abf7",
   "metadata": {},
   "source": [
    "## 3.2 修改、添加和删除元素"
   ]
  },
  {
   "cell_type": "markdown",
   "id": "5e053d29-bb9b-4edc-8f08-d11922971b14",
   "metadata": {},
   "source": [
    "### 3.2.1 修改列表元素"
   ]
  },
  {
   "cell_type": "markdown",
   "id": "39459e6a-cc12-48ae-bf91-1124be5c3b27",
   "metadata": {},
   "source": [
    "修改列表元素与访问列表元素类似，需要指出所要修改的列表名称及要修改的索引，再指出在该索引上的新值"
   ]
  },
  {
   "cell_type": "code",
   "execution_count": 15,
   "id": "b1d65be6-63b1-4eb8-b2a0-e057e9dfec5e",
   "metadata": {},
   "outputs": [
    {
     "name": "stdout",
     "output_type": "stream",
     "text": [
      "['honda', 'yamaha', 'suzuki']\n",
      "['ducati', 'yamaha', 'suzuki']\n"
     ]
    }
   ],
   "source": [
    "motorcycles=['honda','yamaha','suzuki']\n",
    "print(motorcycles)\n",
    "\n",
    "motorcycles[0]='ducati'\n",
    "print(motorcycles)"
   ]
  },
  {
   "cell_type": "code",
   "execution_count": 16,
   "id": "d3faf02a-015c-4f69-b75b-9564e63af786",
   "metadata": {},
   "outputs": [
    {
     "data": {
      "text/plain": [
       "['ducati', 'yamaha', 'suzuki']"
      ]
     },
     "execution_count": 16,
     "metadata": {},
     "output_type": "execute_result"
    }
   ],
   "source": [
    "['honda','yamaha','suzuki']\n",
    "['ducati','yamaha','suzuki']"
   ]
  },
  {
   "cell_type": "markdown",
   "id": "83639ddc-76e5-44ae-90cc-3f2e4ad33421",
   "metadata": {},
   "source": [
    "### 3.2.2 在列表中添加元素"
   ]
  },
  {
   "cell_type": "markdown",
   "id": "89d1aa92-5175-4bdc-9fed-625b3d573733",
   "metadata": {},
   "source": [
    "1.在列表末尾添加元素：用.append()"
   ]
  },
  {
   "cell_type": "code",
   "execution_count": 6,
   "id": "92467acc-3f51-4791-a011-e2fbda48eec8",
   "metadata": {},
   "outputs": [
    {
     "name": "stdout",
     "output_type": "stream",
     "text": [
      "['honda', 'yamaha', 'suzuki']\n",
      "['honda', 'yamaha', 'suzuki', 'ducati']\n"
     ]
    }
   ],
   "source": [
    "motorcycles=['honda','yamaha','suzuki']\n",
    "print(motorcycles)\n",
    "\n",
    "motorcycles.append(\"ducati\")\n",
    "print(motorcycles)\n",
    "\n"
   ]
  },
  {
   "cell_type": "code",
   "execution_count": 4,
   "id": "0b6b2e3b-9ef6-49a2-9633-6d1e3b8e7123",
   "metadata": {},
   "outputs": [
    {
     "name": "stdout",
     "output_type": "stream",
     "text": [
      "['honda', 'yamaha', 'suzuki']\n"
     ]
    }
   ],
   "source": [
    "motorcycles=[]\n",
    "\n",
    "motorcycles.append('honda')\n",
    "motorcycles.append('yamaha')\n",
    "motorcycles.append('suzuki')\n",
    "\n",
    "print(motorcycles)               "
   ]
  },
  {
   "cell_type": "markdown",
   "id": "dade5e78-061c-4ef3-87f6-40d9733cf91b",
   "metadata": {},
   "source": [
    "2.在列表中插入元素，用.insert()"
   ]
  },
  {
   "cell_type": "code",
   "execution_count": 7,
   "id": "8d5c6337-5938-40cd-ac85-022547da91c4",
   "metadata": {},
   "outputs": [
    {
     "name": "stdout",
     "output_type": "stream",
     "text": [
      "['ducati', 'honda', 'haha', 'yamaha', 'suzuki']\n"
     ]
    }
   ],
   "source": [
    "motorcycles=['honda','yamaha','suzuki']\n",
    "motorcycles.insert(0,'ducati')\n",
    "\n",
    "motorcycles.insert(2,'haha')\n",
    "print(motorcycles)"
   ]
  },
  {
   "cell_type": "markdown",
   "id": "004866a2-ba19-4be6-810c-0ccd899506da",
   "metadata": {},
   "source": [
    "### 3.2.3 从列表中删除元素"
   ]
  },
  {
   "cell_type": "markdown",
   "id": "2ba109de-7dfe-4bcb-8732-334d7654d7a5",
   "metadata": {},
   "source": [
    "del和pop都可以实现列表元素的减少，且都为彻底从列表中删除；区别在于使用del为永久删除，且不提出那个值；而如果要使用提出的值则用pop；如果不知道值所在的位置，只知道内容，则可以使用.remove()"
   ]
  },
  {
   "cell_type": "code",
   "execution_count": 8,
   "id": "3d88d4c0-26ec-4bfe-89c4-ba67a8f0c0ba",
   "metadata": {},
   "outputs": [
    {
     "name": "stdout",
     "output_type": "stream",
     "text": [
      "['honda', 'yamaha', 'suzuki']\n",
      "['yamaha', 'suzuki']\n"
     ]
    }
   ],
   "source": [
    "#如果知道要删除的元素在列表中的位置，可使用del语句；但使用del语句删除为永久删除\n",
    "motorcycles=['honda','yamaha','suzuki']\n",
    "print(motorcycles)\n",
    "\n",
    "del motorcycles[0]\n",
    "print(motorcycles)"
   ]
  },
  {
   "cell_type": "code",
   "execution_count": 9,
   "id": "85ae4380-ab16-486e-9c8b-07dc11411040",
   "metadata": {},
   "outputs": [
    {
     "name": "stdout",
     "output_type": "stream",
     "text": [
      "['honda', 'yamaha']\n"
     ]
    }
   ],
   "source": [
    "motorcycles=['honda','yamaha','suzuki']\n",
    "del motorcycles[2]\n",
    "print(motorcycles)"
   ]
  },
  {
   "cell_type": "code",
   "execution_count": 9,
   "id": "faf4e699-6251-4df7-9206-ee748e560e5a",
   "metadata": {},
   "outputs": [
    {
     "name": "stdout",
     "output_type": "stream",
     "text": [
      "['honda', 'yamaha', 'suzuki']\n",
      "['honda', 'yamaha']\n",
      "suzuki\n"
     ]
    }
   ],
   "source": [
    "#使用pop()方法删除：弹出——即将元素从列表删除，并能够接着使用它\n",
    "motorcycles=['honda','yamaha','suzuki']\n",
    "print(motorcycles)\n",
    "popped_motorcycle=motorcycles.pop()\n",
    "\n",
    "print(motorcycles)\n",
    "print(popped_motorcycle)\n"
   ]
  },
  {
   "cell_type": "code",
   "execution_count": 25,
   "id": "eb9d8857-d2bf-4ee8-8dbb-d1bc2b1a4cd1",
   "metadata": {},
   "outputs": [
    {
     "name": "stdout",
     "output_type": "stream",
     "text": [
      "My last_owned motorbike is Suzuki.\n"
     ]
    }
   ],
   "source": [
    "motorcycles=['honda','yamaha','suzuki']\n",
    "last_owned=motorcycles.pop()\n",
    "message=f\"My last_owned motorbike is {last_owned.title()}.\"\n",
    "print(message)"
   ]
  },
  {
   "cell_type": "code",
   "execution_count": 10,
   "id": "fa254e08-628a-49df-a5b5-490d940138cb",
   "metadata": {},
   "outputs": [
    {
     "name": "stdout",
     "output_type": "stream",
     "text": [
      "My first-owned motorbike was a Honda.\n"
     ]
    }
   ],
   "source": [
    "#使用pop()弹出时，假设（）中不填索引，则从最后开始弹出；使用索引则可以弹出想要弹出的值\n",
    "motorcycles=['honda','yamaha','suzuki']\n",
    "first_owned=motorcycles.pop(0)\n",
    "print(f\"My first-owned motorbike was a {first_owned.title()}.\")"
   ]
  },
  {
   "cell_type": "code",
   "execution_count": 28,
   "id": "51ee121a-5773-417f-80b0-8e41147c91d3",
   "metadata": {},
   "outputs": [
    {
     "name": "stdout",
     "output_type": "stream",
     "text": [
      "['honda', 'yamaha', 'suzuki']\n",
      "['honda', 'suzuki']\n"
     ]
    }
   ],
   "source": [
    "#根据值删除元素：.remove();即不知道值所在的位置，只知道内容\n",
    "motorcycles=['honda','yamaha','suzuki']\n",
    "print(motorcycles)\n",
    "motorcycles.remove('yamaha')\n",
    "print(motorcycles)"
   ]
  },
  {
   "cell_type": "code",
   "execution_count": 31,
   "id": "8ca4f1ec-31b4-4740-b09d-d72597e3c5d8",
   "metadata": {},
   "outputs": [
    {
     "name": "stdout",
     "output_type": "stream",
     "text": [
      "['honda', 'yamaha', 'suzuki', 'ducati']\n",
      "['honda', 'yamaha', 'suzuki']\n",
      "\n",
      "A Ducati is too expensive to me\n"
     ]
    }
   ],
   "source": [
    "motorcycles=['honda','yamaha','suzuki','ducati']\n",
    "print(motorcycles)\n",
    "\n",
    "too_expensive='ducati'\n",
    "motorcycles.remove(too_expensive)\n",
    "print(motorcycles)\n",
    "print(f\"\\nA {too_expensive.title()} is too expensive to me\")"
   ]
  },
  {
   "cell_type": "markdown",
   "id": "6380b185-de6f-482e-98bf-23cb9b25199b",
   "metadata": {},
   "source": [
    "# 课后练习——动手试一试"
   ]
  },
  {
   "cell_type": "markdown",
   "id": "aeb84ffd-4525-485f-b9c5-3a5a858f1b01",
   "metadata": {},
   "source": [
    "## 练习3.4：嘉宾名单"
   ]
  },
  {
   "cell_type": "code",
   "execution_count": 32,
   "id": "8c308bf8-05ac-4630-bc05-9afa79df99eb",
   "metadata": {},
   "outputs": [
    {
     "name": "stdout",
     "output_type": "stream",
     "text": [
      "Gwh,May I invite you have dinner with me?\n"
     ]
    }
   ],
   "source": [
    "names=['gwh','tt','ruixue','ll']\n",
    "print(f\"{names[0].title()},May I invite you have dinner with me?\")"
   ]
  },
  {
   "cell_type": "markdown",
   "id": "079bb1b3-9f9e-44bc-8184-fe7cfd06a6a0",
   "metadata": {},
   "source": [
    "## 练习3.5、3.6：修改嘉宾名单、添加嘉宾"
   ]
  },
  {
   "cell_type": "code",
   "execution_count": 47,
   "id": "a5d35923-3248-41ff-a5da-c1dedb30436d",
   "metadata": {},
   "outputs": [
    {
     "name": "stdout",
     "output_type": "stream",
     "text": [
      "['tt', 'yintong', 'ruixue', 'll', 'liuli']\n"
     ]
    }
   ],
   "source": [
    "names=['gwh','tt','ruixue','ll']\n",
    "names.pop(0)\n",
    "names.insert(1,'yintong')\n",
    "names.append('liuli')\n",
    "print(names)"
   ]
  },
  {
   "cell_type": "markdown",
   "id": "fd15abfa-aeac-4a71-a2b8-9cc47b8ae2cc",
   "metadata": {},
   "source": [
    "## 练习3.7：缩短名单"
   ]
  },
  {
   "cell_type": "code",
   "execution_count": 12,
   "id": "7c594751-c37b-4134-b0c0-93b6de26c048",
   "metadata": {},
   "outputs": [
    {
     "name": "stdout",
     "output_type": "stream",
     "text": [
      "['tt', 'ruixue', 'll', 'liuyi']\n",
      "Yintong,I am sorry.\n",
      "['tt', 'ruixue', 'll']\n",
      "Liuyi, I am sorry.\n",
      "['tt', 'll']\n",
      "Ruixue, I am sorry.\n",
      "['tt', 'll'],Welcome!\n"
     ]
    }
   ],
   "source": [
    "names=['tt','yintong','ruixue','ll','liuyi']\n",
    "a=names.pop(1)\n",
    "print(names)\n",
    "print(f\"{a.title()},I am sorry.\")\n",
    "b=names.pop(3)\n",
    "print(names)\n",
    "print(f\"{b.title()}, I am sorry.\")\n",
    "c=names.pop(1)\n",
    "print(names)\n",
    "print(f\"{c.title()}, I am sorry.\")\n",
    "print(f\"{names},Welcome!\")\n"
   ]
  },
  {
   "cell_type": "markdown",
   "id": "d94dcf9b-0b4c-490c-b2de-acc9939c1adc",
   "metadata": {},
   "source": [
    "## 3.3 管理列表"
   ]
  },
  {
   "cell_type": "markdown",
   "id": "fbbc048b-8f76-43c8-b575-40a9c9b77127",
   "metadata": {},
   "source": [
    "### 3.3.1 使用sort()方法对列表进行永久排序"
   ]
  },
  {
   "cell_type": "code",
   "execution_count": 66,
   "id": "adfd85e7-af26-4b1b-887c-914c6367864e",
   "metadata": {},
   "outputs": [
    {
     "name": "stdout",
     "output_type": "stream",
     "text": [
      "['audi', 'bmw', 'subaru', 'toyota']\n"
     ]
    }
   ],
   "source": [
    "cars=['bmw','audi','toyota','subaru']\n",
    "cars.sort()\n",
    "print(cars)"
   ]
  },
  {
   "cell_type": "code",
   "execution_count": 67,
   "id": "a05c99ad-b8b6-4872-b4fb-88ae689fb966",
   "metadata": {},
   "outputs": [
    {
     "name": "stdout",
     "output_type": "stream",
     "text": [
      "['toyota', 'subaru', 'bmw', 'audi']\n"
     ]
    }
   ],
   "source": [
    "cars=['bmw','audi','toyota','subaru']\n",
    "cars.sort(reverse=True)\n",
    "print(cars)"
   ]
  },
  {
   "cell_type": "markdown",
   "id": "6606f551-16a4-446d-99e2-e59c7a9ccc63",
   "metadata": {},
   "source": [
    "### 3.2.2 使用sorted()函数对列表进行临时排序"
   ]
  },
  {
   "cell_type": "code",
   "execution_count": 68,
   "id": "800798ee-759c-4eb7-9f8d-8cf3d2435f44",
   "metadata": {},
   "outputs": [
    {
     "name": "stdout",
     "output_type": "stream",
     "text": [
      "Here is the original list:\n",
      "['bmw', 'audi', 'toyota', 'subaru']\n",
      "Where is the sorted list?\n",
      "['audi', 'bmw', 'subaru', 'toyota']\n",
      "Where is the original list again?\n",
      "['bmw', 'audi', 'toyota', 'subaru']\n"
     ]
    }
   ],
   "source": [
    "cars=['bmw','audi','toyota','subaru']\n",
    "print(\"Here is the original list:\")\n",
    "print(cars)\n",
    "print(\"Where is the sorted list?\")\n",
    "print(sorted(cars))\n",
    "print(\"Where is the original list again?\")\n",
    "print(cars)"
   ]
  },
  {
   "cell_type": "markdown",
   "id": "5b9769ad-f929-4fe4-88fc-ffaec5859cdf",
   "metadata": {},
   "source": [
    "### 3.3.3 反向打印列表"
   ]
  },
  {
   "cell_type": "code",
   "execution_count": 1,
   "id": "e9119e63-c14c-4c97-97dc-138f082c6b2b",
   "metadata": {},
   "outputs": [
    {
     "name": "stdout",
     "output_type": "stream",
     "text": [
      "['bmw', 'audi', 'toyota', 'subaru']\n",
      "['subaru', 'toyota', 'audi', 'bmw']\n"
     ]
    }
   ],
   "source": [
    "cars=['bmw','audi','toyota','subaru']\n",
    "print(cars)\n",
    "cars.reverse()\n",
    "print(cars)"
   ]
  },
  {
   "cell_type": "markdown",
   "id": "c477f8d0-3623-4a9c-8f6c-b377ed7c13ea",
   "metadata": {},
   "source": [
    "### 3.3.4 确定列表的长度"
   ]
  },
  {
   "cell_type": "code",
   "execution_count": 2,
   "id": "c13d7b64-d3ba-4567-a845-384a3a6d7ab1",
   "metadata": {},
   "outputs": [
    {
     "data": {
      "text/plain": [
       "4"
      ]
     },
     "execution_count": 2,
     "metadata": {},
     "output_type": "execute_result"
    }
   ],
   "source": [
    "cars=['bwm','audi','toyota','subaru']\n",
    "len(cars)"
   ]
  },
  {
   "cell_type": "markdown",
   "id": "62650e18-dc87-4296-a954-8360208bb5a0",
   "metadata": {},
   "source": [
    "# 课后练习——动手试一试"
   ]
  },
  {
   "cell_type": "markdown",
   "id": "2d91bab5-6747-403d-b9b0-815707fa823f",
   "metadata": {},
   "source": [
    "## 练习3.8：放眼世界"
   ]
  },
  {
   "cell_type": "code",
   "execution_count": 16,
   "id": "b54e6fa8-8898-4a4d-8e28-6bec175e291c",
   "metadata": {},
   "outputs": [
    {
     "name": "stdout",
     "output_type": "stream",
     "text": [
      "['chengdu', 'chongqing', 'xian', 'beijing', 'sanya']\n",
      "['sanya', 'beijing', 'xian', 'chongqing', 'chengdu']\n",
      "['beijing', 'chengdu', 'chongqing', 'sanya', 'xian']\n",
      "['xian', 'sanya', 'chongqing', 'chengdu', 'beijing']\n"
     ]
    }
   ],
   "source": [
    "places=['chengdu','chongqing','xian','beijing','sanya']\n",
    "print(places)\n",
    "\n",
    "\n",
    "\n",
    "places.reverse()\n",
    "print(places)\n",
    "\n",
    "print(sorted(places))\n",
    "\n",
    "places.sort(reverse=True)\n",
    "print(places)\n",
    "\n"
   ]
  },
  {
   "cell_type": "markdown",
   "id": "fb554692-9cd3-45d1-b51f-2ae663bb9294",
   "metadata": {},
   "source": [
    "## 练习3.9：晚餐嘉宾"
   ]
  },
  {
   "cell_type": "code",
   "execution_count": 13,
   "id": "fcd2d051-1d01-40fa-be76-f856027a04aa",
   "metadata": {},
   "outputs": [
    {
     "data": {
      "text/plain": [
       "5"
      ]
     },
     "execution_count": 13,
     "metadata": {},
     "output_type": "execute_result"
    }
   ],
   "source": [
    "names=['tt','yintong','ruixue','ll','liuyi']\n",
    "len(names)"
   ]
  },
  {
   "cell_type": "markdown",
   "id": "46845ca2-b151-4b72-8327-0aa46a4180cd",
   "metadata": {},
   "source": [
    "## 3.4 使用列表时避免索引错误"
   ]
  },
  {
   "cell_type": "code",
   "execution_count": 14,
   "id": "8c3572e5-db3a-4f27-bd5b-107f271c1bb3",
   "metadata": {},
   "outputs": [
    {
     "ename": "IndexError",
     "evalue": "list index out of range",
     "output_type": "error",
     "traceback": [
      "\u001b[1;31m---------------------------------------------------------------------------\u001b[0m",
      "\u001b[1;31mIndexError\u001b[0m                                Traceback (most recent call last)",
      "Cell \u001b[1;32mIn[14], line 2\u001b[0m\n\u001b[0;32m      1\u001b[0m motorcycles\u001b[38;5;241m=\u001b[39m[\u001b[38;5;124m'\u001b[39m\u001b[38;5;124mhonda\u001b[39m\u001b[38;5;124m'\u001b[39m,\u001b[38;5;124m'\u001b[39m\u001b[38;5;124myamaha\u001b[39m\u001b[38;5;124m'\u001b[39m,\u001b[38;5;124m'\u001b[39m\u001b[38;5;124msuzuki\u001b[39m\u001b[38;5;124m'\u001b[39m]\n\u001b[1;32m----> 2\u001b[0m \u001b[38;5;28mprint\u001b[39m(motorcycles[\u001b[38;5;241m3\u001b[39m])\n",
      "\u001b[1;31mIndexError\u001b[0m: list index out of range"
     ]
    }
   ],
   "source": [
    "motorcycles=['honda','yamaha','suzuki']\n",
    "print(motorcycles[3])"
   ]
  },
  {
   "cell_type": "code",
   "execution_count": 15,
   "id": "733f700c-23c8-4138-95e2-e607304608b4",
   "metadata": {},
   "outputs": [
    {
     "name": "stdout",
     "output_type": "stream",
     "text": [
      "suzuki\n"
     ]
    }
   ],
   "source": [
    "motorcycles=['honda','yamaha','suzuki']\n",
    "print(motorcycles[-1])"
   ]
  },
  {
   "cell_type": "code",
   "execution_count": 18,
   "id": "08c03589-9753-4579-ac27-2ca529a78fcf",
   "metadata": {},
   "outputs": [
    {
     "ename": "IndexError",
     "evalue": "list index out of range",
     "output_type": "error",
     "traceback": [
      "\u001b[1;31m---------------------------------------------------------------------------\u001b[0m",
      "\u001b[1;31mIndexError\u001b[0m                                Traceback (most recent call last)",
      "Cell \u001b[1;32mIn[18], line 3\u001b[0m\n\u001b[0;32m      1\u001b[0m \u001b[38;5;66;03m#当列表为空时，访问任意元素（包括最后一个）也会出现错误\u001b[39;00m\n\u001b[0;32m      2\u001b[0m motorcycles\u001b[38;5;241m=\u001b[39m[]\n\u001b[1;32m----> 3\u001b[0m \u001b[38;5;28mprint\u001b[39m(motorcycles[\u001b[38;5;241m-\u001b[39m\u001b[38;5;241m1\u001b[39m])\n",
      "\u001b[1;31mIndexError\u001b[0m: list index out of range"
     ]
    }
   ],
   "source": [
    "#当列表为空时，访问任意元素（包括最后一个）也会出现错误\n",
    "motorcycles=[]\n",
    "print(motorcycles[-1])"
   ]
  },
  {
   "cell_type": "code",
   "execution_count": null,
   "id": "11db876d-d62e-438d-b847-83d4f87f2a8f",
   "metadata": {},
   "outputs": [],
   "source": []
  }
 ],
 "metadata": {
  "kernelspec": {
   "display_name": "Python 3 (ipykernel)",
   "language": "python",
   "name": "python3"
  },
  "language_info": {
   "codemirror_mode": {
    "name": "ipython",
    "version": 3
   },
   "file_extension": ".py",
   "mimetype": "text/x-python",
   "name": "python",
   "nbconvert_exporter": "python",
   "pygments_lexer": "ipython3",
   "version": "3.11.7"
  }
 },
 "nbformat": 4,
 "nbformat_minor": 5
}
