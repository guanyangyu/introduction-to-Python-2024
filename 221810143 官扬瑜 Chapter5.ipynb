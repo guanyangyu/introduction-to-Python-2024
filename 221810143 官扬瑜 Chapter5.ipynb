{
 "cells": [
  {
   "cell_type": "markdown",
   "id": "82caec76-4476-45a3-b340-a36f3fadb700",
   "metadata": {},
   "source": [
    "# 第五章 if 语句"
   ]
  },
  {
   "cell_type": "markdown",
   "id": "6293b922-1b8f-46d5-8b91-335ce22a4423",
   "metadata": {},
   "source": [
    "## 5.1 一个简单的示例"
   ]
  },
  {
   "cell_type": "code",
   "execution_count": 1,
   "id": "f7027773-ec42-4b35-966c-c472d8a879e0",
   "metadata": {},
   "outputs": [
    {
     "name": "stdout",
     "output_type": "stream",
     "text": [
      "Audi\n",
      "BMW\n",
      "Subaru\n",
      "Toyota\n"
     ]
    }
   ],
   "source": [
    "cars=['audi','bmw','subaru','toyota']\n",
    "for car in cars:\n",
    "    if car=='bmw':\n",
    "        print(car.upper())\n",
    "    else:\n",
    "        print(car.title())"
   ]
  },
  {
   "cell_type": "markdown",
   "id": "498b0920-b692-4196-8c20-efe3310ec53a",
   "metadata": {},
   "source": [
    "## 5.2 条件测试"
   ]
  },
  {
   "cell_type": "markdown",
   "id": "555a08a9-fcfd-4fad-899d-650b8b1134c3",
   "metadata": {},
   "source": [
    "### 5.2.1 检查是否相等"
   ]
  },
  {
   "cell_type": "code",
   "execution_count": 1,
   "id": "b3884928-e27d-4c2f-966e-5931411e582f",
   "metadata": {},
   "outputs": [
    {
     "data": {
      "text/plain": [
       "True"
      ]
     },
     "execution_count": 1,
     "metadata": {},
     "output_type": "execute_result"
    }
   ],
   "source": [
    "car='bwm'\n",
    "car=='bwm'"
   ]
  },
  {
   "cell_type": "code",
   "execution_count": 2,
   "id": "ad930847-c5bc-4ac9-98cd-08e7be103bf3",
   "metadata": {},
   "outputs": [
    {
     "data": {
      "text/plain": [
       "False"
      ]
     },
     "execution_count": 2,
     "metadata": {},
     "output_type": "execute_result"
    }
   ],
   "source": [
    "car='audi'\n",
    "car=='bwm'"
   ]
  },
  {
   "cell_type": "markdown",
   "id": "c14c5ae2-6c0b-4c3f-bb2b-dc8f02b0d745",
   "metadata": {},
   "source": [
    "### 5.2.2 如何在检查是否相等时忽略大小写"
   ]
  },
  {
   "cell_type": "code",
   "execution_count": 4,
   "id": "154441f0-d6af-4885-ba06-1c4828528c57",
   "metadata": {},
   "outputs": [
    {
     "data": {
      "text/plain": [
       "False"
      ]
     },
     "execution_count": 4,
     "metadata": {},
     "output_type": "execute_result"
    }
   ],
   "source": [
    "#python在检查时是看大小写的\n",
    "car='Audi'\n",
    "car=='audi'"
   ]
  },
  {
   "cell_type": "code",
   "execution_count": 5,
   "id": "8cee33dc-f646-4909-9510-27a676174763",
   "metadata": {},
   "outputs": [
    {
     "data": {
      "text/plain": [
       "True"
      ]
     },
     "execution_count": 5,
     "metadata": {},
     "output_type": "execute_result"
    }
   ],
   "source": [
    "#只想检查变量的值时，可以先将变量的值转化为小写\n",
    "car='Audi'\n",
    "car.lower()=='audi'"
   ]
  },
  {
   "cell_type": "code",
   "execution_count": 7,
   "id": "d4595fdc-ad4f-482f-8354-a0f8e567b673",
   "metadata": {},
   "outputs": [
    {
     "data": {
      "text/plain": [
       "'Audi'"
      ]
     },
     "execution_count": 7,
     "metadata": {},
     "output_type": "execute_result"
    }
   ],
   "source": [
    "#再次执行运算时会发现前面的“lower”是暂时的，只是在比较时暂时变化。\n",
    "car"
   ]
  },
  {
   "cell_type": "markdown",
   "id": "a22486a7-8098-4966-a1ec-d33452e53143",
   "metadata": {},
   "source": [
    "### 5.2.3 检查是否不等"
   ]
  },
  {
   "cell_type": "code",
   "execution_count": 8,
   "id": "9c542090-7c66-4676-a817-7fee556d81ea",
   "metadata": {},
   "outputs": [
    {
     "name": "stdout",
     "output_type": "stream",
     "text": [
      "Hold the anchovies!\n"
     ]
    }
   ],
   "source": [
    "requested_topping='mushroom'\n",
    "if requested_topping!='anchovies':\n",
    "    print(\"Hold the anchovies!\")"
   ]
  },
  {
   "cell_type": "markdown",
   "id": "4ebd13e4-896e-4bcb-8307-e01247875202",
   "metadata": {},
   "source": [
    "### 5.2.4 数值比较"
   ]
  },
  {
   "cell_type": "code",
   "execution_count": 9,
   "id": "231c7fa9-05ab-4825-a3a9-d56ccc4854eb",
   "metadata": {},
   "outputs": [
    {
     "data": {
      "text/plain": [
       "True"
      ]
     },
     "execution_count": 9,
     "metadata": {},
     "output_type": "execute_result"
    }
   ],
   "source": [
    "age=18\n",
    "age==18"
   ]
  },
  {
   "cell_type": "code",
   "execution_count": 10,
   "id": "c3641797-8bad-4a46-ad38-a5b7e74f106c",
   "metadata": {},
   "outputs": [
    {
     "name": "stdout",
     "output_type": "stream",
     "text": [
      "That is not the correct answer. Please try again!\n"
     ]
    }
   ],
   "source": [
    "answer=17\n",
    "if answer!=42:\n",
    "    print(\"That is not the correct answer. Please try again!\")"
   ]
  },
  {
   "cell_type": "code",
   "execution_count": 11,
   "id": "62bb27b2-722f-4d47-a0a4-76c4a588d45a",
   "metadata": {},
   "outputs": [
    {
     "data": {
      "text/plain": [
       "True"
      ]
     },
     "execution_count": 11,
     "metadata": {},
     "output_type": "execute_result"
    }
   ],
   "source": [
    "#条件语句可以包含各种数学比较\n",
    "age=19\n",
    "age<21"
   ]
  },
  {
   "cell_type": "code",
   "execution_count": 12,
   "id": "1864df85-7437-4489-a205-e9d9baa0a171",
   "metadata": {},
   "outputs": [
    {
     "data": {
      "text/plain": [
       "True"
      ]
     },
     "execution_count": 12,
     "metadata": {},
     "output_type": "execute_result"
    }
   ],
   "source": [
    "age<=21"
   ]
  },
  {
   "cell_type": "code",
   "execution_count": 13,
   "id": "dc379321-d80b-4704-a88d-fc1f11442d92",
   "metadata": {},
   "outputs": [
    {
     "data": {
      "text/plain": [
       "False"
      ]
     },
     "execution_count": 13,
     "metadata": {},
     "output_type": "execute_result"
    }
   ],
   "source": [
    "age>21"
   ]
  },
  {
   "cell_type": "code",
   "execution_count": 14,
   "id": "d9948e67-c23b-491c-9538-9cdc8e365c7f",
   "metadata": {},
   "outputs": [
    {
     "data": {
      "text/plain": [
       "False"
      ]
     },
     "execution_count": 14,
     "metadata": {},
     "output_type": "execute_result"
    }
   ],
   "source": [
    "age>=21"
   ]
  },
  {
   "cell_type": "markdown",
   "id": "f1eb6d14-abf9-495b-8a07-114388595f04",
   "metadata": {},
   "source": [
    "### 5.2.5 检查多个条件"
   ]
  },
  {
   "cell_type": "code",
   "execution_count": 15,
   "id": "15676faf-ddad-4198-b20e-5ef6a35be71f",
   "metadata": {},
   "outputs": [
    {
     "data": {
      "text/plain": [
       "False"
      ]
     },
     "execution_count": 15,
     "metadata": {},
     "output_type": "execute_result"
    }
   ],
   "source": [
    "# and  可以检查两个条件是否都为 True\n",
    "age_0=22\n",
    "age_1=18\n",
    "age_0>21 and age_1>=21"
   ]
  },
  {
   "cell_type": "code",
   "execution_count": 16,
   "id": "d807a903-bc00-4fb4-aae1-1e529df9b9cb",
   "metadata": {},
   "outputs": [
    {
     "data": {
      "text/plain": [
       "True"
      ]
     },
     "execution_count": 16,
     "metadata": {},
     "output_type": "execute_result"
    }
   ],
   "source": [
    "age_1=22\n",
    "age_0>=21 and age_1>=21"
   ]
  },
  {
   "cell_type": "code",
   "execution_count": 17,
   "id": "2642c72f-524c-4f3c-8207-7f8f56ac819f",
   "metadata": {},
   "outputs": [
    {
     "data": {
      "text/plain": [
       "True"
      ]
     },
     "execution_count": 17,
     "metadata": {},
     "output_type": "execute_result"
    }
   ],
   "source": [
    "# or 只要满足一个条件就能通过条件测试。仅当所有条件测试都没有通过时，使用or的表达式才为 False\n",
    "age_o=22\n",
    "age_1=18\n",
    "age_0>=21 or age_1>=21"
   ]
  },
  {
   "cell_type": "code",
   "execution_count": 18,
   "id": "4d18ca67-2955-45de-911d-3481b2e724d6",
   "metadata": {},
   "outputs": [
    {
     "data": {
      "text/plain": [
       "False"
      ]
     },
     "execution_count": 18,
     "metadata": {},
     "output_type": "execute_result"
    }
   ],
   "source": [
    "age_0=18\n",
    "age_0>=21 or age_1>=21"
   ]
  },
  {
   "cell_type": "markdown",
   "id": "4e497752-726b-4b76-a4cd-43a36c5d2985",
   "metadata": {},
   "source": [
    "### 5.2.6 检查特定的值是否在列表中"
   ]
  },
  {
   "cell_type": "code",
   "execution_count": 19,
   "id": "ba2e74d6-6d21-44a2-ba5f-838ee556e2a5",
   "metadata": {},
   "outputs": [
    {
     "data": {
      "text/plain": [
       "True"
      ]
     },
     "execution_count": 19,
     "metadata": {},
     "output_type": "execute_result"
    }
   ],
   "source": [
    "requested_toppings=['mushrooms','onions','pineapple']\n",
    "'mushrooms' in requested_toppings"
   ]
  },
  {
   "cell_type": "code",
   "execution_count": 20,
   "id": "fae8d77e-ea9f-4f88-abbf-f89aad236928",
   "metadata": {},
   "outputs": [
    {
     "data": {
      "text/plain": [
       "False"
      ]
     },
     "execution_count": 20,
     "metadata": {},
     "output_type": "execute_result"
    }
   ],
   "source": [
    "'pepperoni' in requested_toppings"
   ]
  },
  {
   "cell_type": "markdown",
   "id": "4eb412a6-4f03-441e-a2da-d1d61033d579",
   "metadata": {},
   "source": [
    "### 5.2.7 检查特定的值是否不在列表中"
   ]
  },
  {
   "cell_type": "code",
   "execution_count": 21,
   "id": "28d31f1d-b834-40b1-8ac8-68ede2d6c7a7",
   "metadata": {},
   "outputs": [
    {
     "name": "stdout",
     "output_type": "stream",
     "text": [
      "Marie, you can post a response if you wish.\n"
     ]
    }
   ],
   "source": [
    "banned_users=['andrew','carolina','david']\n",
    "user='marie'\n",
    "if user not in banned_users:\n",
    "    print(f\"{user.title()}, you can post a response if you wish.\")"
   ]
  },
  {
   "cell_type": "markdown",
   "id": "0f56a3bf-740d-4ee7-a779-0374edfe7fb3",
   "metadata": {},
   "source": [
    "### 5.2.8 布尔表达式"
   ]
  },
  {
   "cell_type": "code",
   "execution_count": 22,
   "id": "0fc96b12-d0cf-4511-8945-54b1099010fa",
   "metadata": {},
   "outputs": [],
   "source": [
    "#布尔表达式是条件测试的别名，通常用于记录条件,如：\n",
    "game_active=True\n",
    "can_edit=False"
   ]
  },
  {
   "cell_type": "markdown",
   "id": "6b800318-f668-4b4e-8938-093e64c4d795",
   "metadata": {},
   "source": [
    "## 5.3 if 语句"
   ]
  },
  {
   "cell_type": "code",
   "execution_count": 28,
   "id": "8de47747-41b9-4e1d-8715-3347275b6fba",
   "metadata": {},
   "outputs": [
    {
     "name": "stdout",
     "output_type": "stream",
     "text": [
      "You are old enough to vote!\n"
     ]
    }
   ],
   "source": [
    "age=19\n",
    "if age>=18:\n",
    "    print(\"You are old enough to vote!\")"
   ]
  },
  {
   "cell_type": "code",
   "execution_count": 29,
   "id": "372a4a9d-05de-41dd-9386-40192dfb7958",
   "metadata": {},
   "outputs": [
    {
     "name": "stdout",
     "output_type": "stream",
     "text": [
      "You are old enough to vote!\n",
      "Have you registered to vote yet?\n"
     ]
    }
   ],
   "source": [
    "age=19\n",
    "if age>=18:\n",
    "    print(\"You are old enough to vote!\")\n",
    "    print(\"Have you registered to vote yet?\")"
   ]
  },
  {
   "cell_type": "markdown",
   "id": "a119e76c-48c4-4c7a-a353-922c3241d93f",
   "metadata": {},
   "source": [
    "### 5.3.2 if-else 语句"
   ]
  },
  {
   "cell_type": "code",
   "execution_count": 31,
   "id": "f46a555d-3afc-4bf0-865d-1f05a341d793",
   "metadata": {},
   "outputs": [
    {
     "name": "stdout",
     "output_type": "stream",
     "text": [
      "Sorry, you are too young to vote.\n",
      "Please register to vote as soon as you turn 18!\n"
     ]
    }
   ],
   "source": [
    "age=17\n",
    "if age>=18:\n",
    "    print(\"You are old enough to vote!\")\n",
    "    print(\"Have you registered to vote yet?\")\n",
    "else:\n",
    "    print(\"Sorry, you are too young to vote.\")\n",
    "    print(\"Please register to vote as soon as you turn 18!\")\n"
   ]
  },
  {
   "cell_type": "markdown",
   "id": "b5c178f8-4e87-459a-ae09-f1438de49de3",
   "metadata": {},
   "source": [
    "### 5.3.3 if-elif-else语句"
   ]
  },
  {
   "cell_type": "code",
   "execution_count": 33,
   "id": "7a798f3c-7882-49ec-92aa-ad4d671b9c27",
   "metadata": {},
   "outputs": [
    {
     "name": "stdout",
     "output_type": "stream",
     "text": [
      "Your admission cost is 25.\n"
     ]
    }
   ],
   "source": [
    "#python只执行这个结构中的一个代码块，它会依次检查，直到遇到通过了的条件测试，条件测试通过以后，会执行紧跟在它之后的代码，并跳过剩下的测试。\n",
    "age=12\n",
    "if age<4:\n",
    "    print(\"Your admission cost is 0.\")\n",
    "elif age<18:\n",
    "    print(\"Your admission cost is 25.\")\n",
    "else:\n",
    "    print(\"your admission cost is 40.\")"
   ]
  },
  {
   "cell_type": "code",
   "execution_count": 34,
   "id": "b9f794ca-8fa7-4e3d-936b-d08383daee07",
   "metadata": {},
   "outputs": [
    {
     "name": "stdout",
     "output_type": "stream",
     "text": [
      "Your admission cost is 25.\n"
     ]
    }
   ],
   "source": [
    "age=12\n",
    "if age<4:\n",
    "    price=0\n",
    "elif age<18:\n",
    "    price=25\n",
    "else:\n",
    "    price=40\n",
    "print(f\"Your admission cost is {price}.\")"
   ]
  },
  {
   "cell_type": "markdown",
   "id": "8862b7c6-36ee-4921-a37a-5beeeb391267",
   "metadata": {},
   "source": [
    "### 5.3.4 使用多个elif代码块"
   ]
  },
  {
   "cell_type": "code",
   "execution_count": 35,
   "id": "a7cff2df-7bfa-4d2f-8ec8-47c559212d59",
   "metadata": {},
   "outputs": [
    {
     "name": "stdout",
     "output_type": "stream",
     "text": [
      "Your admission cost is 25.\n"
     ]
    }
   ],
   "source": [
    "age=12\n",
    "if age<4:\n",
    "    price=0\n",
    "elif age<18:\n",
    "    price=25\n",
    "elif age<65:\n",
    "    price=40\n",
    "else:\n",
    "    price=20\n",
    "print(f\"Your admission cost is {price}.\")"
   ]
  },
  {
   "cell_type": "markdown",
   "id": "dbe604dc-5ecf-44d4-b3a3-af40537ef5af",
   "metadata": {},
   "source": [
    "### 5.3.5 省略else代码块"
   ]
  },
  {
   "cell_type": "code",
   "execution_count": 36,
   "id": "239ef343-bff0-4d04-963a-218027f9f641",
   "metadata": {},
   "outputs": [
    {
     "name": "stdout",
     "output_type": "stream",
     "text": [
      "Your admission cost is 20.\n"
     ]
    }
   ],
   "source": [
    "age=70\n",
    "if age<4:\n",
    "    price=0\n",
    "elif age<18:\n",
    "    price=25\n",
    "elif age<65:\n",
    "    price=40\n",
    "elif age>65:\n",
    "    price=20\n",
    "print(f\"Your admission cost is {price}.\")"
   ]
  },
  {
   "cell_type": "code",
   "execution_count": 37,
   "id": "d686b130-1a0d-4638-a0b5-0e22b7504a83",
   "metadata": {},
   "outputs": [],
   "source": [
    "#else: 只要不满足前面的条件测试就会执行；elif：不满足前面的条件，但也必须满足这个条件才会执行。"
   ]
  },
  {
   "cell_type": "markdown",
   "id": "3214174a-1027-4a48-a2fa-834cd857a96d",
   "metadata": {},
   "source": [
    "### 5.3.6 测试多个条件"
   ]
  },
  {
   "cell_type": "code",
   "execution_count": 40,
   "id": "59cffc8f-987d-45e0-9196-71a6c13c2067",
   "metadata": {},
   "outputs": [
    {
     "name": "stdout",
     "output_type": "stream",
     "text": [
      "Adding mushrooms.\n",
      "Adding ectra cheese.\n",
      "\n",
      "Finished making your pizza!\n"
     ]
    }
   ],
   "source": [
    "requested_toppings=['mushroom','extra cheese']\n",
    "if 'mushroom' in requested_toppings:\n",
    "    print(\"Adding mushrooms.\")\n",
    "if 'pepperoni' in requested_toppings:\n",
    "    print(\"Adding pepperoni.\")\n",
    "if'extra cheese' in requested_toppings:\n",
    "    print(\"Adding ectra cheese.\")\n",
    "print(\"\\nFinished making your pizza!\")\n",
    "#换行符在引号后，句首。\n",
    "#if :会逐一检查，只要满足条件就会执行输出；elif：满足条件后就不再检查下面的条件"
   ]
  },
  {
   "cell_type": "code",
   "execution_count": 41,
   "id": "42ffef28-da45-4303-b71c-f1b47084039c",
   "metadata": {},
   "outputs": [
    {
     "name": "stdout",
     "output_type": "stream",
     "text": [
      "Adding mushrooms.\n",
      "\n",
      "Finished making your pizza!\n"
     ]
    }
   ],
   "source": [
    "#假设把它改成elif：\n",
    "requested_toppings=['mushroom','extra cheese']\n",
    "if 'mushroom' in requested_toppings:\n",
    "    print(\"Adding mushrooms.\")\n",
    "elif 'pepperoni' in requested_toppings:\n",
    "    print(\"Adding pepperoni.\")\n",
    "elif'extra cheese' in requested_toppings:\n",
    "    print(\"Adding ectra cheese.\")\n",
    "print(\"\\nFinished making your pizza!\")"
   ]
  },
  {
   "cell_type": "code",
   "execution_count": 42,
   "id": "ad8c431c-c6eb-41cc-9ab2-f98f9b478def",
   "metadata": {},
   "outputs": [],
   "source": [
    "#总之，如果只想运行一个代码块，就使用if-elif-else语句，如果要运行多个代码块，就使用一系列独立的if语句。"
   ]
  },
  {
   "cell_type": "markdown",
   "id": "ed53f8ac-09b6-470e-b420-ec07dfad8a44",
   "metadata": {},
   "source": [
    "## 5.4 使用if语句处理列表"
   ]
  },
  {
   "cell_type": "markdown",
   "id": "9c8ade09-fb38-4187-9a12-acb778533ced",
   "metadata": {},
   "source": [
    "### 5.4.1 检查特殊元素"
   ]
  },
  {
   "cell_type": "code",
   "execution_count": 43,
   "id": "c5023818-baab-4f6e-ac14-dc31d899fc29",
   "metadata": {},
   "outputs": [
    {
     "name": "stdout",
     "output_type": "stream",
     "text": [
      "Adding mushroom\n",
      "Adding green peppers\n",
      "Adding extra cheese\n",
      "\n",
      "Finished making your pizza!\n"
     ]
    }
   ],
   "source": [
    "requested_toppings=['mushroom','green peppers','extra cheese']\n",
    "for requested_topping in requested_toppings:\n",
    "    print(f\"Adding {requested_topping}\")\n",
    "print(\"\\nFinished making your pizza!\")\n"
   ]
  },
  {
   "cell_type": "code",
   "execution_count": 44,
   "id": "f003cad1-d0d3-4ccd-9530-8089d06ccd78",
   "metadata": {},
   "outputs": [
    {
     "name": "stdout",
     "output_type": "stream",
     "text": [
      "Adding mushroom.\n",
      "Sorry, we are out of green peppers right now.\n",
      "Adding extra cheese.\n",
      "\n",
      "Finished making your pizza!\n"
     ]
    }
   ],
   "source": [
    "requested_toppings=['mushroom','green peppers','extra cheese']\n",
    "for requested_topping in requested_toppings:\n",
    "    if requested_topping=='green peppers':\n",
    "        print(\"Sorry, we are out of green peppers right now.\")\n",
    "    else:\n",
    "        print(f\"Adding {requested_topping}.\")\n",
    "print(\"\\nFinished making your pizza!\")"
   ]
  },
  {
   "cell_type": "markdown",
   "id": "33cbe8b4-11a1-43d2-9160-6e3ccbbd9763",
   "metadata": {},
   "source": [
    "### 5.4.2 确定列表非空"
   ]
  },
  {
   "cell_type": "code",
   "execution_count": 45,
   "id": "63c7380a-b1a0-40b8-912e-0e0a5e848381",
   "metadata": {},
   "outputs": [
    {
     "name": "stdout",
     "output_type": "stream",
     "text": [
      "Are you sure you want a plain pizza?\n"
     ]
    }
   ],
   "source": [
    "requested_toppings=[]\n",
    "if requested_toppings:\n",
    "    for requested_topping in requested_toppings:\n",
    "        print(f\"Adding {requested_topping}.\")\n",
    "    print(\"\\nFinished making your pizza!\")\n",
    "else:\n",
    "    print(\"Are you sure you want a plain pizza?\")"
   ]
  },
  {
   "cell_type": "code",
   "execution_count": 46,
   "id": "385403ca-4c37-4714-bc27-3593dcf0a1ff",
   "metadata": {},
   "outputs": [],
   "source": [
    "#如果这个列表非空，就会输出在pizza中添加的各种原料"
   ]
  },
  {
   "cell_type": "markdown",
   "id": "07a9aa49-9933-42cf-9440-8f8f48e50754",
   "metadata": {},
   "source": [
    "### 5.4.3 使用多个列表"
   ]
  },
  {
   "cell_type": "code",
   "execution_count": 3,
   "id": "f0cb16b1-dfda-402a-b68e-ef476c8e70a5",
   "metadata": {},
   "outputs": [
    {
     "name": "stdout",
     "output_type": "stream",
     "text": [
      "Adding mushrooms.\n",
      "Sorry, we don't havefrench fries.\n",
      "Adding extra cheese.\n",
      "\n",
      "Finished making your pizza!\n"
     ]
    }
   ],
   "source": [
    "available_toppings=['mushrooms','olives','green peppers','pepperoni','pinapple','extra cheese']\n",
    "requested_toppings=['mushrooms','french fries','extra cheese']\n",
    "for requested_topping in requested_toppings:\n",
    "    if requested_topping in available_toppings:\n",
    "        print(f\"Adding {requested_topping}.\")\n",
    "    else:\n",
    "        print(f\"Sorry, we don't have{requested_topping}.\")\n",
    "print(\"\\nFinished making your pizza!\")"
   ]
  },
  {
   "cell_type": "markdown",
   "id": "ebf71dc8-3227-416f-9261-61dde0cfb2dd",
   "metadata": {},
   "source": [
    "## 5.5设置if语句格式"
   ]
  },
  {
   "cell_type": "code",
   "execution_count": null,
   "id": "d2366e31-d08b-44c3-ba39-25c1442987cd",
   "metadata": {},
   "outputs": [],
   "source": [
    "#在诸如==、>=、<=等比较运算符两边各添加一个空格会更好\n",
    "if age < 4\n",
    "#优于\n",
    "if age<4"
   ]
  },
  {
   "cell_type": "markdown",
   "id": "3af2f01f-a5b6-4e61-aa78-7ec6cf75d4c2",
   "metadata": {},
   "source": [
    "# 课后练习——动手试一试"
   ]
  },
  {
   "cell_type": "markdown",
   "id": "b6205918-2cd1-43dc-934d-590cd7926a88",
   "metadata": {},
   "source": [
    "### 练习5.1：条件测试"
   ]
  },
  {
   "cell_type": "code",
   "execution_count": 3,
   "id": "44fc352f-b5e2-4828-a4bc-095896c15d2c",
   "metadata": {},
   "outputs": [
    {
     "name": "stdout",
     "output_type": "stream",
     "text": [
      "Is car=='subaru'? I predict True.\n",
      "True\n",
      "\n",
      "Is car=='audi'? I predict False.\n",
      "False\n"
     ]
    }
   ],
   "source": [
    "car='subaru'\n",
    "print(\"Is car=='subaru'? I predict True.\")\n",
    "print(car=='subaru')\n",
    "\n",
    "print(\"\\nIs car=='audi'? I predict False.\")\n",
    "print(car=='audi')"
   ]
  },
  {
   "cell_type": "markdown",
   "id": "cfe3ff71-415e-45bd-a676-244274d73152",
   "metadata": {},
   "source": [
    "### 练习5.2 更多条件测试"
   ]
  },
  {
   "cell_type": "code",
   "execution_count": 4,
   "id": "e6519d13-abc5-4541-af71-599072466ab9",
   "metadata": {},
   "outputs": [
    {
     "data": {
      "text/plain": [
       "True"
      ]
     },
     "execution_count": 4,
     "metadata": {},
     "output_type": "execute_result"
    }
   ],
   "source": [
    "age=48\n",
    "age!=47"
   ]
  },
  {
   "cell_type": "code",
   "execution_count": 5,
   "id": "49e5da91-4d7b-4ea0-9c0d-e78bf7c92a92",
   "metadata": {},
   "outputs": [
    {
     "data": {
      "text/plain": [
       "False"
      ]
     },
     "execution_count": 5,
     "metadata": {},
     "output_type": "execute_result"
    }
   ],
   "source": [
    "age>50"
   ]
  },
  {
   "cell_type": "code",
   "execution_count": 10,
   "id": "22b07ed7-9270-4518-a6d7-230e97d4703d",
   "metadata": {},
   "outputs": [
    {
     "data": {
      "text/plain": [
       "True"
      ]
     },
     "execution_count": 10,
     "metadata": {},
     "output_type": "execute_result"
    }
   ],
   "source": [
    "age>50 or age==6*8"
   ]
  },
  {
   "cell_type": "markdown",
   "id": "8ac182e7-2949-4973-84ba-31810658c5d6",
   "metadata": {},
   "source": [
    "### 练习5.3：外星人颜色1"
   ]
  },
  {
   "cell_type": "code",
   "execution_count": 12,
   "id": "58fc560f-f80b-4d08-972f-93cb737a6493",
   "metadata": {},
   "outputs": [
    {
     "name": "stdout",
     "output_type": "stream",
     "text": [
      "you earn 5 points!\n"
     ]
    }
   ],
   "source": [
    "alien_color='green'\n",
    "if alien_color=='green':\n",
    "    print(\"you earn 5 points!\")\n",
    "\n",
    "    \n"
   ]
  },
  {
   "cell_type": "markdown",
   "id": "363b3d15-bce6-44f6-9be4-d4a9d4df2079",
   "metadata": {},
   "source": [
    "### 练习5.4 外星人颜色2"
   ]
  },
  {
   "cell_type": "code",
   "execution_count": 13,
   "id": "7a6d7b4c-29a7-408a-a3cf-a4fa6f5db85e",
   "metadata": {},
   "outputs": [
    {
     "name": "stdout",
     "output_type": "stream",
     "text": [
      "you earn 5 points!\n"
     ]
    }
   ],
   "source": [
    "alien_color='green'\n",
    "if alien_color=='green':\n",
    "    print(\"you earn 5 points!\")\n",
    "if alien_color!='green':\n",
    "    print(\"you earn 10 points!\")"
   ]
  },
  {
   "cell_type": "code",
   "execution_count": 14,
   "id": "5237bafc-eb20-4866-a009-1cfd497f1e51",
   "metadata": {},
   "outputs": [
    {
     "name": "stdout",
     "output_type": "stream",
     "text": [
      "you earn 10 points!\n"
     ]
    }
   ],
   "source": [
    "alien_color='red'\n",
    "if alien_color=='green':\n",
    "    print(\"you earn 5 points!\")\n",
    "if alien_color!='green':\n",
    "    print(\"you earn 10 points!\")"
   ]
  },
  {
   "cell_type": "code",
   "execution_count": 15,
   "id": "dc2b1920-aa86-4b11-b94d-8a244c5298cd",
   "metadata": {},
   "outputs": [
    {
     "name": "stdout",
     "output_type": "stream",
     "text": [
      "you earn 10 points!\n"
     ]
    }
   ],
   "source": [
    "alien_color='red'\n",
    "if alien_color=='green':\n",
    "    print(\"you earn 5 points!\")\n",
    "if alien_color!='green':\n",
    "    print(\"you earn 10 points!\")"
   ]
  },
  {
   "cell_type": "markdown",
   "id": "7c86cc9f-af08-4721-bd98-43b54a2e655e",
   "metadata": {},
   "source": [
    "### 练习5.5 外星人颜色3"
   ]
  },
  {
   "cell_type": "code",
   "execution_count": 18,
   "id": "593a1f57-3681-4f77-84e5-be85245f1656",
   "metadata": {},
   "outputs": [
    {
     "name": "stdout",
     "output_type": "stream",
     "text": [
      "you earn 20 points!\n"
     ]
    }
   ],
   "source": [
    "alien_color='red'\n",
    "if alien_color=='green':\n",
    "    print(\"you earn 5 points!\")\n",
    "elif alien_color=='yellow':\n",
    "    print(\"you earn 10 points!\")\n",
    "else:\n",
    "    print(\"you earn 20 points!\")"
   ]
  },
  {
   "cell_type": "markdown",
   "id": "dd6b8f5a-174a-4d11-869f-ddc5538e7332",
   "metadata": {},
   "source": [
    "### 练习5.6 人生的不同阶段"
   ]
  },
  {
   "cell_type": "code",
   "execution_count": 19,
   "id": "f0e0c0a0-746e-4e75-8920-5cb56890379c",
   "metadata": {},
   "outputs": [
    {
     "name": "stdout",
     "output_type": "stream",
     "text": [
      "youth\n"
     ]
    }
   ],
   "source": [
    "age=21\n",
    "if age<2:\n",
    "    print('Baby')\n",
    "elif age>=2 and age<4:\n",
    "    print('youer')\n",
    "elif age>=4 and age<18:\n",
    "    print('child')\n",
    "elif age>=18 and age<65:\n",
    "    print('youth')\n",
    "else:\n",
    "    print('old')"
   ]
  },
  {
   "cell_type": "markdown",
   "id": "5f5961ea-6a96-4114-80e2-bf5fb95c0afb",
   "metadata": {},
   "source": [
    "### 练习5.7：喜欢的水果"
   ]
  },
  {
   "cell_type": "code",
   "execution_count": 26,
   "id": "da284882-b59e-4cb9-9d1c-69459e0162b1",
   "metadata": {},
   "outputs": [
    {
     "name": "stdout",
     "output_type": "stream",
     "text": [
      "You really like apples\n"
     ]
    }
   ],
   "source": [
    "love_fruit=['apple','orrange','watermelon','strawberry']\n",
    "if 'banana' in love_fruit:\n",
    "    print(\"You really like bananas\")\n",
    "if 'apple' in love_fruit:\n",
    "        print(\"You really like apples\")\n",
    "else:\n",
    "    (\"You really like orranges\")"
   ]
  },
  {
   "cell_type": "code",
   "execution_count": 32,
   "id": "cd228082-ada3-4099-a9c8-c7d2d207d08f",
   "metadata": {},
   "outputs": [
    {
     "name": "stdout",
     "output_type": "stream",
     "text": [
      "You really like apples\n"
     ]
    }
   ],
   "source": [
    "love_fruits=['apple','orrange','watermelon','strawberry']\n",
    "for value in love_fruits:\n",
    "    if value=='apple':\n",
    "        print(\"You really like apples\")\n",
    "if 'banana' in love_fruit:\n",
    "    print(\"You really like bananas\")\n",
    "else:\n",
    "    (\"You really like orranges\")"
   ]
  },
  {
   "cell_type": "code",
   "execution_count": 31,
   "id": "de659e1a-8644-4adf-b757-3af0b307e91d",
   "metadata": {},
   "outputs": [
    {
     "name": "stdout",
     "output_type": "stream",
     "text": [
      "apple\n",
      "orrange\n",
      "watermelon\n",
      "strawberry\n"
     ]
    }
   ],
   "source": [
    "love_fruits=['apple','orrange','watermelon','strawberry']\n",
    "for value in love_fruits:\n",
    "    print(value)"
   ]
  },
  {
   "cell_type": "markdown",
   "id": "d454888c-9766-4b43-9546-35b8d18b41af",
   "metadata": {},
   "source": [
    "### 练习5.8 以特殊方式跟管理员打招呼"
   ]
  },
  {
   "cell_type": "code",
   "execution_count": 34,
   "id": "af7da3f4-c199-482d-9295-e924c1b87618",
   "metadata": {},
   "outputs": [
    {
     "name": "stdout",
     "output_type": "stream",
     "text": [
      "\n",
      "Hello Apple,thank you for logging in again.\n",
      "\n",
      "Hello Orrange,thank you for logging in again.\n",
      "\n",
      "Hello Watermelon,thank you for logging in again.\n",
      "\n",
      "Hello Strawberry,thank you for logging in again.\n",
      "\n",
      "Hello,Admin, would you like to see a status report?\n"
     ]
    }
   ],
   "source": [
    "names=['apple','orrange','watermelon','strawberry','admin']\n",
    "for name in names:\n",
    "    if name=='admin':\n",
    "        print(\"\\nHello,Admin, would you like to see a status report?\")\n",
    "    else:\n",
    "        print(f\"\\nHello {name.title()},thank you for logging in again.\")"
   ]
  },
  {
   "cell_type": "markdown",
   "id": "5fb65a2c-102f-4068-8983-ae5cb438b1ee",
   "metadata": {},
   "source": [
    "### 练习5.9：处理没有用户的情形"
   ]
  },
  {
   "cell_type": "code",
   "execution_count": 35,
   "id": "98e99012-7bc0-4bd5-9309-8f0a2c5c1137",
   "metadata": {},
   "outputs": [
    {
     "name": "stdout",
     "output_type": "stream",
     "text": [
      "\n",
      "Hello Apple,thank you for logging in again.\n",
      "\n",
      "Hello Orrange,thank you for logging in again.\n",
      "\n",
      "Hello Watermelon,thank you for logging in again.\n",
      "\n",
      "Hello Strawberry,thank you for logging in again.\n",
      "\n",
      "Hello,Admin, would you like to see a status report?\n"
     ]
    }
   ],
   "source": [
    "names=['apple','orrange','watermelon','strawberry','admin']\n",
    "if names:\n",
    "    for name in names:\n",
    "        if name=='admin':\n",
    "            print(\"\\nHello,Admin, would you like to see a status report?\")\n",
    "        else:\n",
    "            print(f\"\\nHello {name.title()},thank you for logging in again.\")\n",
    "else:\n",
    "    print(\"We need to find some users!\")"
   ]
  },
  {
   "cell_type": "code",
   "execution_count": 36,
   "id": "2cb14dae-cf89-4663-b51c-83dcea7d90fe",
   "metadata": {},
   "outputs": [
    {
     "name": "stdout",
     "output_type": "stream",
     "text": [
      "We need to find some users!\n"
     ]
    }
   ],
   "source": [
    "names=[]\n",
    "if names:\n",
    "    for name in names:\n",
    "        if name=='admin':\n",
    "            print(\"\\nHello,Admin, would you like to see a status report?\")\n",
    "        else:\n",
    "            print(f\"\\nHello {name.title()},thank you for logging in again.\")\n",
    "else:\n",
    "    print(\"We need to find some users!\")"
   ]
  },
  {
   "cell_type": "markdown",
   "id": "bf1be479-f36e-4d6d-bb15-c96ba2f1d033",
   "metadata": {},
   "source": [
    "### 练习5.10 检查用户名"
   ]
  },
  {
   "cell_type": "code",
   "execution_count": 37,
   "id": "e3cc78c2-28ff-419f-a2ac-5394181280c8",
   "metadata": {},
   "outputs": [
    {
     "name": "stdout",
     "output_type": "stream",
     "text": [
      "You need to rename.\n",
      "You need to rename.\n",
      "This name is OK!\n",
      "This name is OK!\n",
      "This name is OK!\n"
     ]
    }
   ],
   "source": [
    "current_users=['apple','orrange','watermelon','strawberry','admin']\n",
    "new_users=['Apple','orrange','yangyu','yintong','fannan']\n",
    "for new_user in new_users:\n",
    "    if new_user.lower() in current_users:\n",
    "        print('You need to rename.')\n",
    "    else:\n",
    "        print('This name is OK!')"
   ]
  },
  {
   "cell_type": "markdown",
   "id": "0910eeab-5ebd-4998-a8b0-88126b58761b",
   "metadata": {},
   "source": [
    "### 练习5.11：序数"
   ]
  },
  {
   "cell_type": "code",
   "execution_count": 39,
   "id": "37deac8b-e387-4863-99da-9541bfe3d9b3",
   "metadata": {},
   "outputs": [
    {
     "name": "stdout",
     "output_type": "stream",
     "text": [
      "1\n",
      "2\n",
      "3\n",
      "4\n",
      "5\n",
      "6th\n",
      "7\n",
      "8\n",
      "9\n"
     ]
    }
   ],
   "source": [
    "numbers=list(range(1,10))\n",
    "for number in numbers:\n",
    "    if number==6:\n",
    "        print('6th')\n",
    "    else:\n",
    "        print(number)"
   ]
  },
  {
   "cell_type": "code",
   "execution_count": null,
   "id": "53118630-1510-4f59-8251-9bceb06098a2",
   "metadata": {},
   "outputs": [],
   "source": []
  }
 ],
 "metadata": {
  "kernelspec": {
   "display_name": "Python 3 (ipykernel)",
   "language": "python",
   "name": "python3"
  },
  "language_info": {
   "codemirror_mode": {
    "name": "ipython",
    "version": 3
   },
   "file_extension": ".py",
   "mimetype": "text/x-python",
   "name": "python",
   "nbconvert_exporter": "python",
   "pygments_lexer": "ipython3",
   "version": "3.11.7"
  }
 },
 "nbformat": 4,
 "nbformat_minor": 5
}
