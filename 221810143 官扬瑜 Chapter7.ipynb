{
 "cells": [
  {
   "cell_type": "markdown",
   "id": "1c76950b-d0d4-48e2-9298-52b17614bc42",
   "metadata": {},
   "source": [
    "# 第7章 用户输入和while循环"
   ]
  },
  {
   "cell_type": "markdown",
   "id": "fa5fe39a-ae99-41c1-864f-e377a95fb0fc",
   "metadata": {},
   "source": [
    "## 7.1 input()函数的工作原理"
   ]
  },
  {
   "cell_type": "code",
   "execution_count": 1,
   "id": "0a3b2b2b-6fc9-4248-8a92-17f17643a672",
   "metadata": {},
   "outputs": [
    {
     "name": "stdin",
     "output_type": "stream",
     "text": [
      "Tell men something, and I will repeat it back to you:  Hello\n"
     ]
    },
    {
     "name": "stdout",
     "output_type": "stream",
     "text": [
      "Hello\n"
     ]
    }
   ],
   "source": [
    "#input()函数让程序暂停运行，等待用户输入一些文本。获取用户输入后，Python将其赋给一个变量，以便使用\n",
    "message=input(\"Tell men something, and I will repeat it back to you: \")\n",
    "print(message)"
   ]
  },
  {
   "cell_type": "markdown",
   "id": "4d7bfe96-8ea2-48d8-a266-0117b42ed25a",
   "metadata": {},
   "source": [
    "### 7.1.1 编写清晰的提示"
   ]
  },
  {
   "cell_type": "code",
   "execution_count": 2,
   "id": "b4f306c4-c45d-46b9-aba7-c1e7ea031917",
   "metadata": {},
   "outputs": [
    {
     "name": "stdin",
     "output_type": "stream",
     "text": [
      "Please enter your name:  Eric\n"
     ]
    },
    {
     "name": "stdout",
     "output_type": "stream",
     "text": [
      "\n",
      "Hello,Eric\n"
     ]
    }
   ],
   "source": [
    "name=input(\"Please enter your name: \")\n",
    "print(f\"\\nHello,{name}\")"
   ]
  },
  {
   "cell_type": "code",
   "execution_count": 3,
   "id": "e4b783ea-7ec2-4f03-b35e-04766bc1c34b",
   "metadata": {},
   "outputs": [
    {
     "name": "stdin",
     "output_type": "stream",
     "text": [
      "If you share your name, we can personalize the messages you see.\n",
      "What is your first name? Eric\n"
     ]
    },
    {
     "name": "stdout",
     "output_type": "stream",
     "text": [
      "\n",
      "Hello,Eric\n"
     ]
    }
   ],
   "source": [
    "#可以先将提示赋给一个变量，再将这个变量传递给input()函数\n",
    "prompt=\"If you share your name, we can personalize the messages you see.\"\n",
    "prompt+=\"\\nWhat is your first name?\"\n",
    "\n",
    "name=input(prompt)\n",
    "print(f'\\nHello,{name}')\n",
    "\n",
    "#在此案例中，运算符+=在赋给变量prompt的字符串末尾追加一个字符串"
   ]
  },
  {
   "cell_type": "markdown",
   "id": "195b1f5a-521b-4d80-8e78-6c6cdfbb6499",
   "metadata": {},
   "source": [
    "### 7.1.2 使用int（）来获取数值输入"
   ]
  },
  {
   "cell_type": "code",
   "execution_count": 5,
   "id": "cbdb7d70-3816-4a1c-b2f0-ca2c74aa3cd5",
   "metadata": {},
   "outputs": [
    {
     "name": "stdin",
     "output_type": "stream",
     "text": [
      "How old are you?  21\n"
     ]
    }
   ],
   "source": [
    "#使用input（）函数时，Python会将用户输入解读为字符串\n",
    "age=input(\"How old are you? \")\n",
    "\n"
   ]
  },
  {
   "cell_type": "code",
   "execution_count": 6,
   "id": "df019d6a-5576-4bcd-8137-7ba37b4b2ade",
   "metadata": {},
   "outputs": [
    {
     "name": "stdin",
     "output_type": "stream",
     "text": [
      "HOW Old are you? 21\n"
     ]
    },
    {
     "ename": "TypeError",
     "evalue": "'>=' not supported between instances of 'str' and 'int'",
     "output_type": "error",
     "traceback": [
      "\u001b[1;31m---------------------------------------------------------------------------\u001b[0m",
      "\u001b[1;31mTypeError\u001b[0m                                 Traceback (most recent call last)",
      "Cell \u001b[1;32mIn[6], line 3\u001b[0m\n\u001b[0;32m      1\u001b[0m age\u001b[38;5;241m=\u001b[39m\u001b[38;5;28minput\u001b[39m(\u001b[38;5;124m\"\u001b[39m\u001b[38;5;124mHOW Old are you?\u001b[39m\u001b[38;5;124m\"\u001b[39m)\n\u001b[1;32m----> 3\u001b[0m age\u001b[38;5;241m>\u001b[39m\u001b[38;5;241m=\u001b[39m\u001b[38;5;241m18\u001b[39m\n",
      "\u001b[1;31mTypeError\u001b[0m: '>=' not supported between instances of 'str' and 'int'"
     ]
    }
   ],
   "source": [
    "age=input(\"HOW Old are you?\")\n",
    "\n",
    "age>=18\n"
   ]
  },
  {
   "cell_type": "code",
   "execution_count": 7,
   "id": "d27b09d3-8c4a-442f-867d-d0969a4ebc18",
   "metadata": {},
   "outputs": [
    {
     "name": "stdin",
     "output_type": "stream",
     "text": [
      "HOW Old are you? 21\n"
     ]
    },
    {
     "data": {
      "text/plain": [
       "True"
      ]
     },
     "execution_count": 7,
     "metadata": {},
     "output_type": "execute_result"
    }
   ],
   "source": [
    "#可以使用函数int()将输入的字符串转化为数值，确保能够成功地执行比较操作：\n",
    "age=input(\"HOW Old are you?\")\n",
    "\n",
    "\n",
    "age=int(age)\n",
    "age>=18"
   ]
  },
  {
   "cell_type": "code",
   "execution_count": 11,
   "id": "7b3b8b3a-00ea-4518-8334-d5d6290fd55c",
   "metadata": {},
   "outputs": [
    {
     "name": "stdin",
     "output_type": "stream",
     "text": [
      "How tall are you, in inches? 50\n"
     ]
    },
    {
     "name": "stdout",
     "output_type": "stream",
     "text": [
      "\n",
      " You're tall enough to ride!\n"
     ]
    }
   ],
   "source": [
    "#一个例子：\n",
    "height=input(\"How tall are you, in inches?\")\n",
    "height=int(height)\n",
    "\n",
    "if height>=48:\n",
    "    print(\"\\n You're tall enough to ride!\")\n",
    "else:\n",
    "    print(\"\\n You're be able to ride when you're a little older.\")\n"
   ]
  },
  {
   "cell_type": "markdown",
   "id": "18bcb320-fc56-4156-ad24-1c34ee7a0e14",
   "metadata": {},
   "source": [
    "### 7.1.3 求模运算符"
   ]
  },
  {
   "cell_type": "code",
   "execution_count": 2,
   "id": "cc4be327-4d5a-4939-a231-69785e2b3339",
   "metadata": {},
   "outputs": [
    {
     "data": {
      "text/plain": [
       "2"
      ]
     },
     "execution_count": 2,
     "metadata": {},
     "output_type": "execute_result"
    }
   ],
   "source": [
    "#求模运算符将两个数相除并返回余数，它不会指出一个数是另一个数的多少倍，只指出余数是多少\n",
    "4%3\n",
    "5%3"
   ]
  },
  {
   "cell_type": "code",
   "execution_count": 3,
   "id": "2a573ead-b8ba-49af-b540-7ddd9c0e1e5f",
   "metadata": {},
   "outputs": [
    {
     "name": "stdin",
     "output_type": "stream",
     "text": [
      "Enter a number, and I'll tell you if it's even oe odd: 13\n"
     ]
    },
    {
     "name": "stdout",
     "output_type": "stream",
     "text": [
      "\n",
      " The number 13 is odd.\n"
     ]
    }
   ],
   "source": [
    "number=input(\"Enter a number, and I'll tell you if it's even oe odd:\")\n",
    "number=int(number)\n",
    "\n",
    "if number%2==0:\n",
    "    print(f\"\\n The number {number} is even.\")\n",
    "else:\n",
    "    print(f\"\\n The number {number} is odd.\")"
   ]
  },
  {
   "cell_type": "markdown",
   "id": "540f4e4b-1749-4c36-850d-62f57a5ee411",
   "metadata": {},
   "source": [
    "## 7.2 While循环简介"
   ]
  },
  {
   "cell_type": "markdown",
   "id": "692d49fa-c9a0-4da7-af43-be2b548ad183",
   "metadata": {},
   "source": [
    "### 7.2.1 使用whlie循环"
   ]
  },
  {
   "cell_type": "code",
   "execution_count": 2,
   "id": "a59f87cd-ab4f-452b-89ee-f2cba55fb6dd",
   "metadata": {},
   "outputs": [
    {
     "name": "stdout",
     "output_type": "stream",
     "text": [
      "1\n",
      "2\n",
      "3\n",
      "4\n",
      "5\n"
     ]
    }
   ],
   "source": [
    "#while循环一直不断的运行，直到指定的条件不再满足为止\n",
    "current_number=1\n",
    "while current_number<=5:\n",
    "    print(current_number)\n",
    "    current_number+=1\n",
    "\n",
    "#其中，current_number+=1是current_number=current_number+1的简写"
   ]
  },
  {
   "cell_type": "markdown",
   "id": "c6ce02a9-e152-4c83-aa5a-569920ae27c6",
   "metadata": {},
   "source": [
    "### 7.2.2 让用户选择何时退出"
   ]
  },
  {
   "cell_type": "code",
   "execution_count": 3,
   "id": "113aec4c-5e0b-4b02-a824-3ef9591bb0e6",
   "metadata": {},
   "outputs": [
    {
     "name": "stdin",
     "output_type": "stream",
     "text": [
      "\n",
      "Tell me something, and I will repeat it back to you:\n",
      "Enter 'quit' to end the program. quit\n"
     ]
    },
    {
     "name": "stdout",
     "output_type": "stream",
     "text": [
      "quit\n"
     ]
    }
   ],
   "source": [
    "#可以定义一个退出值，只要用户输入的不是这个值，程序就将一直进行\n",
    "prompt=\"\\nTell me something, and I will repeat it back to you:\"\n",
    "prompt+=\"\\nEnter 'quit' to end the program.\"\n",
    "\n",
    "message=\"\"\n",
    "while message!='quit':\n",
    "    message=input(prompt)\n",
    "    print(message)"
   ]
  },
  {
   "cell_type": "code",
   "execution_count": 4,
   "id": "53aa3dc6-db16-4538-9bb1-9a0787573d4e",
   "metadata": {},
   "outputs": [
    {
     "name": "stdin",
     "output_type": "stream",
     "text": [
      "\n",
      "Tell me something, and I will repeat it back to you:\n",
      "Enter 'quit' to end the program. Hi\n"
     ]
    },
    {
     "name": "stdout",
     "output_type": "stream",
     "text": [
      "Hi\n"
     ]
    },
    {
     "name": "stdin",
     "output_type": "stream",
     "text": [
      "\n",
      "Tell me something, and I will repeat it back to you:\n",
      "Enter 'quit' to end the program. go on\n"
     ]
    },
    {
     "name": "stdout",
     "output_type": "stream",
     "text": [
      "go on\n"
     ]
    },
    {
     "name": "stdin",
     "output_type": "stream",
     "text": [
      "\n",
      "Tell me something, and I will repeat it back to you:\n",
      "Enter 'quit' to end the program. one more time\n"
     ]
    },
    {
     "name": "stdout",
     "output_type": "stream",
     "text": [
      "one more time\n"
     ]
    },
    {
     "name": "stdin",
     "output_type": "stream",
     "text": [
      "\n",
      "Tell me something, and I will repeat it back to you:\n",
      "Enter 'quit' to end the program. quit\n"
     ]
    },
    {
     "name": "stdout",
     "output_type": "stream",
     "text": [
      "quit\n"
     ]
    }
   ],
   "source": [
    "prompt=\"\\nTell me something, and I will repeat it back to you:\"\n",
    "prompt+=\"\\nEnter 'quit' to end the program.\"\n",
    "\n",
    "message=\"\"\n",
    "while message!='quit':\n",
    "    message=input(prompt)\n",
    "    print(message)"
   ]
  },
  {
   "cell_type": "code",
   "execution_count": 5,
   "id": "ce5ab3f6-e4d1-402c-8e55-d17fa32c7b6d",
   "metadata": {},
   "outputs": [
    {
     "name": "stdin",
     "output_type": "stream",
     "text": [
      "\n",
      "Tell me something, and I will repeat it to you.\n",
      "Enter 'quit' to end the program. Hello\n"
     ]
    },
    {
     "name": "stdout",
     "output_type": "stream",
     "text": [
      "Hello\n"
     ]
    },
    {
     "name": "stdin",
     "output_type": "stream",
     "text": [
      "\n",
      "Tell me something, and I will repeat it to you.\n",
      "Enter 'quit' to end the program. How are you\n"
     ]
    },
    {
     "name": "stdout",
     "output_type": "stream",
     "text": [
      "How are you\n"
     ]
    },
    {
     "name": "stdin",
     "output_type": "stream",
     "text": [
      "\n",
      "Tell me something, and I will repeat it to you.\n",
      "Enter 'quit' to end the program. go on\n"
     ]
    },
    {
     "name": "stdout",
     "output_type": "stream",
     "text": [
      "go on\n"
     ]
    },
    {
     "name": "stdin",
     "output_type": "stream",
     "text": [
      "\n",
      "Tell me something, and I will repeat it to you.\n",
      "Enter 'quit' to end the program. again\n"
     ]
    },
    {
     "name": "stdout",
     "output_type": "stream",
     "text": [
      "again\n"
     ]
    },
    {
     "name": "stdin",
     "output_type": "stream",
     "text": [
      "\n",
      "Tell me something, and I will repeat it to you.\n",
      "Enter 'quit' to end the program. quit\n"
     ]
    }
   ],
   "source": [
    "#如果不想让 quit 也作为一条消息被打印出来，可以使用if测试\n",
    "prompt=\"\\nTell me something, and I will repeat it to you.\"\n",
    "prompt+=\"\\nEnter 'quit' to end the program.\"\n",
    "\n",
    "message=\"\"\n",
    "while message!='quit':\n",
    "    message=input(prompt)\n",
    "    if message!='quit':\n",
    "        print(message)"
   ]
  },
  {
   "cell_type": "markdown",
   "id": "7b9733ec-a4d2-4c59-81a2-9f7ff911a3f7",
   "metadata": {},
   "source": [
    "### 7.2.3 使用标志"
   ]
  },
  {
   "cell_type": "code",
   "execution_count": 6,
   "id": "95480c87-a394-449e-8f92-70f5c45197b6",
   "metadata": {},
   "outputs": [
    {
     "name": "stdin",
     "output_type": "stream",
     "text": [
      "\n",
      "Tell me something, and I will repeat it to you.\n",
      "Enter 'quit' to end the program. Hi\n"
     ]
    },
    {
     "name": "stdout",
     "output_type": "stream",
     "text": [
      "Hi\n"
     ]
    },
    {
     "name": "stdin",
     "output_type": "stream",
     "text": [
      "\n",
      "Tell me something, and I will repeat it to you.\n",
      "Enter 'quit' to end the program. lalalla\n"
     ]
    },
    {
     "name": "stdout",
     "output_type": "stream",
     "text": [
      "lalalla\n"
     ]
    },
    {
     "name": "stdin",
     "output_type": "stream",
     "text": [
      "\n",
      "Tell me something, and I will repeat it to you.\n",
      "Enter 'quit' to end the program. what\n"
     ]
    },
    {
     "name": "stdout",
     "output_type": "stream",
     "text": [
      "what\n"
     ]
    },
    {
     "name": "stdin",
     "output_type": "stream",
     "text": [
      "\n",
      "Tell me something, and I will repeat it to you.\n",
      "Enter 'quit' to end the program. quit\n"
     ]
    }
   ],
   "source": [
    "#在要求满足很多条件才能继续运行的程序中，可定义一个变量，用于判断整个程序是否处于活动状态\n",
    "active=True\n",
    "while active:\n",
    "    message=input(prompt)\n",
    "    if message=='quit':\n",
    "        active=False\n",
    "    else:\n",
    "        print(message)\n",
    "    "
   ]
  },
  {
   "cell_type": "markdown",
   "id": "20c7b080-52bf-4b6b-8bea-9115b13446e4",
   "metadata": {},
   "source": [
    "### 7.2.4 使用break退出循环"
   ]
  },
  {
   "cell_type": "code",
   "execution_count": 11,
   "id": "d3774d34-4e21-4d08-a08e-a7aa5426ff04",
   "metadata": {},
   "outputs": [
    {
     "name": "stdin",
     "output_type": "stream",
     "text": [
      "\n",
      "Please enter the name of a city you have visited:\n",
      "(Enter 'quit' when you are finished.) Nanjing\n"
     ]
    },
    {
     "name": "stdout",
     "output_type": "stream",
     "text": [
      "I'd love to go to Nanjing.\n"
     ]
    },
    {
     "name": "stdin",
     "output_type": "stream",
     "text": [
      "\n",
      "Please enter the name of a city you have visited:\n",
      "(Enter 'quit' when you are finished.) Shanghai\n"
     ]
    },
    {
     "name": "stdout",
     "output_type": "stream",
     "text": [
      "I'd love to go to Shanghai.\n"
     ]
    },
    {
     "name": "stdin",
     "output_type": "stream",
     "text": [
      "\n",
      "Please enter the name of a city you have visited:\n",
      "(Enter 'quit' when you are finished.) quit\n"
     ]
    }
   ],
   "source": [
    "#如果不管条件测试的结果如何，都立即退出while循环，可以使用break\n",
    "prompt=\"\\nPlease enter the name of a city you have visited:\"\n",
    "prompt+=\"\\n(Enter 'quit' when you are finished.)\"\n",
    "while True:\n",
    "    city=input(prompt)\n",
    "    if city=='quit':\n",
    "        break\n",
    "    else:\n",
    "        print(f\"I'd love to go to {city.title()}.\")\n",
    "\n"
   ]
  },
  {
   "cell_type": "markdown",
   "id": "36a14f6a-b76d-4ace-a68e-f182adf1ef12",
   "metadata": {},
   "source": [
    "### 7.2.5 在循环中使用continue"
   ]
  },
  {
   "cell_type": "code",
   "execution_count": 12,
   "id": "f488f43d-1e2c-4221-99b6-0a3e809fd2a6",
   "metadata": {},
   "outputs": [
    {
     "name": "stdout",
     "output_type": "stream",
     "text": [
      "1\n",
      "3\n",
      "5\n",
      "7\n",
      "9\n"
     ]
    }
   ],
   "source": [
    "#要返回循环开头，并根据条件测试的结果决定是否继续执行循环，可使用continue语句\n",
    "current_number=0\n",
    "while current_number<10:\n",
    "    current_number+=1\n",
    "    if current_number%2==0:\n",
    "        continue\n",
    "    print(current_number)"
   ]
  },
  {
   "cell_type": "markdown",
   "id": "16dd9f79-1469-4e50-b323-3b5fd99bf63f",
   "metadata": {},
   "source": [
    "### 7.2.6 避免无限循环"
   ]
  },
  {
   "cell_type": "code",
   "execution_count": null,
   "id": "18eec306-689f-4be3-9b42-f07dcdc5897d",
   "metadata": {},
   "outputs": [],
   "source": [
    " x=1\n",
    "while x<=5:\n",
    "    print(x)\n",
    "    x+=1\n",
    "\n",
    "#但如果在这个程序中忘记输入x+=1，则这个程序会无限的循环下去"
   ]
  },
  {
   "cell_type": "markdown",
   "id": "523f2e8d-a031-4d45-aa82-05813c9d7fca",
   "metadata": {},
   "source": [
    "## 7.3 使用while循环处理列表和字典"
   ]
  },
  {
   "cell_type": "markdown",
   "id": "6461bc26-89ff-4607-a6c2-6f61e3b3fb85",
   "metadata": {},
   "source": [
    "### 7.3.1 在列表之间移动元素"
   ]
  },
  {
   "cell_type": "code",
   "execution_count": 7,
   "id": "bf9d487b-b5ed-47ec-a50a-7f300c81fe84",
   "metadata": {},
   "outputs": [
    {
     "name": "stdout",
     "output_type": "stream",
     "text": [
      "Verifying user:Candance\n",
      "Verifying user:Brain\n",
      "Verifying user:Alice\n",
      "\n",
      "The following users have been confirmed:\n",
      "Candance\n",
      "Brain\n",
      "Alice\n"
     ]
    }
   ],
   "source": [
    "unconfirmed_users=['alice','brain','candance']\n",
    "confirmed_users=[]\n",
    "\n",
    "while unconfirmed_users:\n",
    "    current_user=unconfirmed_users.pop()\n",
    "    print(f\"Verifying user:{current_user.title()}\")\n",
    "    confirmed_users.append(current_user)\n",
    "print(\"\\nThe following users have been confirmed:\")\n",
    "\n",
    "for confirmed_user in confirmed_users:\n",
    "    print(confirmed_user.title())"
   ]
  },
  {
   "cell_type": "markdown",
   "id": "d59ee067-7702-48ff-bd7d-cdbd52275b58",
   "metadata": {},
   "source": [
    "### 7.3.2 删除为特定值的所有列表元素"
   ]
  },
  {
   "cell_type": "code",
   "execution_count": 2,
   "id": "6d1eefd6-8261-4ea9-8c29-3dae0831cc1e",
   "metadata": {},
   "outputs": [
    {
     "name": "stdout",
     "output_type": "stream",
     "text": [
      "['dog', 'cat', 'dog', 'goldfish', 'cat', 'rabbit', 'cat']\n",
      "['dog', 'dog', 'goldfish', 'rabbit']\n"
     ]
    }
   ],
   "source": [
    "pets=['dog','cat','dog','goldfish','cat','rabbit','cat']\n",
    "print(pets)\n",
    "\n",
    "while 'cat' in pets:\n",
    "    pets.remove('cat')\n",
    "\n",
    "print(pets)"
   ]
  },
  {
   "cell_type": "markdown",
   "id": "f5612ca9-ed9d-44df-a01e-f0ee6329a18c",
   "metadata": {},
   "source": [
    "### 7.3.3 使用用户输入填充字典"
   ]
  },
  {
   "cell_type": "code",
   "execution_count": 4,
   "id": "9ec87ca2-080f-4a28-a3bc-9f6e9bde0cb9",
   "metadata": {},
   "outputs": [
    {
     "name": "stdin",
     "output_type": "stream",
     "text": [
      "\n",
      " What is your name? lili\n",
      "Which mountain would you like to climb someday? tianshan\n",
      "Would you like to let another person respond? (yes/no) yes\n",
      "\n",
      " What is your name? lala\n",
      "Which mountain would you like to climb someday? cangshan\n",
      "Would you like to let another person respond? (yes/no) no\n"
     ]
    },
    {
     "name": "stdout",
     "output_type": "stream",
     "text": [
      "\n",
      "---Poll Result---\n",
      "lili would like to climb tianshan.\n",
      "lala would like to climb cangshan.\n"
     ]
    }
   ],
   "source": [
    "responses={}\n",
    "#设置一个标志，指出调查是否继续\n",
    "polling_active=True\n",
    "\n",
    "while polling_active:\n",
    "    #提示输入被调查者的名字和回答\n",
    "    name=input(\"\\n What is your name?\")\n",
    "    response=input(\"Which mountain would you like to climb someday?\")\n",
    "    #将回答存储在字典中\n",
    "    responses[name]=response\n",
    "    #看看是否还有人要参与调查\n",
    "    repeat=input(\"Would you like to let another person respond? (yes/no)\")\n",
    "    if repeat=='no':\n",
    "        polling_active=False\n",
    "\n",
    "#调查结束，显示结果\n",
    "print(\"\\n---Poll Result---\")\n",
    "for name, response in responses.items():\n",
    "    print(f\"{name} would like to climb {response}.\")"
   ]
  },
  {
   "cell_type": "markdown",
   "id": "90fad09c-0edb-443d-9856-b7e4b81a437a",
   "metadata": {},
   "source": [
    "# 课后练习——动手试一试"
   ]
  },
  {
   "cell_type": "markdown",
   "id": "3ca80acc-9fd6-4206-bf2f-b7ff243c8a1f",
   "metadata": {},
   "source": [
    "### 练习7.1：汽车租赁"
   ]
  },
  {
   "cell_type": "code",
   "execution_count": 4,
   "id": "7f03be94-af5a-43e3-8fbe-3f8ac3d66c1d",
   "metadata": {},
   "outputs": [
    {
     "name": "stdin",
     "output_type": "stream",
     "text": [
      "which car do you want? Subaru\n"
     ]
    },
    {
     "name": "stdout",
     "output_type": "stream",
     "text": [
      "Let me see if I can find you a Subaru.\n"
     ]
    }
   ],
   "source": [
    "massage=input(\"which car do you want?\")\n",
    "if massage=='Subaru':\n",
    "    print(\"Let me see if I can find you a Subaru.\")"
   ]
  },
  {
   "cell_type": "markdown",
   "id": "bfa84da7-603d-4b13-bf9c-e26f50a6aa09",
   "metadata": {},
   "source": [
    "### 练习7.2：餐馆订位"
   ]
  },
  {
   "cell_type": "code",
   "execution_count": 5,
   "id": "e61e5a5d-51d2-480f-b7fb-4a1580dfb01d",
   "metadata": {},
   "outputs": [
    {
     "name": "stdin",
     "output_type": "stream",
     "text": [
      "How many people? 9\n"
     ]
    },
    {
     "name": "stdout",
     "output_type": "stream",
     "text": [
      "Sorry, you need to wait.\n"
     ]
    }
   ],
   "source": [
    "message=input(\"How many people?\")\n",
    "message=int(message)\n",
    "if message>8:\n",
    "    print(\"Sorry, you need to wait.\")\n",
    "else:\n",
    "    print(\"Welcome!\")"
   ]
  },
  {
   "cell_type": "code",
   "execution_count": 6,
   "id": "63c7d3e6-e174-42b9-8dd0-756c5509ccc5",
   "metadata": {},
   "outputs": [
    {
     "name": "stdin",
     "output_type": "stream",
     "text": [
      "Please input a number. 100\n"
     ]
    },
    {
     "name": "stdout",
     "output_type": "stream",
     "text": [
      "Good\n"
     ]
    }
   ],
   "source": [
    "message=input(\"Please input a number.\")\n",
    "message=int(message)\n",
    "if message//10:\n",
    "    print(\"Good\")\n",
    "else:\n",
    "    print('no')"
   ]
  },
  {
   "cell_type": "markdown",
   "id": "9238d513-d8bd-4258-8b8b-6b24f8b06691",
   "metadata": {},
   "source": [
    "### 练习7.4：比萨配料"
   ]
  },
  {
   "cell_type": "code",
   "execution_count": 4,
   "id": "010a7578-3c3b-401f-af3c-1708d653d4d2",
   "metadata": {},
   "outputs": [
    {
     "name": "stdin",
     "output_type": "stream",
     "text": [
      "Add anything you want.\n",
      " Enter 'quit' when you finished onion\n",
      "Add anything you want.\n",
      " Enter 'quit' when you finished suger\n",
      "Add anything you want.\n",
      " Enter 'quit' when you finished egg\n",
      "Add anything you want.\n",
      " Enter 'quit' when you finished quit\n"
     ]
    },
    {
     "name": "stdout",
     "output_type": "stream",
     "text": [
      "quit\n"
     ]
    }
   ],
   "source": [
    "prompt=\"Add anything you want.\"\n",
    "prompt+=\"\\n Enter 'quit' when you finished\"\n",
    "\n",
    "message=\"\"\n",
    "while message!='quit':\n",
    "    message=input(prompt)\n",
    "    if message=='quit':\n",
    "        print(message)"
   ]
  },
  {
   "cell_type": "markdown",
   "id": "8a14bcb6-ee41-401e-b2a4-1d4b38c6b996",
   "metadata": {},
   "source": [
    "### 练习7.5 7.6 7.7"
   ]
  },
  {
   "cell_type": "code",
   "execution_count": 1,
   "id": "1a376ada-ca98-417d-a26a-d9a02781f120",
   "metadata": {},
   "outputs": [
    {
     "name": "stdin",
     "output_type": "stream",
     "text": [
      "Enter your age. 20\n"
     ]
    }
   ],
   "source": [
    "age=input(\"Enter your age.\")\n",
    "age=int(age)\n",
    "while age<3:\n",
    "    print('0')\n",
    "while age>=3 and age<12:\n",
    "    print('10')\n",
    "while age>12:\n",
    "    break\n",
    "    print('15')"
   ]
  },
  {
   "cell_type": "markdown",
   "id": "0ff6271d-6e64-42ea-99d5-61e60a2d2f23",
   "metadata": {},
   "source": [
    "### 练习7.8：熟食店"
   ]
  },
  {
   "cell_type": "code",
   "execution_count": 1,
   "id": "1e7f9786-b50c-48cd-8e1e-d709658a8eaf",
   "metadata": {},
   "outputs": [
    {
     "name": "stdout",
     "output_type": "stream",
     "text": [
      "I made your tuna sandwich.\n",
      "I made your creem sandwich.\n",
      "I made your chicken sandwich.\n",
      "I made your fish sandwich.\n",
      "I finished all the sandwich.\n",
      "['tuna', 'creem', 'chicken', 'fish']\n",
      "[]\n"
     ]
    }
   ],
   "source": [
    "sandwich_orders=['fish','chicken','creem','tuna']\n",
    "finished_sandwiches=[]\n",
    "while sandwich_orders:\n",
    "    sandwich_order=sandwich_orders.pop()\n",
    "\n",
    "    print(f\"I made your {sandwich_order} sandwich.\")\n",
    "    finished_sandwiches.append(sandwich_order)\n",
    "\n",
    "print(\"I finished all the sandwich.\")\n",
    "print(finished_sandwiches)\n",
    "print(sandwich_orders)"
   ]
  },
  {
   "cell_type": "markdown",
   "id": "ed309e84-9978-44e3-ab72-333d9b1d69ba",
   "metadata": {},
   "source": [
    "### 练习7.9 五香烟熏牛肉卖完了"
   ]
  },
  {
   "cell_type": "code",
   "execution_count": 7,
   "id": "fcda50e2-5ba7-4dd6-abb6-66726b2272aa",
   "metadata": {},
   "outputs": [
    {
     "name": "stdout",
     "output_type": "stream",
     "text": [
      "['fish', 'chicken', 'creem', 'tuna']\n",
      "tuna\n",
      "creem\n",
      "chicken\n",
      "fish\n",
      "['tuna', 'creem', 'chicken', 'fish']\n",
      "[]\n"
     ]
    }
   ],
   "source": [
    "sandwich_orders=['fish','pastrami','chicken','pastrami','creem','pastrami','tuna']\n",
    "while 'pastrami' in sandwich_orders:\n",
    "    sandwich_orders.remove('pastrami')\n",
    "print(sandwich_orders)\n",
    "\n",
    "finished_orders=[]\n",
    "while sandwich_orders:\n",
    "    finished_order=sandwich_orders.pop()\n",
    "    print(finished_order)\n",
    "    finished_orders.append(finished_order)\n",
    "\n",
    "print(finished_orders)\n",
    "print(sandwich_orders)"
   ]
  },
  {
   "cell_type": "markdown",
   "id": "fdb2d3f7-909d-4758-adcb-228f6e248ae6",
   "metadata": {},
   "source": [
    "### 梦想中的度假圣地"
   ]
  },
  {
   "cell_type": "code",
   "execution_count": 2,
   "id": "6388a15f-eff3-4f02-9a16-c6f98068e1c6",
   "metadata": {},
   "outputs": [
    {
     "name": "stdin",
     "output_type": "stream",
     "text": [
      "If you could visit one place in the world, where would you go? xinjiang\n",
      "If you could visit one place in the world, where would you go? xizang\n",
      "If you could visit one place in the world, where would you go? quit\n"
     ]
    },
    {
     "name": "stdout",
     "output_type": "stream",
     "text": [
      "quit\n"
     ]
    }
   ],
   "source": [
    "prompt=\"If you could visit one place in the world, where would you go?\"\n",
    "message=\"\"\n",
    "\n",
    "while message!='quit':\n",
    "    message=input(prompt)\n",
    "    if message=='quit':\n",
    "        print(message)\n",
    "    "
   ]
  },
  {
   "cell_type": "code",
   "execution_count": null,
   "id": "88e3c6f7-e5e5-42ab-af5b-0f0d228f6813",
   "metadata": {},
   "outputs": [],
   "source": []
  }
 ],
 "metadata": {
  "kernelspec": {
   "display_name": "Python 3 (ipykernel)",
   "language": "python",
   "name": "python3"
  },
  "language_info": {
   "codemirror_mode": {
    "name": "ipython",
    "version": 3
   },
   "file_extension": ".py",
   "mimetype": "text/x-python",
   "name": "python",
   "nbconvert_exporter": "python",
   "pygments_lexer": "ipython3",
   "version": "3.11.7"
  }
 },
 "nbformat": 4,
 "nbformat_minor": 5
}
