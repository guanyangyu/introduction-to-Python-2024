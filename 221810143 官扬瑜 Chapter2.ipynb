{
 "cells": [
  {
   "cell_type": "markdown",
   "id": "5a2054d7-9a07-4c63-8481-d13e03dcd716",
   "metadata": {},
   "source": [
    "# 第2章 变量和简单的数据类型"
   ]
  },
  {
   "cell_type": "markdown",
   "id": "d7cf7ffc-a9f9-47b5-b3a6-cb1e0f5c380e",
   "metadata": {},
   "source": [
    "## 2.1 运行 hello_world.py时发生的情况"
   ]
  },
  {
   "cell_type": "code",
   "execution_count": 1,
   "id": "0f9b22d5-d320-4d7c-9d8c-7c12e33eab6f",
   "metadata": {},
   "outputs": [
    {
     "name": "stdout",
     "output_type": "stream",
     "text": [
      "hello python world!\n"
     ]
    }
   ],
   "source": [
    "print(\"hello python world!\")"
   ]
  },
  {
   "cell_type": "markdown",
   "id": "0d6b2bf8-5a95-4879-a3ef-c960da3a6134",
   "metadata": {},
   "source": [
    "## 2.2 变量"
   ]
  },
  {
   "cell_type": "code",
   "execution_count": 3,
   "id": "c8c44f28-1dae-4906-ac1c-f241e3401154",
   "metadata": {},
   "outputs": [
    {
     "name": "stdout",
     "output_type": "stream",
     "text": [
      "Hello Python world!\n"
     ]
    }
   ],
   "source": [
    "message=\"Hello Python world!\"\n",
    "print(message)"
   ]
  },
  {
   "cell_type": "code",
   "execution_count": 2,
   "id": "fce4937d-475d-46b1-93c8-8dee587692b6",
   "metadata": {},
   "outputs": [
    {
     "name": "stdout",
     "output_type": "stream",
     "text": [
      "Hello Python world!\n",
      "Hello Python Crash course world!\n"
     ]
    }
   ],
   "source": [
    "message=\"Hello Python world!\"\n",
    "print(message)\n",
    "\n",
    "message=\"Hello Python Crash course world!\"\n",
    "print(message)"
   ]
  },
  {
   "cell_type": "code",
   "execution_count": 5,
   "id": "aa32172c-9045-4fb8-a71a-4e62fd80f9ed",
   "metadata": {},
   "outputs": [
    {
     "name": "stdout",
     "output_type": "stream",
     "text": [
      "Hello Python Crash course world\n"
     ]
    }
   ],
   "source": [
    "message=\"Hello Python Crash course world\"\n",
    "print(message)"
   ]
  },
  {
   "cell_type": "markdown",
   "id": "a0730f5b-9be6-448c-b4e0-044ffeb54db5",
   "metadata": {},
   "source": [
    "### 2.2.1 变量的命名和使用"
   ]
  },
  {
   "cell_type": "code",
   "execution_count": 6,
   "id": "4878d95e-1775-41a7-b248-45300adc8a1c",
   "metadata": {},
   "outputs": [],
   "source": [
    "#变量名只能包含字母、数字和下划线；且不能以数字开头\n",
    "#变量名不能包含空格，但能使用下划线去代替空格\n",
    "#不能把python本身的关键字和函数名用作变量名\n",
    "#变量名尽量短而精"
   ]
  },
  {
   "cell_type": "markdown",
   "id": "52b15cca-d097-4a43-ab8f-e1e827db9c6e",
   "metadata": {},
   "source": [
    "### 2.2.2 如何在使用变量时避免命名错误"
   ]
  },
  {
   "cell_type": "code",
   "execution_count": 11,
   "id": "ef08a421-cf4b-4daa-823d-f77437511c85",
   "metadata": {},
   "outputs": [
    {
     "ename": "NameError",
     "evalue": "name 'messsage' is not defined",
     "output_type": "error",
     "traceback": [
      "\u001b[1;31m---------------------------------------------------------------------------\u001b[0m",
      "\u001b[1;31mNameError\u001b[0m                                 Traceback (most recent call last)",
      "Cell \u001b[1;32mIn[11], line 2\u001b[0m\n\u001b[0;32m      1\u001b[0m mesage\u001b[38;5;241m=\u001b[39m\u001b[38;5;124m\"\u001b[39m\u001b[38;5;124mHello Python Crash Course reader！\u001b[39m\u001b[38;5;124m\"\u001b[39m\n\u001b[1;32m----> 2\u001b[0m \u001b[38;5;28mprint\u001b[39m(messsage)\n",
      "\u001b[1;31mNameError\u001b[0m: name 'messsage' is not defined"
     ]
    }
   ],
   "source": [
    "mesage=\"Hello Python Crash Course reader！\"\n",
    "print(messsage) #避免命名错误"
   ]
  },
  {
   "cell_type": "code",
   "execution_count": 7,
   "id": "c725e587-ad1f-4179-a51f-659adb2b754f",
   "metadata": {},
   "outputs": [
    {
     "name": "stdout",
     "output_type": "stream",
     "text": [
      "Hello Python Crash Course reader！\n"
     ]
    }
   ],
   "source": [
    "mesage=\"Hello Python Crash Course reader！\"\n",
    "print(mesage)"
   ]
  },
  {
   "cell_type": "markdown",
   "id": "3fe7cfba-c079-4079-8231-534748577d0a",
   "metadata": {},
   "source": [
    "### 2.2.3 变量时标签"
   ]
  },
  {
   "cell_type": "code",
   "execution_count": 12,
   "id": "1a18bc05-96d8-421a-acab-c2afc5bd67b2",
   "metadata": {},
   "outputs": [],
   "source": [
    "#变量是可以被赋值的标签"
   ]
  },
  {
   "cell_type": "markdown",
   "id": "4fc92d96-8e02-47be-8d33-c43c9034ce7c",
   "metadata": {},
   "source": [
    "# 课后练习——动手试一试"
   ]
  },
  {
   "cell_type": "markdown",
   "id": "b3d7a64e-daec-4562-ad74-0105469f83b1",
   "metadata": {},
   "source": [
    "## 练习2.1 简单消息"
   ]
  },
  {
   "cell_type": "code",
   "execution_count": 2,
   "id": "0aba5d96-021b-405d-9fad-30da6533e9f8",
   "metadata": {},
   "outputs": [
    {
     "name": "stdout",
     "output_type": "stream",
     "text": [
      "GYY is beautiful!\n"
     ]
    }
   ],
   "source": [
    "message=\"GYY is beautiful!\"\n",
    "print(message)"
   ]
  },
  {
   "cell_type": "markdown",
   "id": "ad4f6f46-82e2-444b-98b1-a0a0587e5c3d",
   "metadata": {},
   "source": [
    "## 练习2.2 多条简单消息"
   ]
  },
  {
   "cell_type": "code",
   "execution_count": 3,
   "id": "ba5d4920-2969-4204-9e5b-27107fd29f20",
   "metadata": {},
   "outputs": [
    {
     "name": "stdout",
     "output_type": "stream",
     "text": [
      "GYY is beautiful\n",
      "yes\n"
     ]
    }
   ],
   "source": [
    "message=\"GYY is beautiful\"\n",
    "print(message)\n",
    "\n",
    "message=\"yes\"\n",
    "print(message)"
   ]
  },
  {
   "cell_type": "markdown",
   "id": "f088535d-21cc-48bf-9b22-d6dfd430bbbc",
   "metadata": {},
   "source": [
    "## 2.3 字符串"
   ]
  },
  {
   "cell_type": "markdown",
   "id": "510a2dd9-c065-4913-9ea1-de37c6cb7668",
   "metadata": {},
   "source": [
    "字符串就是一系列字符，在python中，用引号引起来的都是字符串，其中的引号可以是单引号，也可以是双引号"
   ]
  },
  {
   "cell_type": "markdown",
   "id": "46a77740-d657-444f-86b9-dab59357fa28",
   "metadata": {},
   "source": [
    "### 2.3.1 使用方法修改字符串的大小写"
   ]
  },
  {
   "cell_type": "code",
   "execution_count": 13,
   "id": "e8c6a06d-476c-48e2-ad01-795f0e71fa05",
   "metadata": {},
   "outputs": [
    {
     "name": "stdout",
     "output_type": "stream",
     "text": [
      "Ada Lovelace\n"
     ]
    }
   ],
   "source": [
    "# .title()首字母大写\n",
    "name=\"ada lovelace\"\n",
    "print(name.title())"
   ]
  },
  {
   "cell_type": "code",
   "execution_count": 14,
   "id": "88b3b5f1-0ef0-48c2-9064-f928eea5289a",
   "metadata": {},
   "outputs": [
    {
     "name": "stdout",
     "output_type": "stream",
     "text": [
      "ADA LOVELACE\n"
     ]
    }
   ],
   "source": [
    "# .upper()全部大写\n",
    "name=\"ada lovelace\"\n",
    "print(name.upper())"
   ]
  },
  {
   "cell_type": "code",
   "execution_count": 15,
   "id": "f20d0b19-3bd1-49c0-88e5-0703a91e5fd0",
   "metadata": {},
   "outputs": [
    {
     "name": "stdout",
     "output_type": "stream",
     "text": [
      "ada lovelace\n"
     ]
    }
   ],
   "source": [
    "# .lower() 全部小写\n",
    "name=\"Ada Lovelace\"\n",
    "print(name.lower())"
   ]
  },
  {
   "cell_type": "markdown",
   "id": "0c9dbbc9-6e6b-4a87-9a6a-7296e51d60fd",
   "metadata": {},
   "source": [
    "### 2.3.2 在字符串中使用变量"
   ]
  },
  {
   "cell_type": "code",
   "execution_count": 10,
   "id": "7150a7e4-fa18-4959-a53e-b24f3c191029",
   "metadata": {},
   "outputs": [
    {
     "name": "stdout",
     "output_type": "stream",
     "text": [
      "ada lovelace\n"
     ]
    }
   ],
   "source": [
    "first_name=\"ada\"\n",
    "last_name=\"lovelace\"\n",
    "full_name=f\"{first_name} {last_name}\"\n",
    "print(full_name)"
   ]
  },
  {
   "cell_type": "code",
   "execution_count": 15,
   "id": "4a770794-d042-49b1-9a03-752c194764c5",
   "metadata": {},
   "outputs": [
    {
     "name": "stdout",
     "output_type": "stream",
     "text": [
      "Hello,ada lovelace\n"
     ]
    }
   ],
   "source": [
    "first_name=\"ada\"\n",
    "last_name=\"lovelace\"\n",
    "full_name=f\"{fist_name} {last_name}\"\n",
    "print(f\"Hello,{full_name}\")"
   ]
  },
  {
   "cell_type": "code",
   "execution_count": 19,
   "id": "bbf999af-c552-4d89-802e-5a8967c8ca56",
   "metadata": {},
   "outputs": [
    {
     "name": "stdout",
     "output_type": "stream",
     "text": [
      "Hello,Ada Lovelace!\n"
     ]
    }
   ],
   "source": [
    "first_name=\"ada\"\n",
    "last_name=\"lovelace\"\n",
    "full_name=f\"{first_name} {last_name}\"\n",
    "print(f\"Hello,{full_name.title()}!\")"
   ]
  },
  {
   "cell_type": "code",
   "execution_count": 20,
   "id": "527823e5-c1aa-4795-8f52-24656c114f1f",
   "metadata": {},
   "outputs": [
    {
     "name": "stdout",
     "output_type": "stream",
     "text": [
      "Hello,Ada Lovelace!\n"
     ]
    }
   ],
   "source": [
    "first_name=\"ada\"\n",
    "last_name=\"lovelace\"\n",
    "full_name=f\"{first_name} {last_name}\"\n",
    "message=f\"Hello,{full_name.title()}!\"\n",
    "print(message)"
   ]
  },
  {
   "cell_type": "markdown",
   "id": "35049118-9318-41a2-9084-2fe6aa112c05",
   "metadata": {},
   "source": [
    "### 2.3.3 使用制表符或换行符来添加空白"
   ]
  },
  {
   "cell_type": "code",
   "execution_count": 16,
   "id": "1433c1f8-88b0-490d-81f5-4f335961c4cf",
   "metadata": {},
   "outputs": [],
   "source": [
    "#在编程中，空白泛指任何非打印字符，如空格、制表符和换行符"
   ]
  },
  {
   "cell_type": "code",
   "execution_count": 22,
   "id": "f1a7115d-60b9-43b1-baef-f66149b93da7",
   "metadata": {},
   "outputs": [
    {
     "name": "stdout",
     "output_type": "stream",
     "text": [
      "Python\n"
     ]
    }
   ],
   "source": [
    "print(\"Python\")"
   ]
  },
  {
   "cell_type": "code",
   "execution_count": 23,
   "id": "76067fa0-0eda-44fd-8c10-294cead0dab4",
   "metadata": {},
   "outputs": [
    {
     "name": "stdout",
     "output_type": "stream",
     "text": [
      " Python\n"
     ]
    }
   ],
   "source": [
    "print(\" Python\")"
   ]
  },
  {
   "cell_type": "code",
   "execution_count": 24,
   "id": "24cf4ad9-d825-4c26-9eae-9aadc665dc3b",
   "metadata": {},
   "outputs": [
    {
     "name": "stdout",
     "output_type": "stream",
     "text": [
      "\tPython\n"
     ]
    }
   ],
   "source": [
    "print(\"\\tPython\")"
   ]
  },
  {
   "cell_type": "code",
   "execution_count": 25,
   "id": "79409bde-e3c2-4090-8842-371651887f9d",
   "metadata": {},
   "outputs": [
    {
     "name": "stdout",
     "output_type": "stream",
     "text": [
      "languages:\n",
      "Python\n",
      "C\n",
      "Javascript\n"
     ]
    }
   ],
   "source": [
    "print(\"languages:\\nPython\\nC\\nJavascript\")"
   ]
  },
  {
   "cell_type": "code",
   "execution_count": 27,
   "id": "50a58ab8-aa78-476b-ba75-478eac3fed03",
   "metadata": {},
   "outputs": [
    {
     "name": "stdout",
     "output_type": "stream",
     "text": [
      "languages:\tPython\n",
      "C\n",
      "\tjavaScript\n",
      "C++\n"
     ]
    }
   ],
   "source": [
    "print(\"languages:\\tPython\\nC\\n\\tjavaScript\\nC++\")"
   ]
  },
  {
   "cell_type": "markdown",
   "id": "c14e5793-9de5-4e33-a846-57913b219ff3",
   "metadata": {},
   "source": [
    "### 2.3.4 删除空白"
   ]
  },
  {
   "cell_type": "code",
   "execution_count": 21,
   "id": "d0e2b1d5-fa94-489e-867d-696adb712164",
   "metadata": {},
   "outputs": [
    {
     "data": {
      "text/plain": [
       "'Python'"
      ]
     },
     "execution_count": 21,
     "metadata": {},
     "output_type": "execute_result"
    }
   ],
   "source": [
    "#删除右侧空白：.rstrip()\n",
    "favorite_language=\"Python  \"\n",
    "favorite_language.rstrip()\n"
   ]
  },
  {
   "cell_type": "code",
   "execution_count": 23,
   "id": "1f9ead59-2054-446b-bfcf-c8d1f8e0f0b5",
   "metadata": {},
   "outputs": [
    {
     "data": {
      "text/plain": [
       "'Python  '"
      ]
     },
     "execution_count": 23,
     "metadata": {},
     "output_type": "execute_result"
    }
   ],
   "source": [
    "#这种删除只是暂时的，当再询问它时会发现它并未对原来的值产生影响\n",
    "favorite_language=\"Python  \"\n",
    "favorite_language.rstrip()\n",
    "favorite_language"
   ]
  },
  {
   "cell_type": "code",
   "execution_count": 24,
   "id": "3bf9d511-48c7-4b76-abf3-d6da997395b7",
   "metadata": {},
   "outputs": [
    {
     "data": {
      "text/plain": [
       "'Python'"
      ]
     },
     "execution_count": 24,
     "metadata": {},
     "output_type": "execute_result"
    }
   ],
   "source": [
    "#要想永久删除，就需要将调用.rstrip()的值赋给原来的变量\n",
    "favorite_language=\"Python  \"\n",
    "favorite_language=favorite_language.rstrip()\n",
    "favorite_language"
   ]
  },
  {
   "cell_type": "code",
   "execution_count": 25,
   "id": "e3984fc7-414d-4ea8-a30e-12bb5e511331",
   "metadata": {},
   "outputs": [
    {
     "data": {
      "text/plain": [
       "'python'"
      ]
     },
     "execution_count": 25,
     "metadata": {},
     "output_type": "execute_result"
    }
   ],
   "source": [
    "# .lstrip（）删除左侧空白\n",
    "favorite_language=\"  python\"\n",
    "favorite_language=favorite_language.lstrip()\n",
    "favorite_language"
   ]
  },
  {
   "cell_type": "code",
   "execution_count": 37,
   "id": "796a07f8-8391-4711-85ee-af6dd97e8019",
   "metadata": {},
   "outputs": [
    {
     "data": {
      "text/plain": [
       "'python'"
      ]
     },
     "execution_count": 37,
     "metadata": {},
     "output_type": "execute_result"
    }
   ],
   "source": [
    "a=\"  python  \"\n",
    "a=a.strip()\n",
    "a"
   ]
  },
  {
   "cell_type": "markdown",
   "id": "246e1713-eab3-4709-8f1a-5cc7f23f4676",
   "metadata": {},
   "source": [
    "### 2.3.5 删除前缀"
   ]
  },
  {
   "cell_type": "markdown",
   "id": "29d7ba4b-50de-4c67-b22c-2cf6ed941814",
   "metadata": {},
   "source": [
    "使用 .removeprefix()可以删除前缀，在括号内输入想要删除的部分即可；同时，它和.strip一样，也保持原来的字符串不变，如需永远删除，则需要将其赋给新的变量"
   ]
  },
  {
   "cell_type": "code",
   "execution_count": 1,
   "id": "811c4646-30f6-47e3-b1cf-16fa39c58391",
   "metadata": {},
   "outputs": [
    {
     "data": {
      "text/plain": [
       "'nostarch.com'"
      ]
     },
     "execution_count": 1,
     "metadata": {},
     "output_type": "execute_result"
    }
   ],
   "source": [
    "nostarch_url=\"http://nostarch.com\"\n",
    "nostarch_url.removeprefix(\"http://\")"
   ]
  },
  {
   "cell_type": "code",
   "execution_count": 5,
   "id": "0193553d-6045-448d-83ae-4b0e89017290",
   "metadata": {},
   "outputs": [
    {
     "name": "stdout",
     "output_type": "stream",
     "text": [
      "nostarch.com\n"
     ]
    }
   ],
   "source": [
    "nostarch_url=\"http://nostarch.com\"\n",
    "nostarch_url=nostarch_url.removeprefix(\"http://\")\n",
    "nostarch=f\"{nostarch_url}\"\n",
    "print(nostarch)"
   ]
  },
  {
   "cell_type": "markdown",
   "id": "d02e42a7-c5e8-42e8-8b07-816a3d381201",
   "metadata": {},
   "source": [
    "### 2.3.6 如何在使用字符串时避免语法错误"
   ]
  },
  {
   "cell_type": "code",
   "execution_count": 6,
   "id": "9ddfb31c-337a-42d8-af3b-5d90548e3360",
   "metadata": {},
   "outputs": [
    {
     "name": "stdout",
     "output_type": "stream",
     "text": [
      "one of python's strengths is its diverse community\n"
     ]
    }
   ],
   "source": [
    "message=\"one of python's strengths is its diverse community\"\n",
    "print(message)"
   ]
  },
  {
   "cell_type": "markdown",
   "id": "3f110da9-0b49-483b-afcb-485d6e212a64",
   "metadata": {},
   "source": [
    "# 课后练习——动手试一试"
   ]
  },
  {
   "cell_type": "markdown",
   "id": "9bc6bf31-a6c2-4a7a-b330-86210ee357cb",
   "metadata": {},
   "source": [
    "## 练习2.3：个性化消息"
   ]
  },
  {
   "cell_type": "code",
   "execution_count": 26,
   "id": "98e0f6f0-cf1f-441f-9343-06fa94b95f28",
   "metadata": {},
   "outputs": [
    {
     "name": "stdout",
     "output_type": "stream",
     "text": [
      "Hello Chloe, would you like to learn some Python today?\n"
     ]
    }
   ],
   "source": [
    "name=\"Chloe\"\n",
    "message=f\"Hello {name}, would you like to learn some Python today?\"\n",
    "print(message)"
   ]
  },
  {
   "cell_type": "markdown",
   "id": "c262cc22-1bb1-424d-a895-cc243015661f",
   "metadata": {},
   "source": [
    "## 练习2.4 调整名字的大小写"
   ]
  },
  {
   "cell_type": "code",
   "execution_count": 12,
   "id": "e86b8f75-d15c-4263-9f0f-3d2bc7b6af02",
   "metadata": {},
   "outputs": [
    {
     "data": {
      "text/plain": [
       "'Chloe G'"
      ]
     },
     "execution_count": 12,
     "metadata": {},
     "output_type": "execute_result"
    }
   ],
   "source": [
    "first_name=\"Chloe\"\n",
    "last_name=\"G\"\n",
    "full_name=f\"{first_name} {last_name}\"\n",
    "full_name\n"
   ]
  },
  {
   "cell_type": "code",
   "execution_count": 13,
   "id": "70603c8d-a72c-4996-9c7b-38a7f66ee723",
   "metadata": {},
   "outputs": [
    {
     "name": "stdout",
     "output_type": "stream",
     "text": [
      "Chloe G\n"
     ]
    }
   ],
   "source": [
    "name=\"Chloe G\"\n",
    "print(name.title())"
   ]
  },
  {
   "cell_type": "code",
   "execution_count": 14,
   "id": "e1a059ab-62d2-4c76-b152-61ed2dd7fb1f",
   "metadata": {},
   "outputs": [
    {
     "name": "stdout",
     "output_type": "stream",
     "text": [
      "CHLOE G\n"
     ]
    }
   ],
   "source": [
    "name=\"Chloe G\"\n",
    "print(name.upper())"
   ]
  },
  {
   "cell_type": "code",
   "execution_count": 15,
   "id": "24c25391-6c6b-458f-9a82-f1507385fea5",
   "metadata": {},
   "outputs": [
    {
     "name": "stdout",
     "output_type": "stream",
     "text": [
      "chloe g\n"
     ]
    }
   ],
   "source": [
    "name=\"Chloe G\"\n",
    "print(name.lower())"
   ]
  },
  {
   "cell_type": "markdown",
   "id": "f422587d-cf60-45ab-b6f6-d6019a528455",
   "metadata": {},
   "source": [
    "## 练习2.5 、2.6 名言"
   ]
  },
  {
   "cell_type": "code",
   "execution_count": 16,
   "id": "fae6286b-df8d-451a-a7f3-3fe2fc5f25ee",
   "metadata": {},
   "outputs": [
    {
     "name": "stdout",
     "output_type": "stream",
     "text": [
      "Albert Einstein once said,'A personn who never made a mistake never tried anything new'.\n"
     ]
    }
   ],
   "source": [
    "famous_person=\"Albert Einstein\"\n",
    "message=\"A personn who never made a mistake never tried anything new\"\n",
    "a=f\"{famous_person} once said,'{message}'.\"\n",
    "print(a)"
   ]
  },
  {
   "cell_type": "markdown",
   "id": "59872c0b-9d9e-4e38-afe8-59aafd08f1a1",
   "metadata": {},
   "source": [
    "## 练习2.7：删除人名前后的空白"
   ]
  },
  {
   "cell_type": "code",
   "execution_count": 17,
   "id": "4f905c30-6c1c-4d21-b97c-bfee975400df",
   "metadata": {},
   "outputs": [
    {
     "data": {
      "text/plain": [
       "'Chloe Gyy'"
      ]
     },
     "execution_count": 17,
     "metadata": {},
     "output_type": "execute_result"
    }
   ],
   "source": [
    "name=\"   Chloe Gyy  \"\n",
    "name=name.strip()\n",
    "name"
   ]
  },
  {
   "cell_type": "code",
   "execution_count": 31,
   "id": "f27481c5-abfe-47e8-995c-c07ca1132b27",
   "metadata": {},
   "outputs": [
    {
     "name": "stdout",
     "output_type": "stream",
     "text": [
      "\n",
      "Chloe Gyy\n"
     ]
    }
   ],
   "source": [
    "name=\"Chloe Gyy\"\n",
    "print(f\"\\n{name}\")\n"
   ]
  },
  {
   "cell_type": "code",
   "execution_count": 24,
   "id": "15fbb1b6-6db0-43bb-98f9-0402b1a7b743",
   "metadata": {},
   "outputs": [
    {
     "name": "stdout",
     "output_type": "stream",
     "text": [
      "Chloe\t\n",
      "Gyy\n"
     ]
    }
   ],
   "source": [
    "name=\"\\tChloe\\t\\nGyy\\t\"\n",
    "a=name.strip()\n",
    "print(a)\n"
   ]
  },
  {
   "cell_type": "markdown",
   "id": "8ae4fb7a-4a53-4dbf-850e-3a5f6a33cf6f",
   "metadata": {},
   "source": [
    "## 练习2.8：文件扩展名"
   ]
  },
  {
   "cell_type": "code",
   "execution_count": 28,
   "id": "ea0e9c8f-ef06-4ae1-bea7-a441c8d8af9b",
   "metadata": {},
   "outputs": [
    {
     "name": "stdout",
     "output_type": "stream",
     "text": [
      "python_notes.\n"
     ]
    }
   ],
   "source": [
    "filename=\"python_notes.txt\"\n",
    "filename=filename.removesuffix(\"txt\")\n",
    "print(filename)"
   ]
  },
  {
   "cell_type": "markdown",
   "id": "28ffd538-0434-4e20-bd3a-323b1de91b81",
   "metadata": {},
   "source": [
    "## 2.4 数"
   ]
  },
  {
   "cell_type": "markdown",
   "id": "8a98a0cf-adf2-4f73-9515-90ac3498980b",
   "metadata": {},
   "source": [
    "### 2.4.1 整数"
   ]
  },
  {
   "cell_type": "markdown",
   "id": "a3ceec0f-f5f3-471d-883f-4121984904cc",
   "metadata": {},
   "source": [
    "在python中，可以对整数执行+ - * / 运算"
   ]
  },
  {
   "cell_type": "code",
   "execution_count": 1,
   "id": "9d06425a-3bd4-4b6f-8235-8a1fbb2b137e",
   "metadata": {},
   "outputs": [
    {
     "data": {
      "text/plain": [
       "9"
      ]
     },
     "execution_count": 1,
     "metadata": {},
     "output_type": "execute_result"
    }
   ],
   "source": [
    "3**2"
   ]
  },
  {
   "cell_type": "code",
   "execution_count": 2,
   "id": "375e30e7-65a0-47d8-aaec-161e9eded031",
   "metadata": {},
   "outputs": [
    {
     "data": {
      "text/plain": [
       "27"
      ]
     },
     "execution_count": 2,
     "metadata": {},
     "output_type": "execute_result"
    }
   ],
   "source": [
    "3**3"
   ]
  },
  {
   "cell_type": "code",
   "execution_count": 3,
   "id": "acc8eead-a51e-4f9a-ba84-7ce646a8f02c",
   "metadata": {},
   "outputs": [
    {
     "data": {
      "text/plain": [
       "1000000"
      ]
     },
     "execution_count": 3,
     "metadata": {},
     "output_type": "execute_result"
    }
   ],
   "source": [
    "10**6"
   ]
  },
  {
   "cell_type": "code",
   "execution_count": 4,
   "id": "4ef065ed-5582-4148-8080-92b4ba2456ba",
   "metadata": {},
   "outputs": [
    {
     "data": {
      "text/plain": [
       "5"
      ]
     },
     "execution_count": 4,
     "metadata": {},
     "output_type": "execute_result"
    }
   ],
   "source": [
    "2+3"
   ]
  },
  {
   "cell_type": "code",
   "execution_count": 5,
   "id": "a2561fb2-a131-4a76-b91d-efbf4afe66f9",
   "metadata": {},
   "outputs": [
    {
     "data": {
      "text/plain": [
       "2"
      ]
     },
     "execution_count": 5,
     "metadata": {},
     "output_type": "execute_result"
    }
   ],
   "source": [
    "3-1"
   ]
  },
  {
   "cell_type": "code",
   "execution_count": 6,
   "id": "59aedcb7-ef0c-4a57-aaa9-b7d1c7f7dc63",
   "metadata": {},
   "outputs": [
    {
     "data": {
      "text/plain": [
       "6"
      ]
     },
     "execution_count": 6,
     "metadata": {},
     "output_type": "execute_result"
    }
   ],
   "source": [
    "2*3"
   ]
  },
  {
   "cell_type": "code",
   "execution_count": 7,
   "id": "71d3276e-66f1-4d20-81ff-0f9f71ef9b07",
   "metadata": {},
   "outputs": [
    {
     "data": {
      "text/plain": [
       "8"
      ]
     },
     "execution_count": 7,
     "metadata": {},
     "output_type": "execute_result"
    }
   ],
   "source": [
    "2**3"
   ]
  },
  {
   "cell_type": "code",
   "execution_count": 8,
   "id": "34b21a28-8e07-4740-8df6-2830558f6e80",
   "metadata": {},
   "outputs": [
    {
     "data": {
      "text/plain": [
       "14"
      ]
     },
     "execution_count": 8,
     "metadata": {},
     "output_type": "execute_result"
    }
   ],
   "source": [
    "2+3*4"
   ]
  },
  {
   "cell_type": "markdown",
   "id": "2791829d-7ef6-47fd-991f-6ed1edcc48a5",
   "metadata": {},
   "source": [
    "### 2.4.2 浮点数"
   ]
  },
  {
   "cell_type": "markdown",
   "id": "2d7e8397-f3fa-4cc1-9774-0c820eb4e557",
   "metadata": {},
   "source": [
    "python将带小数点的数称为浮点数"
   ]
  },
  {
   "cell_type": "code",
   "execution_count": 16,
   "id": "0686baa7-ef93-4921-a1ab-760dde7525ab",
   "metadata": {},
   "outputs": [
    {
     "data": {
      "text/plain": [
       "0.30000000000000004"
      ]
     },
     "execution_count": 16,
     "metadata": {},
     "output_type": "execute_result"
    }
   ],
   "source": [
    "0.2+0.1"
   ]
  },
  {
   "cell_type": "code",
   "execution_count": 17,
   "id": "440834ec-90c5-44cd-a2e7-695b8aa3f74b",
   "metadata": {},
   "outputs": [
    {
     "data": {
      "text/plain": [
       "0.30000000000000004"
      ]
     },
     "execution_count": 17,
     "metadata": {},
     "output_type": "execute_result"
    }
   ],
   "source": [
    "3*0.1"
   ]
  },
  {
   "cell_type": "markdown",
   "id": "65c64da1-bf08-482c-a084-88890a0186c2",
   "metadata": {},
   "source": [
    "### 2.4.3整数和浮点数"
   ]
  },
  {
   "cell_type": "markdown",
   "id": "e050e75d-7ac3-4d94-abad-5f37b19fda64",
   "metadata": {},
   "source": [
    "将任意两个数相除，结果总是浮点数，即便这两个数都是整数且能相除"
   ]
  },
  {
   "cell_type": "code",
   "execution_count": 18,
   "id": "0247d675-9cc7-495a-8c98-64b64b588e8c",
   "metadata": {},
   "outputs": [
    {
     "data": {
      "text/plain": [
       "2.0"
      ]
     },
     "execution_count": 18,
     "metadata": {},
     "output_type": "execute_result"
    }
   ],
   "source": [
    "4/2"
   ]
  },
  {
   "cell_type": "code",
   "execution_count": 19,
   "id": "094f6774-0662-4483-8a56-23e370b0a4c9",
   "metadata": {},
   "outputs": [
    {
     "data": {
      "text/plain": [
       "3.0"
      ]
     },
     "execution_count": 19,
     "metadata": {},
     "output_type": "execute_result"
    }
   ],
   "source": [
    "1+2.0"
   ]
  },
  {
   "cell_type": "code",
   "execution_count": 20,
   "id": "a44ab953-f899-4d67-8119-170c1042c57e",
   "metadata": {},
   "outputs": [
    {
     "data": {
      "text/plain": [
       "6.0"
      ]
     },
     "execution_count": 20,
     "metadata": {},
     "output_type": "execute_result"
    }
   ],
   "source": [
    "2*3.0"
   ]
  },
  {
   "cell_type": "markdown",
   "id": "c83b3269-0e06-439c-9115-35c19afce6f4",
   "metadata": {},
   "source": [
    "### 2.4.4 数中的下划线"
   ]
  },
  {
   "cell_type": "code",
   "execution_count": 21,
   "id": "fb074f94-a58a-45fd-a76e-3b3d3e8c1663",
   "metadata": {},
   "outputs": [
    {
     "name": "stdout",
     "output_type": "stream",
     "text": [
      "14000000000\n"
     ]
    }
   ],
   "source": [
    "universe_age=14_000_000_000\n",
    "print(universe_age)"
   ]
  },
  {
   "cell_type": "markdown",
   "id": "bedf02bd-932e-4e65-83eb-fca4e5c30ed7",
   "metadata": {},
   "source": [
    "### 2.4.5同时给多个变量赋值"
   ]
  },
  {
   "cell_type": "code",
   "execution_count": 22,
   "id": "fb8660c1-a0b1-404e-b780-031c07f299f7",
   "metadata": {},
   "outputs": [],
   "source": [
    "x,y,z=0,0,0"
   ]
  },
  {
   "cell_type": "markdown",
   "id": "9b4317c1-89c9-47d6-acc5-15b424bf772f",
   "metadata": {},
   "source": [
    "# 课后练习——动手试一试"
   ]
  },
  {
   "cell_type": "markdown",
   "id": "91ea401c-e4a9-4689-ad73-161f29b0ca4a",
   "metadata": {},
   "source": [
    "## 练习2.9：数字8"
   ]
  },
  {
   "cell_type": "code",
   "execution_count": 23,
   "id": "38f37186-fdfd-4232-9c8d-05c83a30b59a",
   "metadata": {},
   "outputs": [
    {
     "name": "stdout",
     "output_type": "stream",
     "text": [
      "8\n"
     ]
    }
   ],
   "source": [
    "print(5+3)"
   ]
  },
  {
   "cell_type": "code",
   "execution_count": 24,
   "id": "1bd298f3-b23a-4cd1-9dc8-2297b599ad7a",
   "metadata": {},
   "outputs": [
    {
     "name": "stdout",
     "output_type": "stream",
     "text": [
      "8\n"
     ]
    }
   ],
   "source": [
    "print(11-3)"
   ]
  },
  {
   "cell_type": "code",
   "execution_count": 25,
   "id": "c785e932-1a0f-4fd0-9cae-d4da9b3e9b75",
   "metadata": {},
   "outputs": [
    {
     "name": "stdout",
     "output_type": "stream",
     "text": [
      "8\n"
     ]
    }
   ],
   "source": [
    "print(2*4)"
   ]
  },
  {
   "cell_type": "code",
   "execution_count": 26,
   "id": "097ed802-6001-4732-8e15-5775921f5929",
   "metadata": {},
   "outputs": [
    {
     "name": "stdout",
     "output_type": "stream",
     "text": [
      "8.0\n"
     ]
    }
   ],
   "source": [
    "print(64/8)"
   ]
  },
  {
   "cell_type": "markdown",
   "id": "2719d711-d477-4b90-96b1-b50ecb57c3a0",
   "metadata": {},
   "source": [
    "## 练习2.10：最喜欢的数"
   ]
  },
  {
   "cell_type": "code",
   "execution_count": 35,
   "id": "7425abbc-6325-465f-812c-2b846063f53e",
   "metadata": {},
   "outputs": [
    {
     "name": "stdout",
     "output_type": "stream",
     "text": [
      "My favorite number is 5.\n"
     ]
    }
   ],
   "source": [
    "favorite_number=5\n",
    "print(f\"My favorite number is {favorite_number}.\")"
   ]
  },
  {
   "cell_type": "markdown",
   "id": "cc18d8b9-49d7-45f3-a907-fc01d4fabb2f",
   "metadata": {},
   "source": [
    "## 2.5 注释"
   ]
  },
  {
   "cell_type": "markdown",
   "id": "0f2d7fe6-7caf-45e6-a08b-8ca98c78193b",
   "metadata": {},
   "source": [
    "### 2.5.1 如何编写注释"
   ]
  },
  {
   "cell_type": "code",
   "execution_count": 27,
   "id": "8a22eef8-e0aa-4d61-9613-64d8728ad5f7",
   "metadata": {},
   "outputs": [
    {
     "name": "stdout",
     "output_type": "stream",
     "text": [
      "Hello Python people!\n"
     ]
    }
   ],
   "source": [
    "#向大家问好\n",
    "print(\"Hello Python people!\")"
   ]
  },
  {
   "cell_type": "markdown",
   "id": "b0427197-306c-4b6d-b180-7cb5cde6687a",
   "metadata": {},
   "source": [
    "## 2.6 Python之禅"
   ]
  },
  {
   "cell_type": "code",
   "execution_count": 40,
   "id": "091ec5f8-1457-4fa1-86db-b0e6397f7198",
   "metadata": {},
   "outputs": [
    {
     "name": "stdout",
     "output_type": "stream",
     "text": [
      "The Zen of Python, by Tim Peters\n",
      "\n",
      "Beautiful is better than ugly.\n",
      "Explicit is better than implicit.\n",
      "Simple is better than complex.\n",
      "Complex is better than complicated.\n",
      "Flat is better than nested.\n",
      "Sparse is better than dense.\n",
      "Readability counts.\n",
      "Special cases aren't special enough to break the rules.\n",
      "Although practicality beats purity.\n",
      "Errors should never pass silently.\n",
      "Unless explicitly silenced.\n",
      "In the face of ambiguity, refuse the temptation to guess.\n",
      "There should be one-- and preferably only one --obvious way to do it.\n",
      "Although that way may not be obvious at first unless you're Dutch.\n",
      "Now is better than never.\n",
      "Although never is often better than *right* now.\n",
      "If the implementation is hard to explain, it's a bad idea.\n",
      "If the implementation is easy to explain, it may be a good idea.\n",
      "Namespaces are one honking great idea -- let's do more of those!\n"
     ]
    }
   ],
   "source": [
    "import this\n"
   ]
  },
  {
   "cell_type": "code",
   "execution_count": null,
   "id": "b05e19d9-b04c-49c8-a01c-88344f538cca",
   "metadata": {},
   "outputs": [],
   "source": []
  }
 ],
 "metadata": {
  "kernelspec": {
   "display_name": "Python 3 (ipykernel)",
   "language": "python",
   "name": "python3"
  },
  "language_info": {
   "codemirror_mode": {
    "name": "ipython",
    "version": 3
   },
   "file_extension": ".py",
   "mimetype": "text/x-python",
   "name": "python",
   "nbconvert_exporter": "python",
   "pygments_lexer": "ipython3",
   "version": "3.11.7"
  }
 },
 "nbformat": 4,
 "nbformat_minor": 5
}
