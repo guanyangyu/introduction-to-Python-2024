{
 "cells": [
  {
   "cell_type": "code",
   "execution_count": 4,
   "id": "01834392-c2ed-4c40-88b4-08d3b1235696",
   "metadata": {},
   "outputs": [
    {
     "name": "stdout",
     "output_type": "stream",
     "text": [
      "hello python world!\n"
     ]
    }
   ],
   "source": [
    "print(\"hello python world!\")"
   ]
  },
  {
   "cell_type": "code",
   "execution_count": 3,
   "id": "c8c44f28-1dae-4906-ac1c-f241e3401154",
   "metadata": {},
   "outputs": [
    {
     "name": "stdout",
     "output_type": "stream",
     "text": [
      "Hello Python world!\n"
     ]
    }
   ],
   "source": [
    "message=\"Hello Python world!\"\n",
    "print(message)"
   ]
  },
  {
   "cell_type": "code",
   "execution_count": 7,
   "id": "fce4937d-475d-46b1-93c8-8dee587692b6",
   "metadata": {},
   "outputs": [
    {
     "name": "stdout",
     "output_type": "stream",
     "text": [
      "Hello Python world!\n",
      "Hello Python Crash course world!\n"
     ]
    }
   ],
   "source": [
    "message=\"Hello Python world!\"\n",
    "print(message)\n",
    "\n",
    "message=\"Hello Python Crash course world!\"\n",
    "print(message)"
   ]
  },
  {
   "cell_type": "markdown",
   "id": "fe6af98d-30ff-44d9-b4f5-e0c02c95ddef",
   "metadata": {},
   "source": [
    "message=\"Hello Python Crash course world\"\n",
    "print(mesage)"
   ]
  },
  {
   "cell_type": "code",
   "execution_count": 1,
   "id": "ef08a421-cf4b-4daa-823d-f77437511c85",
   "metadata": {},
   "outputs": [
    {
     "name": "stdout",
     "output_type": "stream",
     "text": [
      "Hello Python Crash Course reader！\n"
     ]
    }
   ],
   "source": [
    "mesage=\"Hello Python Crash Course reader！\"\n",
    "print(mesage)"
   ]
  },
  {
   "cell_type": "code",
   "execution_count": 2,
   "id": "0aba5d96-021b-405d-9fad-30da6533e9f8",
   "metadata": {},
   "outputs": [
    {
     "name": "stdout",
     "output_type": "stream",
     "text": [
      "GYY is beautiful!\n"
     ]
    }
   ],
   "source": [
    "message=\"GYY is beautiful!\"\n",
    "print(message)"
   ]
  },
  {
   "cell_type": "code",
   "execution_count": 3,
   "id": "ba5d4920-2969-4204-9e5b-27107fd29f20",
   "metadata": {},
   "outputs": [
    {
     "name": "stdout",
     "output_type": "stream",
     "text": [
      "GYY is beautiful\n",
      "yes\n"
     ]
    }
   ],
   "source": [
    "message=\"GYY is beautiful\"\n",
    "print(message)\n",
    "\n",
    "message=\"yes\"\n",
    "print(message)"
   ]
  },
  {
   "cell_type": "code",
   "execution_count": 4,
   "id": "e8c6a06d-476c-48e2-ad01-795f0e71fa05",
   "metadata": {},
   "outputs": [
    {
     "name": "stdout",
     "output_type": "stream",
     "text": [
      "Ada Lovelace\n"
     ]
    }
   ],
   "source": [
    "name=\"ada lovelace\"\n",
    "print(name.title())"
   ]
  },
  {
   "cell_type": "code",
   "execution_count": 5,
   "id": "88b3b5f1-0ef0-48c2-9064-f928eea5289a",
   "metadata": {},
   "outputs": [
    {
     "name": "stdout",
     "output_type": "stream",
     "text": [
      "ADA LOVELACE\n"
     ]
    }
   ],
   "source": [
    "name=\"ada lovelace\"\n",
    "print(name.upper())"
   ]
  },
  {
   "cell_type": "code",
   "execution_count": 7,
   "id": "f20d0b19-3bd1-49c0-88e5-0703a91e5fd0",
   "metadata": {},
   "outputs": [
    {
     "name": "stdout",
     "output_type": "stream",
     "text": [
      "ada lovelace\n"
     ]
    }
   ],
   "source": [
    "name=\"Ada Lovelace\"\n",
    "print(name.lower())"
   ]
  },
  {
   "cell_type": "code",
   "execution_count": 10,
   "id": "7150a7e4-fa18-4959-a53e-b24f3c191029",
   "metadata": {},
   "outputs": [
    {
     "name": "stdout",
     "output_type": "stream",
     "text": [
      "ada lovelace\n"
     ]
    }
   ],
   "source": [
    "first_name=\"ada\"\n",
    "last_name=\"lovelace\"\n",
    "full_name=f\"{first_name} {last_name}\"\n",
    "print(full_name)"
   ]
  },
  {
   "cell_type": "code",
   "execution_count": 15,
   "id": "4a770794-d042-49b1-9a03-752c194764c5",
   "metadata": {},
   "outputs": [
    {
     "name": "stdout",
     "output_type": "stream",
     "text": [
      "Hello,ada lovelace\n"
     ]
    }
   ],
   "source": [
    "first_name=\"ada\"\n",
    "last_name=\"lovelace\"\n",
    "full_name=f\"{fist_name} {last_name}\"\n",
    "print(f\"Hello,{full_name}\")"
   ]
  },
  {
   "cell_type": "code",
   "execution_count": 19,
   "id": "bbf999af-c552-4d89-802e-5a8967c8ca56",
   "metadata": {},
   "outputs": [
    {
     "name": "stdout",
     "output_type": "stream",
     "text": [
      "Hello,Ada Lovelace!\n"
     ]
    }
   ],
   "source": [
    "first_name=\"ada\"\n",
    "last_name=\"lovelace\"\n",
    "full_name=f\"{first_name} {last_name}\"\n",
    "print(f\"Hello,{full_name.title()}!\")"
   ]
  },
  {
   "cell_type": "code",
   "execution_count": 20,
   "id": "527823e5-c1aa-4795-8f52-24656c114f1f",
   "metadata": {},
   "outputs": [
    {
     "name": "stdout",
     "output_type": "stream",
     "text": [
      "Hello,Ada Lovelace!\n"
     ]
    }
   ],
   "source": [
    "first_name=\"ada\"\n",
    "last_name=\"lovelace\"\n",
    "full_name=f\"{first_name} {last_name}\"\n",
    "message=f\"Hello,{full_name.title()}!\"\n",
    "print(message)"
   ]
  },
  {
   "cell_type": "code",
   "execution_count": 22,
   "id": "f1a7115d-60b9-43b1-baef-f66149b93da7",
   "metadata": {},
   "outputs": [
    {
     "name": "stdout",
     "output_type": "stream",
     "text": [
      "Python\n"
     ]
    }
   ],
   "source": [
    "print(\"Python\")"
   ]
  },
  {
   "cell_type": "code",
   "execution_count": 23,
   "id": "76067fa0-0eda-44fd-8c10-294cead0dab4",
   "metadata": {},
   "outputs": [
    {
     "name": "stdout",
     "output_type": "stream",
     "text": [
      " Python\n"
     ]
    }
   ],
   "source": [
    "print(\" Python\")"
   ]
  },
  {
   "cell_type": "code",
   "execution_count": 24,
   "id": "24cf4ad9-d825-4c26-9eae-9aadc665dc3b",
   "metadata": {},
   "outputs": [
    {
     "name": "stdout",
     "output_type": "stream",
     "text": [
      "\tPython\n"
     ]
    }
   ],
   "source": [
    "print(\"\\tPython\")"
   ]
  },
  {
   "cell_type": "code",
   "execution_count": 25,
   "id": "79409bde-e3c2-4090-8842-371651887f9d",
   "metadata": {},
   "outputs": [
    {
     "name": "stdout",
     "output_type": "stream",
     "text": [
      "languages:\n",
      "Python\n",
      "C\n",
      "Javascript\n"
     ]
    }
   ],
   "source": [
    "print(\"languages:\\nPython\\nC\\nJavascript\")"
   ]
  },
  {
   "cell_type": "code",
   "execution_count": 27,
   "id": "50a58ab8-aa78-476b-ba75-478eac3fed03",
   "metadata": {},
   "outputs": [
    {
     "name": "stdout",
     "output_type": "stream",
     "text": [
      "languages:\tPython\n",
      "C\n",
      "\tjavaScript\n",
      "C++\n"
     ]
    }
   ],
   "source": [
    "print(\"languages:\\tPython\\nC\\n\\tjavaScript\\nC++\")"
   ]
  },
  {
   "cell_type": "code",
   "execution_count": 34,
   "id": "d0e2b1d5-fa94-489e-867d-696adb712164",
   "metadata": {},
   "outputs": [
    {
     "data": {
      "text/plain": [
       "'Python  '"
      ]
     },
     "execution_count": 34,
     "metadata": {},
     "output_type": "execute_result"
    }
   ],
   "source": [
    "favorite_language=\"Python  \"\n",
    "favorite_language.rstrip()\n",
    "favorite_language\n",
    "\n"
   ]
  },
  {
   "cell_type": "code",
   "execution_count": 35,
   "id": "3bf9d511-48c7-4b76-abf3-d6da997395b7",
   "metadata": {},
   "outputs": [
    {
     "data": {
      "text/plain": [
       "'Python'"
      ]
     },
     "execution_count": 35,
     "metadata": {},
     "output_type": "execute_result"
    }
   ],
   "source": [
    "favorite_language=\"Python  \"\n",
    "favorite_language=favorite_language.rstrip()\n",
    "favorite_language"
   ]
  },
  {
   "cell_type": "code",
   "execution_count": 36,
   "id": "e3984fc7-414d-4ea8-a30e-12bb5e511331",
   "metadata": {},
   "outputs": [
    {
     "data": {
      "text/plain": [
       "'python'"
      ]
     },
     "execution_count": 36,
     "metadata": {},
     "output_type": "execute_result"
    }
   ],
   "source": [
    "favorite_language=\"  python\"\n",
    "favorite_language=favorite_language.lstrip()\n",
    "favorite_language"
   ]
  },
  {
   "cell_type": "code",
   "execution_count": 37,
   "id": "796a07f8-8391-4711-85ee-af6dd97e8019",
   "metadata": {},
   "outputs": [
    {
     "data": {
      "text/plain": [
       "'python'"
      ]
     },
     "execution_count": 37,
     "metadata": {},
     "output_type": "execute_result"
    }
   ],
   "source": [
    "a=\"  python  \"\n",
    "a=a.strip()\n",
    "a"
   ]
  },
  {
   "cell_type": "code",
   "execution_count": 1,
   "id": "811c4646-30f6-47e3-b1cf-16fa39c58391",
   "metadata": {},
   "outputs": [
    {
     "data": {
      "text/plain": [
       "'nostarch.com'"
      ]
     },
     "execution_count": 1,
     "metadata": {},
     "output_type": "execute_result"
    }
   ],
   "source": [
    "nostarch_url=\"http://nostarch.com\"\n",
    "nostarch_url.removeprefix(\"http://\")"
   ]
  },
  {
   "cell_type": "code",
   "execution_count": 5,
   "id": "0193553d-6045-448d-83ae-4b0e89017290",
   "metadata": {},
   "outputs": [
    {
     "name": "stdout",
     "output_type": "stream",
     "text": [
      "nostarch.com\n"
     ]
    }
   ],
   "source": [
    "nostarch_url=\"http://nostarch.com\"\n",
    "nostarch_url=nostarch_url.removeprefix(\"http://\")\n",
    "nostarch=f\"{nostarch_url}\"\n",
    "print(nostarch)"
   ]
  },
  {
   "cell_type": "code",
   "execution_count": 6,
   "id": "9ddfb31c-337a-42d8-af3b-5d90548e3360",
   "metadata": {},
   "outputs": [
    {
     "name": "stdout",
     "output_type": "stream",
     "text": [
      "one of python's strengths is its diverse community\n"
     ]
    }
   ],
   "source": [
    "message=\"one of python's strengths is its diverse community\"\n",
    "print(message)"
   ]
  },
  {
   "cell_type": "code",
   "execution_count": 10,
   "id": "98e0f6f0-cf1f-441f-9343-06fa94b95f28",
   "metadata": {},
   "outputs": [
    {
     "name": "stdout",
     "output_type": "stream",
     "text": [
      "Hello Chloe, would you like to learn some Python today?\n"
     ]
    }
   ],
   "source": [
    "name=\"Chloe\"\n",
    "message=f\"Hello {name}, would you like to learn some Python today?\"\n",
    "print(message)"
   ]
  },
  {
   "cell_type": "code",
   "execution_count": 12,
   "id": "e86b8f75-d15c-4263-9f0f-3d2bc7b6af02",
   "metadata": {},
   "outputs": [
    {
     "data": {
      "text/plain": [
       "'Chloe G'"
      ]
     },
     "execution_count": 12,
     "metadata": {},
     "output_type": "execute_result"
    }
   ],
   "source": [
    "first_name=\"Chloe\"\n",
    "last_name=\"G\"\n",
    "full_name=f\"{first_name} {last_name}\"\n",
    "full_name\n"
   ]
  },
  {
   "cell_type": "code",
   "execution_count": 13,
   "id": "70603c8d-a72c-4996-9c7b-38a7f66ee723",
   "metadata": {},
   "outputs": [
    {
     "name": "stdout",
     "output_type": "stream",
     "text": [
      "Chloe G\n"
     ]
    }
   ],
   "source": [
    "name=\"Chloe G\"\n",
    "print(name.title())"
   ]
  },
  {
   "cell_type": "code",
   "execution_count": 14,
   "id": "e1a059ab-62d2-4c76-b152-61ed2dd7fb1f",
   "metadata": {},
   "outputs": [
    {
     "name": "stdout",
     "output_type": "stream",
     "text": [
      "CHLOE G\n"
     ]
    }
   ],
   "source": [
    "name=\"Chloe G\"\n",
    "print(name.upper())"
   ]
  },
  {
   "cell_type": "code",
   "execution_count": 15,
   "id": "24c25391-6c6b-458f-9a82-f1507385fea5",
   "metadata": {},
   "outputs": [
    {
     "name": "stdout",
     "output_type": "stream",
     "text": [
      "chloe g\n"
     ]
    }
   ],
   "source": [
    "name=\"Chloe G\"\n",
    "print(name.lower())"
   ]
  },
  {
   "cell_type": "code",
   "execution_count": 16,
   "id": "fae6286b-df8d-451a-a7f3-3fe2fc5f25ee",
   "metadata": {},
   "outputs": [
    {
     "name": "stdout",
     "output_type": "stream",
     "text": [
      "Albert Einstein once said,'A personn who never made a mistake never tried anything new'.\n"
     ]
    }
   ],
   "source": [
    "famous_person=\"Albert Einstein\"\n",
    "message=\"A personn who never made a mistake never tried anything new\"\n",
    "a=f\"{famous_person} once said,'{message}'.\"\n",
    "print(a)"
   ]
  },
  {
   "cell_type": "code",
   "execution_count": 17,
   "id": "4f905c30-6c1c-4d21-b97c-bfee975400df",
   "metadata": {},
   "outputs": [
    {
     "data": {
      "text/plain": [
       "'Chloe Gyy'"
      ]
     },
     "execution_count": 17,
     "metadata": {},
     "output_type": "execute_result"
    }
   ],
   "source": [
    "name=\"   Chloe Gyy  \"\n",
    "name=name.strip()\n",
    "name"
   ]
  },
  {
   "cell_type": "code",
   "execution_count": 21,
   "id": "f27481c5-abfe-47e8-995c-c07ca1132b27",
   "metadata": {},
   "outputs": [
    {
     "name": "stdout",
     "output_type": "stream",
     "text": [
      "\n",
      "name\n"
     ]
    }
   ],
   "source": [
    "name=\"Chloe Gyy\"\n",
    "name=\"\\nname\"\n",
    "print(name)"
   ]
  },
  {
   "cell_type": "code",
   "execution_count": 24,
   "id": "15fbb1b6-6db0-43bb-98f9-0402b1a7b743",
   "metadata": {},
   "outputs": [
    {
     "name": "stdout",
     "output_type": "stream",
     "text": [
      "Chloe\t\n",
      "Gyy\n"
     ]
    }
   ],
   "source": [
    "name=\"\\tChloe\\t\\nGyy\\t\"\n",
    "a=name.strip()\n",
    "print(a)\n"
   ]
  },
  {
   "cell_type": "code",
   "execution_count": 28,
   "id": "ea0e9c8f-ef06-4ae1-bea7-a441c8d8af9b",
   "metadata": {},
   "outputs": [
    {
     "name": "stdout",
     "output_type": "stream",
     "text": [
      "python_notes.\n"
     ]
    }
   ],
   "source": [
    "filename=\"python_notes.txt\"\n",
    "filename=filename.removesuffix(\"txt\")\n",
    "print(filename)"
   ]
  },
  {
   "cell_type": "code",
   "execution_count": 1,
   "id": "9d06425a-3bd4-4b6f-8235-8a1fbb2b137e",
   "metadata": {},
   "outputs": [
    {
     "data": {
      "text/plain": [
       "9"
      ]
     },
     "execution_count": 1,
     "metadata": {},
     "output_type": "execute_result"
    }
   ],
   "source": [
    "3**2"
   ]
  },
  {
   "cell_type": "code",
   "execution_count": 2,
   "id": "375e30e7-65a0-47d8-aaec-161e9eded031",
   "metadata": {},
   "outputs": [
    {
     "data": {
      "text/plain": [
       "27"
      ]
     },
     "execution_count": 2,
     "metadata": {},
     "output_type": "execute_result"
    }
   ],
   "source": [
    "3**3"
   ]
  },
  {
   "cell_type": "code",
   "execution_count": 3,
   "id": "acc8eead-a51e-4f9a-ba84-7ce646a8f02c",
   "metadata": {},
   "outputs": [
    {
     "data": {
      "text/plain": [
       "1000000"
      ]
     },
     "execution_count": 3,
     "metadata": {},
     "output_type": "execute_result"
    }
   ],
   "source": [
    "10**6"
   ]
  },
  {
   "cell_type": "code",
   "execution_count": 4,
   "id": "4ef065ed-5582-4148-8080-92b4ba2456ba",
   "metadata": {},
   "outputs": [
    {
     "data": {
      "text/plain": [
       "5"
      ]
     },
     "execution_count": 4,
     "metadata": {},
     "output_type": "execute_result"
    }
   ],
   "source": [
    "2+3"
   ]
  },
  {
   "cell_type": "code",
   "execution_count": 5,
   "id": "a2561fb2-a131-4a76-b91d-efbf4afe66f9",
   "metadata": {},
   "outputs": [
    {
     "data": {
      "text/plain": [
       "2"
      ]
     },
     "execution_count": 5,
     "metadata": {},
     "output_type": "execute_result"
    }
   ],
   "source": [
    "3-1"
   ]
  },
  {
   "cell_type": "code",
   "execution_count": 6,
   "id": "59aedcb7-ef0c-4a57-aaa9-b7d1c7f7dc63",
   "metadata": {},
   "outputs": [
    {
     "data": {
      "text/plain": [
       "6"
      ]
     },
     "execution_count": 6,
     "metadata": {},
     "output_type": "execute_result"
    }
   ],
   "source": [
    "2*3"
   ]
  },
  {
   "cell_type": "code",
   "execution_count": 7,
   "id": "71d3276e-66f1-4d20-81ff-0f9f71ef9b07",
   "metadata": {},
   "outputs": [
    {
     "data": {
      "text/plain": [
       "8"
      ]
     },
     "execution_count": 7,
     "metadata": {},
     "output_type": "execute_result"
    }
   ],
   "source": [
    "2**3"
   ]
  },
  {
   "cell_type": "code",
   "execution_count": 8,
   "id": "34b21a28-8e07-4740-8df6-2830558f6e80",
   "metadata": {},
   "outputs": [
    {
     "data": {
      "text/plain": [
       "14"
      ]
     },
     "execution_count": 8,
     "metadata": {},
     "output_type": "execute_result"
    }
   ],
   "source": [
    "2+3*4"
   ]
  },
  {
   "cell_type": "code",
   "execution_count": 16,
   "id": "0686baa7-ef93-4921-a1ab-760dde7525ab",
   "metadata": {},
   "outputs": [
    {
     "data": {
      "text/plain": [
       "0.30000000000000004"
      ]
     },
     "execution_count": 16,
     "metadata": {},
     "output_type": "execute_result"
    }
   ],
   "source": [
    "0.2+0.1"
   ]
  },
  {
   "cell_type": "code",
   "execution_count": 17,
   "id": "440834ec-90c5-44cd-a2e7-695b8aa3f74b",
   "metadata": {},
   "outputs": [
    {
     "data": {
      "text/plain": [
       "0.30000000000000004"
      ]
     },
     "execution_count": 17,
     "metadata": {},
     "output_type": "execute_result"
    }
   ],
   "source": [
    "3*0.1"
   ]
  },
  {
   "cell_type": "code",
   "execution_count": 18,
   "id": "0247d675-9cc7-495a-8c98-64b64b588e8c",
   "metadata": {},
   "outputs": [
    {
     "data": {
      "text/plain": [
       "2.0"
      ]
     },
     "execution_count": 18,
     "metadata": {},
     "output_type": "execute_result"
    }
   ],
   "source": [
    "4/2"
   ]
  },
  {
   "cell_type": "code",
   "execution_count": 19,
   "id": "094f6774-0662-4483-8a56-23e370b0a4c9",
   "metadata": {},
   "outputs": [
    {
     "data": {
      "text/plain": [
       "3.0"
      ]
     },
     "execution_count": 19,
     "metadata": {},
     "output_type": "execute_result"
    }
   ],
   "source": [
    "1+2.0"
   ]
  },
  {
   "cell_type": "code",
   "execution_count": 20,
   "id": "a44ab953-f899-4d67-8119-170c1042c57e",
   "metadata": {},
   "outputs": [
    {
     "data": {
      "text/plain": [
       "6.0"
      ]
     },
     "execution_count": 20,
     "metadata": {},
     "output_type": "execute_result"
    }
   ],
   "source": [
    "2*3.0"
   ]
  },
  {
   "cell_type": "code",
   "execution_count": 21,
   "id": "fb074f94-a58a-45fd-a76e-3b3d3e8c1663",
   "metadata": {},
   "outputs": [
    {
     "name": "stdout",
     "output_type": "stream",
     "text": [
      "14000000000\n"
     ]
    }
   ],
   "source": [
    "universe_age=14_000_000_000\n",
    "print(universe_age)"
   ]
  },
  {
   "cell_type": "code",
   "execution_count": 22,
   "id": "fb8660c1-a0b1-404e-b780-031c07f299f7",
   "metadata": {},
   "outputs": [],
   "source": [
    "x,y,z=0,0,0"
   ]
  },
  {
   "cell_type": "code",
   "execution_count": 23,
   "id": "38f37186-fdfd-4232-9c8d-05c83a30b59a",
   "metadata": {},
   "outputs": [
    {
     "name": "stdout",
     "output_type": "stream",
     "text": [
      "8\n"
     ]
    }
   ],
   "source": [
    "print(5+3)"
   ]
  },
  {
   "cell_type": "code",
   "execution_count": 24,
   "id": "1bd298f3-b23a-4cd1-9dc8-2297b599ad7a",
   "metadata": {},
   "outputs": [
    {
     "name": "stdout",
     "output_type": "stream",
     "text": [
      "8\n"
     ]
    }
   ],
   "source": [
    "print(11-3)"
   ]
  },
  {
   "cell_type": "code",
   "execution_count": 25,
   "id": "c785e932-1a0f-4fd0-9cae-d4da9b3e9b75",
   "metadata": {},
   "outputs": [
    {
     "name": "stdout",
     "output_type": "stream",
     "text": [
      "8\n"
     ]
    }
   ],
   "source": [
    "print(2*4)"
   ]
  },
  {
   "cell_type": "code",
   "execution_count": 26,
   "id": "097ed802-6001-4732-8e15-5775921f5929",
   "metadata": {},
   "outputs": [
    {
     "name": "stdout",
     "output_type": "stream",
     "text": [
      "8.0\n"
     ]
    }
   ],
   "source": [
    "print(64/8)"
   ]
  },
  {
   "cell_type": "code",
   "execution_count": 27,
   "id": "8a22eef8-e0aa-4d61-9613-64d8728ad5f7",
   "metadata": {},
   "outputs": [
    {
     "name": "stdout",
     "output_type": "stream",
     "text": [
      "Hello Python people!\n"
     ]
    }
   ],
   "source": [
    "#向大家问好\n",
    "print(\"Hello Python people!\")"
   ]
  },
  {
   "cell_type": "code",
   "execution_count": null,
   "id": "1679b555-bae7-46c3-ab9a-3c40260323ed",
   "metadata": {},
   "outputs": [],
   "source": []
  }
 ],
 "metadata": {
  "kernelspec": {
   "display_name": "Python 3 (ipykernel)",
   "language": "python",
   "name": "python3"
  },
  "language_info": {
   "codemirror_mode": {
    "name": "ipython",
    "version": 3
   },
   "file_extension": ".py",
   "mimetype": "text/x-python",
   "name": "python",
   "nbconvert_exporter": "python",
   "pygments_lexer": "ipython3",
   "version": "3.11.7"
  }
 },
 "nbformat": 4,
 "nbformat_minor": 5
}
