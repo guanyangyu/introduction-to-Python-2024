{
 "cells": [
  {
   "cell_type": "markdown",
   "id": "2f93db44-7929-4b3b-a4bc-5b0d90c1db3c",
   "metadata": {},
   "source": [
    "# 第6章 字典"
   ]
  },
  {
   "cell_type": "markdown",
   "id": "2dcd1911-d876-4891-a49c-bad15e1eb70b",
   "metadata": {},
   "source": [
    "## 6.1 一个简单的字典"
   ]
  },
  {
   "cell_type": "code",
   "execution_count": 1,
   "id": "ad775de0-2ce4-4a03-bac7-38eda46fbf79",
   "metadata": {},
   "outputs": [
    {
     "name": "stdout",
     "output_type": "stream",
     "text": [
      "green\n",
      "5\n"
     ]
    }
   ],
   "source": [
    "alien_0={'color':'green','points':'5'}\n",
    "print(alien_0['color'])\n",
    "print(alien_0['points'])"
   ]
  },
  {
   "cell_type": "markdown",
   "id": "e59b213b-ab32-450f-8292-1b01bcf60f53",
   "metadata": {},
   "source": [
    "## 6.2 使用字典"
   ]
  },
  {
   "cell_type": "code",
   "execution_count": 2,
   "id": "bb5c827f-15b9-4cc3-9bb9-ed4d76fb5dad",
   "metadata": {},
   "outputs": [],
   "source": [
    "#在python中，字典用放在花括号{}中的一系列键值对表示，如：\n",
    "alien_0={'color':'green','points':'5'}\n"
   ]
  },
  {
   "cell_type": "markdown",
   "id": "d799fb39-a03c-4e3a-b4fd-1dd11512d109",
   "metadata": {},
   "source": [
    "### 6.2.1 访问字典中的值"
   ]
  },
  {
   "cell_type": "code",
   "execution_count": 3,
   "id": "94d78aff-4cc7-48f2-82c9-c110d619a8ae",
   "metadata": {},
   "outputs": [
    {
     "name": "stdout",
     "output_type": "stream",
     "text": [
      "green\n"
     ]
    }
   ],
   "source": [
    "alien_0={'color':'green'}\n",
    "print(alien_0['color'])"
   ]
  },
  {
   "cell_type": "code",
   "execution_count": 5,
   "id": "a80be357-68d0-489c-b9b2-3ac9bf112168",
   "metadata": {},
   "outputs": [
    {
     "name": "stdout",
     "output_type": "stream",
     "text": [
      "You just earned 5 points!\n"
     ]
    }
   ],
   "source": [
    "alien_0={'color':'green','points':'5'}\n",
    "new_points=alien_0['points']\n",
    "print(f\"You just earned {new_points} points!\")"
   ]
  },
  {
   "cell_type": "markdown",
   "id": "e24a9b51-5cff-4a29-addd-6605fd23033c",
   "metadata": {},
   "source": [
    "### 6.2.2 添加键值对"
   ]
  },
  {
   "cell_type": "code",
   "execution_count": 6,
   "id": "fdfd142b-66d3-4bae-a02b-6886d779e374",
   "metadata": {},
   "outputs": [
    {
     "name": "stdout",
     "output_type": "stream",
     "text": [
      "{'color': 'green', 'points': '5'}\n",
      "{'color': 'green', 'points': '5', 'x_position': 0, 'y_pisition': 25}\n"
     ]
    }
   ],
   "source": [
    "alien_0={'color':'green','points':'5'}\n",
    "print(alien_0)\n",
    "alien_0['x_position']=0\n",
    "alien_0['y_pisition']=25\n",
    "print(alien_0)"
   ]
  },
  {
   "cell_type": "markdown",
   "id": "9712b2e3-bb0f-4f67-a3f9-ee0947d24467",
   "metadata": {},
   "source": [
    "### 6.2.3 从创建一个空字典开始"
   ]
  },
  {
   "cell_type": "code",
   "execution_count": 1,
   "id": "24ce6c2b-f1c5-4543-8c9c-2fbed19e8909",
   "metadata": {},
   "outputs": [
    {
     "name": "stdout",
     "output_type": "stream",
     "text": [
      "{'color': 'green', 'points': '5'}\n"
     ]
    }
   ],
   "source": [
    "alien_0={}\n",
    "alien_0['color']='green'\n",
    "alien_0['points']='5'\n",
    "print(alien_0)"
   ]
  },
  {
   "cell_type": "markdown",
   "id": "95b0a71f-6ce5-44da-8652-7af80f2f77e7",
   "metadata": {},
   "source": [
    "### 6.2.4 修改字典中的值"
   ]
  },
  {
   "cell_type": "code",
   "execution_count": 2,
   "id": "9c5d3a68-8ac8-4d68-8574-919169b2195c",
   "metadata": {},
   "outputs": [
    {
     "name": "stdout",
     "output_type": "stream",
     "text": [
      "The alien is green.\n",
      "The alien is now yellow.\n"
     ]
    }
   ],
   "source": [
    "alien_0={'color':'green'}\n",
    "print(f\"The alien is {alien_0['color']}.\")   \n",
    "alien_0['color']='yellow'\n",
    "print(f\"The alien is now {alien_0['color']}.\")"
   ]
  },
  {
   "cell_type": "code",
   "execution_count": 15,
   "id": "1b516d03-b044-47c8-b3ff-79e147b64a82",
   "metadata": {},
   "outputs": [
    {
     "name": "stdout",
     "output_type": "stream",
     "text": [
      "Origional position: 0\n"
     ]
    },
    {
     "ename": "TypeError",
     "evalue": "can only concatenate str (not \"int\") to str",
     "output_type": "error",
     "traceback": [
      "\u001b[1;31m---------------------------------------------------------------------------\u001b[0m",
      "\u001b[1;31mTypeError\u001b[0m                                 Traceback (most recent call last)",
      "Cell \u001b[1;32mIn[15], line 14\u001b[0m\n\u001b[0;32m     12\u001b[0m     x_increment\u001b[38;5;241m=\u001b[39m\u001b[38;5;241m3\u001b[39m\n\u001b[0;32m     13\u001b[0m \u001b[38;5;66;03m#新位置为旧位置+移动距离\u001b[39;00m\n\u001b[1;32m---> 14\u001b[0m alien_0[\u001b[38;5;124m'\u001b[39m\u001b[38;5;124mx_position\u001b[39m\u001b[38;5;124m'\u001b[39m] \u001b[38;5;241m=\u001b[39m alien_0[\u001b[38;5;124m'\u001b[39m\u001b[38;5;124mx_position\u001b[39m\u001b[38;5;124m'\u001b[39m] \u001b[38;5;241m+\u001b[39m x_increment  \u001b[38;5;66;03m#TypeError: can only concatenate str (not \"int\") to str————只能将字符串与字符串相连\u001b[39;00m\n\u001b[0;32m     15\u001b[0m \u001b[38;5;28mprint\u001b[39m(\u001b[38;5;124mf\u001b[39m\u001b[38;5;124m\"\u001b[39m\u001b[38;5;124mNew position: \u001b[39m\u001b[38;5;132;01m{\u001b[39;00malien_0[\u001b[38;5;124m'\u001b[39m\u001b[38;5;124mx_position\u001b[39m\u001b[38;5;124m'\u001b[39m]\u001b[38;5;132;01m}\u001b[39;00m\u001b[38;5;124m.\u001b[39m\u001b[38;5;124m\"\u001b[39m)\n",
      "\u001b[1;31mTypeError\u001b[0m: can only concatenate str (not \"int\") to str"
     ]
    }
   ],
   "source": [
    "alien_0={'x_position':'0','y_position':'25','speed':'medium'}\n",
    "print(f\"Origional position: {alien_0['x_position']}\")\n",
    "\n",
    "#向右移动外星人\n",
    "#根据当前速度确定将外星人向右移动多远\n",
    "if alien_0['speed']=='slow':\n",
    "    x_increment=1\n",
    "elif alien_0['speed']=='medium':\n",
    "    x_increment=2\n",
    "else:\n",
    "   # alien_0['speed']=='fast'\n",
    "    x_increment=3\n",
    "#新位置为旧位置+移动距离\n",
    "alien_0['x_position'] = alien_0['x_position'] + x_increment  #TypeError: can only concatenate str (not \"int\") to str————只能将字符串与字符串相连\n",
    "print(f\"New position: {alien_0['x_position']}.\")"
   ]
  },
  {
   "cell_type": "code",
   "execution_count": 16,
   "id": "fc9b7d11-38d4-47be-bcda-cdb4590290c9",
   "metadata": {},
   "outputs": [
    {
     "name": "stdout",
     "output_type": "stream",
     "text": [
      "Origional position: 0\n",
      "New position: 02.\n"
     ]
    }
   ],
   "source": [
    "alien_0={'x_position':'0','y_position':'25','speed':'medium'}\n",
    "print(f\"Origional position: {alien_0['x_position']}\")\n",
    "\n",
    "#向右移动外星人\n",
    "#根据当前速度确定将外星人向右移动多远\n",
    "if alien_0['speed']=='slow':\n",
    "    x_increment=1\n",
    "elif alien_0['speed']=='medium':\n",
    "    x_increment=2\n",
    "else:\n",
    "   # alien_0['speed']=='fast'\n",
    "    x_increment=3\n",
    "#新位置为旧位置+移动距离\n",
    "alien_0['x_position'] = alien_0['x_position'] + str(x_increment)  \n",
    "print(f\"New position: {alien_0['x_position']}.\")"
   ]
  },
  {
   "cell_type": "code",
   "execution_count": 18,
   "id": "05aa8d6d-42f3-405e-8669-af44d70a5fc3",
   "metadata": {},
   "outputs": [
    {
     "name": "stdout",
     "output_type": "stream",
     "text": [
      "Origional position: 0\n",
      "New position: 03.\n"
     ]
    }
   ],
   "source": [
    "alien_0={'x_position':'0','y_position':'25','speed':'medium'}\n",
    "print(f\"Origional position: {alien_0['x_position']}\")\n",
    "alien_0['speed']='fast'\n",
    "#向右移动外星人\n",
    "#根据当前速度确定将外星人向右移动多远\n",
    "if alien_0['speed']=='slow':\n",
    "    x_increment=1\n",
    "elif alien_0['speed']=='medium':\n",
    "    x_increment=2\n",
    "else:\n",
    "   # alien_0['speed']=='fast'\n",
    "    x_increment=3\n",
    "#新位置为旧位置+移动距离\n",
    "\n",
    "alien_0['x_position'] = alien_0['x_position'] + str(x_increment)  \n",
    "print(f\"New position: {alien_0['x_position']}.\")"
   ]
  },
  {
   "cell_type": "markdown",
   "id": "1b2b47f6-0c91-496a-95e4-f0fb2fcaa6c2",
   "metadata": {},
   "source": [
    "### 6.2.5 删除键值对"
   ]
  },
  {
   "cell_type": "code",
   "execution_count": 20,
   "id": "8445e07d-bc3b-4ae0-bbeb-b8cf891895b6",
   "metadata": {},
   "outputs": [
    {
     "name": "stdout",
     "output_type": "stream",
     "text": [
      "{'color': 'green', 'points': '5'}\n",
      "{'color': 'green'}\n"
     ]
    }
   ],
   "source": [
    "alien_0={'color':'green','points':'5'}\n",
    "print(alien_0)\n",
    "\n",
    "del alien_0['points']\n",
    "print(alien_0)"
   ]
  },
  {
   "cell_type": "markdown",
   "id": "cb27af27-8a71-4b68-b1d4-26bb01ad9b3c",
   "metadata": {},
   "source": [
    "### 6.2.6由类似的对象组成的字典"
   ]
  },
  {
   "cell_type": "code",
   "execution_count": 1,
   "id": "4a62cdcf-e604-472c-abf8-bc4e7b2c169e",
   "metadata": {},
   "outputs": [
    {
     "name": "stdout",
     "output_type": "stream",
     "text": [
      "Sarah's favorite language is C.\n"
     ]
    }
   ],
   "source": [
    "favorite_languages={'jen':'python',\n",
    "                    'sarah':'c',\n",
    "                    'edward':'rust',\n",
    "                    'phil':'python'}\n",
    "language=favorite_languages['sarah'].title()\n",
    "print(f\"Sarah's favorite language is {language}.\")"
   ]
  },
  {
   "cell_type": "markdown",
   "id": "3649edd8-b86f-45ce-b16e-877220671c01",
   "metadata": {},
   "source": [
    "### 6.2.7 使用get()来访问值"
   ]
  },
  {
   "cell_type": "code",
   "execution_count": 4,
   "id": "1dc6ba74-675c-4e06-842f-fbc4ff19bf59",
   "metadata": {},
   "outputs": [
    {
     "ename": "KeyError",
     "evalue": "'points'",
     "output_type": "error",
     "traceback": [
      "\u001b[1;31m---------------------------------------------------------------------------\u001b[0m",
      "\u001b[1;31mKeyError\u001b[0m                                  Traceback (most recent call last)",
      "Cell \u001b[1;32mIn[4], line 3\u001b[0m\n\u001b[0;32m      1\u001b[0m \u001b[38;5;66;03m#使用方括号从字典中获取值时，如果指定的键不存在就将出错。\u001b[39;00m\n\u001b[0;32m      2\u001b[0m alien_0\u001b[38;5;241m=\u001b[39m{\u001b[38;5;124m'\u001b[39m\u001b[38;5;124mcolor\u001b[39m\u001b[38;5;124m'\u001b[39m:\u001b[38;5;124m'\u001b[39m\u001b[38;5;124mgreen\u001b[39m\u001b[38;5;124m'\u001b[39m,\u001b[38;5;124m'\u001b[39m\u001b[38;5;124mspeed\u001b[39m\u001b[38;5;124m'\u001b[39m:\u001b[38;5;124m'\u001b[39m\u001b[38;5;124mslow\u001b[39m\u001b[38;5;124m'\u001b[39m}\n\u001b[1;32m----> 3\u001b[0m \u001b[38;5;28mprint\u001b[39m(alien_0[\u001b[38;5;124m'\u001b[39m\u001b[38;5;124mpoints\u001b[39m\u001b[38;5;124m'\u001b[39m])\n",
      "\u001b[1;31mKeyError\u001b[0m: 'points'"
     ]
    }
   ],
   "source": [
    "#使用方括号从字典中获取值时，如果指定的键不存在就将出错。\n",
    "alien_0={'color':'green','speed':'slow'}\n",
    "print(alien_0['points'])"
   ]
  },
  {
   "cell_type": "code",
   "execution_count": 7,
   "id": "96af0458-52e3-4105-a71f-3d6e8c897b92",
   "metadata": {},
   "outputs": [
    {
     "name": "stdout",
     "output_type": "stream",
     "text": [
      "No point value assigned\n"
     ]
    }
   ],
   "source": [
    "#就字典而言，为避免出现这样的错误，可以使用get()，当指定的键不存在时返回一个默认值\n",
    "alien_0={'color':'green','speed':'slow'}\n",
    "point_value=alien_0.get('point','No point value assigned')#第一个‘’为指定的键；第二个‘’为当不存在时输出的值\n",
    "print(point_value)"
   ]
  },
  {
   "cell_type": "code",
   "execution_count": 8,
   "id": "49062ce7-93fb-4dd5-833d-43fe31255df2",
   "metadata": {},
   "outputs": [
    {
     "name": "stdout",
     "output_type": "stream",
     "text": [
      "5\n"
     ]
    }
   ],
   "source": [
    "#当第一个‘’存在时：\n",
    "alien_0={'color':'green','speed':'slow','point':'5'}\n",
    "point_value=alien_0.get('point','No point value assigned')\n",
    "print(point_value)"
   ]
  },
  {
   "cell_type": "markdown",
   "id": "d653c06d-c485-4153-babf-5e30142a23a3",
   "metadata": {},
   "source": [
    "## 6.3 遍历字典"
   ]
  },
  {
   "cell_type": "markdown",
   "id": "d880f0e3-5756-470d-9aab-5b6affde54b4",
   "metadata": {},
   "source": [
    "### 6.3.1 遍历所有的键值对"
   ]
  },
  {
   "cell_type": "code",
   "execution_count": 13,
   "id": "2a58ee1e-74a2-4e09-a581-30fdbc12d7de",
   "metadata": {},
   "outputs": [
    {
     "name": "stdout",
     "output_type": "stream",
     "text": [
      "\n",
      "Key:username\n",
      "Value:efermi\n",
      "\n",
      "Key:first\n",
      "Value:enrico\n",
      "\n",
      "Key:last\n",
      "Value:fermi\n"
     ]
    }
   ],
   "source": [
    "user_0={'username':'efermi',\n",
    "           'first':'enrico',\n",
    "           'last':'fermi'}\n",
    "for key, value in user_0.items():\n",
    "    print(f\"\\nKey:{key}\")\n",
    "    print(f\"Value:{value}\")\n"
   ]
  },
  {
   "cell_type": "code",
   "execution_count": 11,
   "id": "399f60b0-3262-41fa-8bec-ebcaf506ca50",
   "metadata": {},
   "outputs": [
    {
     "name": "stdout",
     "output_type": "stream",
     "text": [
      "\n",
      "v:last\n",
      "u:fermi\n",
      "\n",
      "v:last\n",
      "u:fermi\n",
      "\n",
      "v:last\n",
      "u:fermi\n"
     ]
    }
   ],
   "source": [
    "#要遍历字典的or循环，可声明两个变量，分别用于存储键值对中的键和值。这两个变量可以使用任意名称。\n",
    "for v,u in user_0.items():\n",
    "    print(f\"\\nv:{key}\")\n",
    "    print(f\"u:{value}\")\n"
   ]
  },
  {
   "cell_type": "code",
   "execution_count": 15,
   "id": "fffb80b9-c9db-4a97-9649-19feed1cd49e",
   "metadata": {},
   "outputs": [
    {
     "name": "stdout",
     "output_type": "stream",
     "text": [
      "\n",
      "Jen's favorite language is Python.\n",
      "\n",
      "Sarah's favorite language is C.\n",
      "\n",
      "Edward's favorite language is Rust.\n",
      "\n",
      "Phil's favorite language is Python.\n"
     ]
    }
   ],
   "source": [
    "favorite_languages={'jen':'python',\n",
    "                    'sarah':'c',\n",
    "                    'edward':'rust',\n",
    "                    'phil':'python'}\n",
    "for name,language in favorite_languages.items():\n",
    "    print(f\"\\n{name.title()}'s favorite language is {language.title()}.\")"
   ]
  },
  {
   "cell_type": "markdown",
   "id": "09c3a37a-8bbd-4d0b-9683-0d57fa1b25d8",
   "metadata": {},
   "source": [
    "### 6.3.2 遍历字典中的所有键"
   ]
  },
  {
   "cell_type": "code",
   "execution_count": 16,
   "id": "b3398f52-d4a6-4c8b-af5b-90f8570f92ce",
   "metadata": {},
   "outputs": [],
   "source": [
    "#在不需要遍历字典中的值，只需遍历键时，keys()方法很有用"
   ]
  },
  {
   "cell_type": "code",
   "execution_count": 18,
   "id": "dfd579a0-4674-4f57-b6d7-1ca12ca97c02",
   "metadata": {},
   "outputs": [
    {
     "name": "stdout",
     "output_type": "stream",
     "text": [
      "Jen\n",
      "Sarah\n",
      "Edward\n",
      "Phil\n"
     ]
    }
   ],
   "source": [
    "favorite_languages={'jen':'python',\n",
    "                    'sarah':'c',\n",
    "                    'edward':'rust',\n",
    "                    'phil':'python'}\n",
    "for name in favorite_languages.keys():\n",
    "    print(name.title())\n",
    "    "
   ]
  },
  {
   "cell_type": "code",
   "execution_count": 20,
   "id": "7dad2525-8942-4a86-bf75-3b68ac5adc82",
   "metadata": {},
   "outputs": [
    {
     "name": "stdout",
     "output_type": "stream",
     "text": [
      "\n",
      "Jen loves Python\n",
      "\n",
      "Sarah loves C\n",
      "\n",
      "Edward loves Rust\n",
      "\n",
      "Phil loves Python\n"
     ]
    }
   ],
   "source": [
    "favorite_languages={'jen':'python',\n",
    "                    'sarah':'c',\n",
    "                    'edward':'rust',\n",
    "                    'phil':'python'}\n",
    "for name, language in favorite_languages.items():\n",
    "    print(f'\\n{name.title()} loves {language.title()}')"
   ]
  },
  {
   "cell_type": "code",
   "execution_count": 21,
   "id": "a1044384-80c7-431b-b847-8ec8d0acce1b",
   "metadata": {},
   "outputs": [
    {
     "name": "stdout",
     "output_type": "stream",
     "text": [
      "Jen\n",
      "Sarah\n",
      "Edward\n",
      "Phil\n"
     ]
    }
   ],
   "source": [
    "#在遍历字典时，会默认遍历所有的键（也就是说，当只需要遍历键时，加不加.keys()都行）\n",
    "favorite_languages={'jen':'python',\n",
    "                    'sarah':'c',\n",
    "                    'edward':'rust',\n",
    "                    'phil':'python'}\n",
    "for name in favorite_languages:\n",
    "    print(name.title())"
   ]
  },
  {
   "cell_type": "code",
   "execution_count": 24,
   "id": "4605da8c-cf5f-43f7-9034-d928c7ee6269",
   "metadata": {},
   "outputs": [
    {
     "name": "stdout",
     "output_type": "stream",
     "text": [
      "Hi,Jen.\n",
      "Hi,Sarah.\n",
      "\tSarah,I see you love C.\n",
      "Hi,Edward.\n",
      "Hi,Phil.\n",
      "\tPhil,I see you love Python.\n"
     ]
    }
   ],
   "source": [
    "#可使用当前的键来遍历与之相关联的值\n",
    "favorite_languages={'jen':'python',\n",
    "                    'sarah':'c',\n",
    "                    'edward':'rust',\n",
    "                    'phil':'python'}\n",
    "friends=['phil','sarah']\n",
    "\n",
    "for name in favorite_languages.keys():\n",
    "    print(f\"Hi,{name.title()}.\")\n",
    "    if name in friends:\n",
    "        language=favorite_languages[name].title()\n",
    "        print(f\"\\t{name.title()},I see you love {language}.\")\n",
    "    "
   ]
  },
  {
   "cell_type": "code",
   "execution_count": 30,
   "id": "84e36587-b85b-44d2-bceb-5386e1d370af",
   "metadata": {},
   "outputs": [
    {
     "name": "stdout",
     "output_type": "stream",
     "text": [
      "Erin, please take our poll!\n"
     ]
    }
   ],
   "source": [
    "favorite_languages={'jen':'python',\n",
    "                    'sarah':'c',\n",
    "                    'edward':'rust',\n",
    "                    'phil':'python'}\n",
    "if 'erin' not in favorite_languages.keys():\n",
    "    print(\"Erin, please take our poll!\")"
   ]
  },
  {
   "cell_type": "markdown",
   "id": "c9bc01bf-d160-4495-b35e-301c5f95b565",
   "metadata": {},
   "source": [
    "### 6.3.3 按特定的顺序遍历字典中的所有键"
   ]
  },
  {
   "cell_type": "code",
   "execution_count": 32,
   "id": "cd7dac74-ccad-484d-a103-89fd630bcd77",
   "metadata": {},
   "outputs": [
    {
     "name": "stdout",
     "output_type": "stream",
     "text": [
      "Edward,thank you for taking the poll\n",
      "Jen,thank you for taking the poll\n",
      "Phil,thank you for taking the poll\n",
      "Sarah,thank you for taking the poll\n"
     ]
    }
   ],
   "source": [
    "favorite_languages={'jen':'python',\n",
    "                    'sarah':'c',\n",
    "                    'edward':'rust',\n",
    "                    'phil':'python'}\n",
    "for name in sorted(favorite_languages.keys()):#在遍历之前按照字母顺序进行了排序\n",
    "    print(f\"{name.title()},thank you for taking the poll\")"
   ]
  },
  {
   "cell_type": "markdown",
   "id": "f71ab71c-bd38-4a8b-8eb1-60255f74f775",
   "metadata": {},
   "source": [
    "### 6.3.4 遍历字典中的所有值"
   ]
  },
  {
   "cell_type": "code",
   "execution_count": 33,
   "id": "31db5264-ec14-490e-8398-f950a74b4665",
   "metadata": {},
   "outputs": [
    {
     "name": "stdout",
     "output_type": "stream",
     "text": [
      "The following languages have been mentioned:\n",
      "Python\n",
      "C\n",
      "Rust\n",
      "Python\n"
     ]
    }
   ],
   "source": [
    "#遍历值时用 .values()\n",
    "favorite_languages={'jen':'python',\n",
    "                    'sarah':'c',\n",
    "                    'edward':'rust',\n",
    "                    'phil':'python'}\n",
    "print(\"The following languages have been mentioned:\")\n",
    "for language in favorite_languages.values():\n",
    "    print(language.title())"
   ]
  },
  {
   "cell_type": "code",
   "execution_count": 34,
   "id": "299fecd2-8a12-4003-86a8-1fb8b74ba31a",
   "metadata": {},
   "outputs": [
    {
     "name": "stdout",
     "output_type": "stream",
     "text": [
      "The following languages have been mentioned:\n",
      "C\n",
      "Python\n",
      "Rust\n"
     ]
    }
   ],
   "source": [
    "#如果要剔除重复项，可使用集合\n",
    "favorite_languages={'jen':'python',\n",
    "                    'sarah':'c',\n",
    "                    'edward':'rust',\n",
    "                    'phil':'python',\n",
    "                   'edward':'rust'}\n",
    "print(\"The following languages have been mentioned:\")\n",
    "for language in set(favorite_languages.values()):\n",
    "    print(language.title())\n"
   ]
  },
  {
   "cell_type": "code",
   "execution_count": 35,
   "id": "94afcce0-a653-4c63-a524-05e04c2e9b95",
   "metadata": {},
   "outputs": [
    {
     "data": {
      "text/plain": [
       "{'c', 'java', 'python', 'rust'}"
      ]
     },
     "execution_count": 35,
     "metadata": {},
     "output_type": "execute_result"
    }
   ],
   "source": [
    "#可以使用一对花括号直接创建集合，并在其中用逗号分隔元素：\n",
    "languages={'python','rust','python','c','java','c'}\n",
    "languages"
   ]
  },
  {
   "cell_type": "markdown",
   "id": "cfd9a07b-0e35-42c8-bfd8-6f05f940976b",
   "metadata": {},
   "source": [
    "## 6.4 嵌套"
   ]
  },
  {
   "cell_type": "markdown",
   "id": "c559221b-a1a6-4c5f-be0c-f0344e2f61ec",
   "metadata": {},
   "source": [
    "### 6.4.1 字典列表"
   ]
  },
  {
   "cell_type": "code",
   "execution_count": 36,
   "id": "fa7b0f8a-1b91-4092-a5b2-eec74244bf07",
   "metadata": {},
   "outputs": [
    {
     "name": "stdout",
     "output_type": "stream",
     "text": [
      "{'color': 'green', 'points': 5}\n",
      "{'color': 'yellow', 'points': 10}\n",
      "{'color': 'red', 'points': 15}\n"
     ]
    }
   ],
   "source": [
    "alien_0={'color':'green','points':5}\n",
    "alien_1={'color':'yellow','points':10}\n",
    "alien_2={'color':'red','points':15}\n",
    "\n",
    "aliens=[alien_0,alien_1,alien_2]\n",
    "for alien in aliens:\n",
    "    print(alien)\n"
   ]
  },
  {
   "cell_type": "code",
   "execution_count": 39,
   "id": "7e77c21b-f12b-476d-96f8-ec07239a23a1",
   "metadata": {},
   "outputs": [
    {
     "name": "stdout",
     "output_type": "stream",
     "text": [
      "\n",
      "Total number of aliens:3\n"
     ]
    }
   ],
   "source": [
    "#创建一个用于存储外星人的空列表\n",
    "alien=[]\n",
    "\n",
    "#创建30个绿色的外星人\n",
    "for alien_number in range(30):\n",
    "    new_alien={'color':'green','points':5,'speed':'slow'}\n",
    "    alien.append(new_alien)\n",
    "\n",
    "#显示前5个外星人\n",
    "for alien in aliens[5:]:\n",
    "    print(alien)\n",
    "print(\"\")\n",
    "\n",
    "#显示创建了多少个外星人\n",
    "print(f\"Total number of aliens:{len(aliens)}\")"
   ]
  },
  {
   "cell_type": "markdown",
   "id": "536d77ec-a06a-4191-a00c-985aaf97945a",
   "metadata": {},
   "source": [
    "### 6.4.2 在字典中存储列表"
   ]
  },
  {
   "cell_type": "code",
   "execution_count": 45,
   "id": "ac213018-7ebe-40dd-a750-bffc6227f607",
   "metadata": {},
   "outputs": [
    {
     "name": "stdout",
     "output_type": "stream",
     "text": [
      "You ordered a thick-crust pizza,With the following toppings:\n",
      "\tmushrooms\n",
      "\textra cheese\n"
     ]
    }
   ],
   "source": [
    "#存储顾客所点比萨的信息\n",
    "pizza={'crust':'thick',\n",
    "       'toppings':['mushrooms','extra cheese']}\n",
    "#概述顾客点的比萨：\n",
    "print(f\"You ordered a {pizza['crust']}-crust pizza,\"\n",
    "      \"With the following toppings:\")\n",
    "for topping in pizza['toppings']:\n",
    "    print(f\"\\t{topping}\")"
   ]
  },
  {
   "cell_type": "code",
   "execution_count": 46,
   "id": "01c8eb2f-1f84-4466-9fb7-232f0e1a9194",
   "metadata": {},
   "outputs": [
    {
     "name": "stdout",
     "output_type": "stream",
     "text": [
      "\n",
      "Jen's favorite languages are:\n",
      "\tPython\n",
      "\tRust\n",
      "\n",
      "Sarah's favorite languages are:\n",
      "\tC\n",
      "\n",
      "Edward's favorite languages are:\n",
      "\tRust\n",
      "\tGo\n",
      "\n",
      "Phil's favorite languages are:\n",
      "\tPython\n",
      "\tHaskell\n"
     ]
    }
   ],
   "source": [
    "#当需要在字典中将一个键关联到多个值时，都可以在字典中嵌套一个列表\n",
    "favorite_languages={'jen':['python','rust'],\n",
    "                    'sarah':['c'],\n",
    "                    'edward':['rust','go'],\n",
    "                    'phil':['python','haskell']}\n",
    "for name,languages in favorite_languages.items():\n",
    "    print(f\"\\n{name.title()}'s favorite languages are:\")\n",
    "    for language in languages:\n",
    "        print(f\"\\t{language.title()}\")"
   ]
  },
  {
   "cell_type": "markdown",
   "id": "9b76ab6e-8414-4e2b-929a-f69e73e5f33b",
   "metadata": {},
   "source": [
    "### 6.4.3 在字典中存储字典"
   ]
  },
  {
   "cell_type": "code",
   "execution_count": 49,
   "id": "f33e193d-d85b-485a-b8e1-9f88b8f465e8",
   "metadata": {},
   "outputs": [
    {
     "name": "stdout",
     "output_type": "stream",
     "text": [
      "\n",
      "Username:aeinstein\n",
      "\tFull name:Alberteinstein\n",
      "\tLocation:Princeton\n",
      "\n",
      "Username:mcurie\n",
      "\tFull name:Mariecurie\n",
      "\tLocation:Paris\n"
     ]
    }
   ],
   "source": [
    "users={'aeinstein':{\n",
    "    'first':'albert',\n",
    "    'last':'einstein',\n",
    "    'location':'princeton',},\n",
    "       'mcurie':{\n",
    "           'first':'marie',\n",
    "           'last':'curie',\n",
    "           'location':'paris',},\n",
    "      }\n",
    "for username, user_info in users.items():\n",
    "    print(f\"\\nUsername:{username}\")\n",
    "    full_name=f\"{user_info['first']}{user_info['last']}\"\n",
    "    location=user_info['location']\n",
    "\n",
    "    print(f\"\\tFull name:{full_name.title()}\")\n",
    "    print(f\"\\tLocation:{location.title()}\")\n",
    "                    "
   ]
  },
  {
   "cell_type": "code",
   "execution_count": null,
   "id": "73537853-dd41-4f5f-92df-5dd095cbb30d",
   "metadata": {},
   "outputs": [],
   "source": []
  }
 ],
 "metadata": {
  "kernelspec": {
   "display_name": "Python 3 (ipykernel)",
   "language": "python",
   "name": "python3"
  },
  "language_info": {
   "codemirror_mode": {
    "name": "ipython",
    "version": 3
   },
   "file_extension": ".py",
   "mimetype": "text/x-python",
   "name": "python",
   "nbconvert_exporter": "python",
   "pygments_lexer": "ipython3",
   "version": "3.11.7"
  }
 },
 "nbformat": 4,
 "nbformat_minor": 5
}
