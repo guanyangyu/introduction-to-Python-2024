{
 "cells": [
  {
   "cell_type": "markdown",
   "id": "75e44c66-7002-4a04-a14e-476fd64c6f70",
   "metadata": {},
   "source": [
    "# 第8章 函数"
   ]
  },
  {
   "cell_type": "markdown",
   "id": "8fb74089-97cb-4cf3-b05f-166674d16bb9",
   "metadata": {},
   "source": [
    "## 8.1 定义函数"
   ]
  },
  {
   "cell_type": "code",
   "execution_count": 1,
   "id": "0bacac97-831f-4b15-9052-4f2c05747e71",
   "metadata": {
    "scrolled": true
   },
   "outputs": [
    {
     "name": "stdout",
     "output_type": "stream",
     "text": [
      "Hello\n"
     ]
    }
   ],
   "source": [
    "def greet_user():\n",
    "    \"\"\"显示简单的问候语\"\"\"\n",
    "    print(\"Hello\")\n",
    "greet_user()\n",
    "\n",
    "#定义以def开头，冒号结尾，其中：括号（）是必不可少的"
   ]
  },
  {
   "cell_type": "code",
   "execution_count": 2,
   "id": "2a0cdd1f-0dd6-4e87-8f7f-e82dce1a4a16",
   "metadata": {
    "scrolled": true
   },
   "outputs": [
    {
     "name": "stdout",
     "output_type": "stream",
     "text": [
      "Hello\n"
     ]
    }
   ],
   "source": [
    "greet_user()"
   ]
  },
  {
   "cell_type": "markdown",
   "id": "dc0b8683-edc3-4f71-8ac5-86dc70b49a15",
   "metadata": {},
   "source": [
    "### 8.1.1 向函数传递信息"
   ]
  },
  {
   "cell_type": "code",
   "execution_count": 3,
   "id": "e2d3a70a-7f3f-43ea-819c-a28ad886f141",
   "metadata": {},
   "outputs": [
    {
     "name": "stdout",
     "output_type": "stream",
     "text": [
      "Hello,Jesse!\n"
     ]
    }
   ],
   "source": [
    "def greet_user(username):\n",
    "    \"\"\"显示简单的问候语\"\"\"\n",
    "    print(f\"Hello,{username.title()}!\")\n",
    "greet_user('jesse')"
   ]
  },
  {
   "cell_type": "code",
   "execution_count": 4,
   "id": "824cee92-a0e4-440d-8c76-b4c79b753326",
   "metadata": {},
   "outputs": [
    {
     "name": "stdout",
     "output_type": "stream",
     "text": [
      "Hello,Andy!\n"
     ]
    }
   ],
   "source": [
    "greet_user('Andy')"
   ]
  },
  {
   "cell_type": "markdown",
   "id": "42a93a93-2a19-47cf-a7e2-a4e08c8dfb2e",
   "metadata": {},
   "source": [
    "### 8.1.2 形参和实参"
   ]
  },
  {
   "cell_type": "code",
   "execution_count": 5,
   "id": "c29753c2-6e5d-467a-a07e-89182ab5e657",
   "metadata": {},
   "outputs": [],
   "source": [
    "#在上面定义的函数中，username是一个形参（函数能够成立需要的信息），jesse和Andy是实参（在调用函数时实际传递给函数的信息）"
   ]
  },
  {
   "cell_type": "markdown",
   "id": "f003197d-8dbc-468e-b6f2-52b308b3029f",
   "metadata": {},
   "source": [
    "## 8.2 传递实参"
   ]
  },
  {
   "cell_type": "markdown",
   "id": "56604c37-a1f5-4362-85a1-4eee72dde5bc",
   "metadata": {},
   "source": [
    "### 8.2.1 位置实参"
   ]
  },
  {
   "cell_type": "code",
   "execution_count": 2,
   "id": "2d175ab9-af06-4c7b-8a3d-75e1e12996bb",
   "metadata": {},
   "outputs": [
    {
     "name": "stdout",
     "output_type": "stream",
     "text": [
      "\n",
      "I have a hamster.\n",
      "My hamster's name is Harry.\n"
     ]
    }
   ],
   "source": [
    "def describe_pet(animal_type,pet_name):\n",
    "    \"\"\"显示宠物的信息\"\"\"\n",
    "    print(f\"\\nI have a {animal_type}.\")\n",
    "    print(f\"My {animal_type}'s name is {pet_name.title()}.\")\n",
    "\n",
    "describe_pet('hamster','harry')"
   ]
  },
  {
   "cell_type": "code",
   "execution_count": 3,
   "id": "842fb390-6e77-4cd6-9925-fec58eee9628",
   "metadata": {},
   "outputs": [
    {
     "name": "stdout",
     "output_type": "stream",
     "text": [
      "\n",
      "I have a hamster.\n",
      "My hamster's name is Harry.\n",
      "\n",
      "I have a dog.\n",
      "My dog's name is Willie.\n"
     ]
    }
   ],
   "source": [
    "#1.调用函数多次\n",
    "def describe_pet(animal_type,pet_name):\n",
    "    \"\"\"显示宠物的信息\"\"\"\n",
    "    print(f\"\\nI have a {animal_type}.\")\n",
    "    print(f\"My {animal_type}'s name is {pet_name.title()}.\")\n",
    "describe_pet('hamster','harry')\n",
    "describe_pet('dog','willie')"
   ]
  },
  {
   "cell_type": "code",
   "execution_count": 4,
   "id": "d885ecb6-15be-4ba8-beda-f71a04af8c12",
   "metadata": {},
   "outputs": [
    {
     "name": "stdout",
     "output_type": "stream",
     "text": [
      "\n",
      "I have a harry.\n",
      "My harry's name is Hamster.\n"
     ]
    }
   ],
   "source": [
    "#2.位置实参的顺序很重要\n",
    "def describe_pet(animal_type,pet_name):\n",
    "    \"\"\"显示宠物的信息\"\"\"\n",
    "    print(f\"\\nI have a {animal_type}.\")\n",
    "    print(f\"My {animal_type}'s name is {pet_name.title()}.\")\n",
    "describe_pet('harry','hamster')"
   ]
  },
  {
   "cell_type": "markdown",
   "id": "e7057fd1-ab7d-46cf-9722-a823899540b1",
   "metadata": {},
   "source": [
    "### 8.2.2 关键字实参"
   ]
  },
  {
   "cell_type": "code",
   "execution_count": 8,
   "id": "0d3a9b9f-be96-452b-a91a-64392dd690e7",
   "metadata": {},
   "outputs": [
    {
     "name": "stdout",
     "output_type": "stream",
     "text": [
      "\n",
      "I have a harry.\n",
      "My harry's name is Hamster.\n"
     ]
    }
   ],
   "source": [
    "#关键字实参可以让我们无需考虑函数调用中的实参顺序，并可以青春指出函数调用中各个值的用途\n",
    "def describe_pet(animal_type,pet_name):\n",
    "    \"\"\"显示宠物的信息\"\"\"\n",
    "    print(f\"\\nI have a {animal_type}.\")\n",
    "    print(f\"My {animal_type}'s name is {pet_name.title()}.\")\n",
    "describe_pet(animal_type='harry',pet_name='hamster')"
   ]
  },
  {
   "cell_type": "code",
   "execution_count": 9,
   "id": "4fca7ccb-c473-4b1a-a734-0853a43d6b0e",
   "metadata": {},
   "outputs": [
    {
     "name": "stdout",
     "output_type": "stream",
     "text": [
      "\n",
      "I have a harry.\n",
      "My harry's name is Hamster.\n"
     ]
    }
   ],
   "source": [
    "def describe_pet(animal_type,pet_name):\n",
    "    \"\"\"显示宠物的信息\"\"\"\n",
    "    print(f\"\\nI have a {animal_type}.\")\n",
    "    print(f\"My {animal_type}'s name is {pet_name.title()}.\")\n",
    "describe_pet('harry','hamster')"
   ]
  },
  {
   "cell_type": "code",
   "execution_count": 10,
   "id": "31031fe4-3a00-44a9-a8d6-d3ad3368f515",
   "metadata": {},
   "outputs": [
    {
     "name": "stdout",
     "output_type": "stream",
     "text": [
      "\n",
      "I have a lili.\n",
      "My lili's name is Haha.\n"
     ]
    }
   ],
   "source": [
    "describe_pet('lili','haha')"
   ]
  },
  {
   "cell_type": "code",
   "execution_count": 11,
   "id": "27e43dce-7320-44c9-afe7-8cd60f969314",
   "metadata": {},
   "outputs": [
    {
     "name": "stdout",
     "output_type": "stream",
     "text": [
      "\n",
      "I have a harry.\n",
      "My harry's name is Hamster.\n"
     ]
    }
   ],
   "source": [
    "describe_pet(animal_type='harry',pet_name='hamster')"
   ]
  },
  {
   "cell_type": "code",
   "execution_count": 12,
   "id": "2a2709cd-f39f-4b69-97fe-b46e4e25bfdb",
   "metadata": {},
   "outputs": [
    {
     "name": "stdout",
     "output_type": "stream",
     "text": [
      "\n",
      "I have a harry.\n",
      "My harry's name is Hamster.\n"
     ]
    }
   ],
   "source": [
    "describe_pet(pet_name='hamster',animal_type='harry')"
   ]
  },
  {
   "cell_type": "markdown",
   "id": "6e59f2da-7cd6-4591-96e0-003eb0e69b59",
   "metadata": {},
   "source": [
    "### 8.2.3 默认值"
   ]
  },
  {
   "cell_type": "code",
   "execution_count": 13,
   "id": "121ca50e-9f2a-4d00-9a93-6e95f9367eef",
   "metadata": {},
   "outputs": [
    {
     "name": "stdout",
     "output_type": "stream",
     "text": [
      "\n",
      " I have a dog.\n",
      "My dog's name is Willie.\n"
     ]
    }
   ],
   "source": [
    "#在编写函数时，可以给每个形参指定默认值；此时，如果在操作者给形参设置了实参，那么将输出实参，否则就输出形参\n",
    "def describe_pet(pet_name,animal_type='dog'):\n",
    "    \"\"\"显示宠物的信息\"\"\"\n",
    "    print(f\"\\n I have a {animal_type}.\")\n",
    "    print(f\"My {animal_type}'s name is {pet_name.title()}.\")\n",
    "describe_pet(pet_name='willie')"
   ]
  },
  {
   "cell_type": "code",
   "execution_count": 14,
   "id": "9153f7ab-ca47-4f4f-beeb-cd121f0bceef",
   "metadata": {},
   "outputs": [
    {
     "name": "stdout",
     "output_type": "stream",
     "text": [
      "\n",
      " I have a dog.\n",
      "My dog's name is Willie.\n"
     ]
    }
   ],
   "source": [
    "describe_pet('willie')"
   ]
  },
  {
   "cell_type": "code",
   "execution_count": 15,
   "id": "2ca05024-53fd-47c3-b22e-28a014d8e294",
   "metadata": {},
   "outputs": [
    {
     "name": "stdout",
     "output_type": "stream",
     "text": [
      "\n",
      " I have a dog.\n",
      "My dog's name is Harry.\n"
     ]
    }
   ],
   "source": [
    "describe_pet('harry')"
   ]
  },
  {
   "cell_type": "code",
   "execution_count": 18,
   "id": "af43a146-1546-4902-bfb5-6fe3a41e3262",
   "metadata": {},
   "outputs": [
    {
     "name": "stdout",
     "output_type": "stream",
     "text": [
      "\n",
      " I have a hamster.\n",
      "My hamster's name is Harry.\n"
     ]
    }
   ],
   "source": [
    "describe_pet(pet_name='harry',animal_type='hamster')"
   ]
  },
  {
   "cell_type": "markdown",
   "id": "582e928a-78ed-498f-accd-aeb0fda80c5c",
   "metadata": {},
   "source": [
    "### 8.2.4 等效的函数调用"
   ]
  },
  {
   "cell_type": "code",
   "execution_count": 9,
   "id": "a41c68fc-d197-4e36-985d-7c6c69b60601",
   "metadata": {},
   "outputs": [],
   "source": [
    "def describe_pet(pet_name,animal_type='dog'):\n",
    "    describe_pet('willie')\n",
    "    describe_pet(pet_name='willie')\n",
    "    describe_pet('harry','hamster')\n",
    "    describe_pet(pet_name='harry',animal_type='hamster')\n",
    "    describe_pet(animal_type='hamster',pet_name='harry')\n",
    "\n",
    "#为什么这一条代码运行不了"
   ]
  },
  {
   "cell_type": "code",
   "execution_count": 2,
   "id": "ad01a8da-0e0f-44e7-9671-9f234de72859",
   "metadata": {},
   "outputs": [
    {
     "name": "stdout",
     "output_type": "stream",
     "text": [
      "Hello\n"
     ]
    }
   ],
   "source": [
    "def greet_user():\n",
    "    \"\"\"显示简单的问候语\"\"\"\n",
    "    print(\"Hello\")\n",
    "greet_user()"
   ]
  },
  {
   "cell_type": "markdown",
   "id": "18dc80e0-9074-4396-9344-cfe070232993",
   "metadata": {},
   "source": [
    "### 8.2.5 避免实参错误"
   ]
  },
  {
   "cell_type": "code",
   "execution_count": 10,
   "id": "deef7ae1-39f5-4bd8-bde7-a0f7695b8445",
   "metadata": {},
   "outputs": [
    {
     "ename": "TypeError",
     "evalue": "describe_pet() missing 1 required positional argument: 'pet_name'",
     "output_type": "error",
     "traceback": [
      "\u001b[1;31m---------------------------------------------------------------------------\u001b[0m",
      "\u001b[1;31mTypeError\u001b[0m                                 Traceback (most recent call last)",
      "Cell \u001b[1;32mIn[10], line 6\u001b[0m\n\u001b[0;32m      4\u001b[0m     \u001b[38;5;28mprint\u001b[39m(\u001b[38;5;124mf\u001b[39m\u001b[38;5;124m\"\u001b[39m\u001b[38;5;130;01m\\n\u001b[39;00m\u001b[38;5;124m I have a \u001b[39m\u001b[38;5;132;01m{\u001b[39;00manimal_type\u001b[38;5;132;01m}\u001b[39;00m\u001b[38;5;124m.\u001b[39m\u001b[38;5;124m\"\u001b[39m)\n\u001b[0;32m      5\u001b[0m     \u001b[38;5;28mprint\u001b[39m(\u001b[38;5;124mf\u001b[39m\u001b[38;5;124m\"\u001b[39m\u001b[38;5;124mMy \u001b[39m\u001b[38;5;132;01m{\u001b[39;00manimal_type\u001b[38;5;132;01m}\u001b[39;00m\u001b[38;5;124m'\u001b[39m\u001b[38;5;124ms name is \u001b[39m\u001b[38;5;132;01m{\u001b[39;00mpet_name\u001b[38;5;241m.\u001b[39mtitle()\u001b[38;5;132;01m}\u001b[39;00m\u001b[38;5;124m.\u001b[39m\u001b[38;5;124m\"\u001b[39m)\n\u001b[1;32m----> 6\u001b[0m describe_pet()\n",
      "\u001b[1;31mTypeError\u001b[0m: describe_pet() missing 1 required positional argument: 'pet_name'"
     ]
    }
   ],
   "source": [
    "#当提供的实参多于或少于函数完成工作所需的实参数量时，将出现实参不匹配错误；此外，如果第一个用了关键字，后面的也需要用关键字。\n",
    "def describe_pet(pet_name,animal_type='dog'):\n",
    "    \"\"\"显示宠物的信息\"\"\"\n",
    "    print(f\"\\n I have a {animal_type}.\")\n",
    "    print(f\"My {animal_type}'s name is {pet_name.title()}.\")\n",
    "describe_pet()"
   ]
  },
  {
   "cell_type": "code",
   "execution_count": 11,
   "id": "2523b4a5-3d81-4b3f-97dd-ae092c959e36",
   "metadata": {},
   "outputs": [
    {
     "name": "stdout",
     "output_type": "stream",
     "text": [
      "\n",
      " I have a hamster.\n",
      "My hamster's name is Harry.\n"
     ]
    }
   ],
   "source": [
    "def describe_pet(pet_name,animal_type='dog'):\n",
    "    \"\"\"显示宠物的信息\"\"\"\n",
    "    print(f\"\\n I have a {animal_type}.\")\n",
    "    print(f\"My {animal_type}'s name is {pet_name.title()}.\")\n",
    "describe_pet('harry','hamster')"
   ]
  },
  {
   "cell_type": "markdown",
   "id": "ee8446d6-775f-4bab-a49d-bd5bb58103fc",
   "metadata": {},
   "source": [
    "## 8.3 返回值\n"
   ]
  },
  {
   "cell_type": "markdown",
   "id": "507eae14-4309-4e50-9468-8a708dbe9081",
   "metadata": {},
   "source": [
    "### 8.3.1 返回简单的值"
   ]
  },
  {
   "cell_type": "code",
   "execution_count": 14,
   "id": "9ca4bbfd-7c03-4fa5-9497-0f4e5b1de5c5",
   "metadata": {},
   "outputs": [
    {
     "name": "stdout",
     "output_type": "stream",
     "text": [
      "Jimi Hendrix\n"
     ]
    }
   ],
   "source": [
    "def get_formatted_name(first_name, last_name):\n",
    "    \"\"\"返回标准格式的姓名\"\"\"\n",
    "    full_name=f\"{first_name} {last_name}\"\n",
    "    return full_name.title()\n",
    "\n",
    "musician=get_formatted_name('jimi','hendrix')\n",
    "print(musician)"
   ]
  },
  {
   "cell_type": "markdown",
   "id": "23123eff-4b40-4732-a865-9121aeb07657",
   "metadata": {},
   "source": [
    "### 8.3.2 让实参变成可选的"
   ]
  },
  {
   "cell_type": "code",
   "execution_count": 15,
   "id": "2aacb30f-1e37-46d4-b4d3-c6bb202bccb4",
   "metadata": {},
   "outputs": [
    {
     "name": "stdout",
     "output_type": "stream",
     "text": [
      "Join Lee Hooker.\n"
     ]
    }
   ],
   "source": [
    "def get_formatted_name(first_name,middle_name,last_name):\n",
    "    \"\"\"返回标准格式的姓名\"\"\"\n",
    "    full_name=f\"{first_name} {middle_name} {last_name}.\"\n",
    "    return full_name.title()\n",
    "\n",
    "musician=get_formatted_name('join','lee','hooker')\n",
    "print(musician)"
   ]
  },
  {
   "cell_type": "code",
   "execution_count": 16,
   "id": "98a852e3-cb89-419a-b56a-a4ab5f88df27",
   "metadata": {},
   "outputs": [
    {
     "name": "stdout",
     "output_type": "stream",
     "text": [
      "Jimi Hendrex\n",
      "Jion Lee Hooker\n"
     ]
    }
   ],
   "source": [
    "def get_formatted_name(first_name,last_name,middle_name=''):\n",
    "    \"\"\"返回标准格式的姓名\"\"\"\n",
    "    if middle_name:\n",
    "        full_name=f\"{first_name} {middle_name} {last_name}\"\n",
    "    else:\n",
    "        full_name=f\"{first_name} {last_name}\"\n",
    "    return full_name.title()\n",
    "\n",
    "musician=get_formatted_name('jimi','hendrex')\n",
    "print(musician)\n",
    "\n",
    "musician=get_formatted_name('jion','hooker','lee')\n",
    "print(musician)"
   ]
  },
  {
   "cell_type": "markdown",
   "id": "66d164e7-55f9-4114-8d95-e0ccd128b629",
   "metadata": {},
   "source": [
    "### 8.3.3 返回字典"
   ]
  },
  {
   "cell_type": "code",
   "execution_count": 5,
   "id": "bbc52e04-3e55-4f53-8d59-93983191e431",
   "metadata": {},
   "outputs": [
    {
     "name": "stdout",
     "output_type": "stream",
     "text": [
      "{'first': 'jimi', 'last': 'hendrix'}\n"
     ]
    }
   ],
   "source": [
    "#函数可以返回任何类型的值，包括列表和字典等较为复杂的数据结构\n",
    "def build_person(first_name,last_name):\n",
    "    \"\"\"返回一个字典，其中包含有关一个人的信息\"\"\"\n",
    "    person={'first':first_name,'last':last_name} #将值放在字典中\n",
    "    return person\n",
    "musician=build_person('jimi','hendrix')\n",
    "print(musician)\n",
    "\n"
   ]
  },
  {
   "cell_type": "code",
   "execution_count": 6,
   "id": "44c23577-38ff-4658-b419-95f9f6bc4fec",
   "metadata": {},
   "outputs": [
    {
     "name": "stdout",
     "output_type": "stream",
     "text": [
      "{'first': 'jimi', 'last': 'hendrix', 'age': 27}\n"
     ]
    }
   ],
   "source": [
    "def build_person(first_name,last_name,age=None):\n",
    "    \"\"\"返回一个字典，其中包含有关一个人的信息\"\"\"\n",
    "    person={'first':first_name,'last':last_name}\n",
    "    if age:\n",
    "        person['age']=age\n",
    "    return person\n",
    "\n",
    "musician=build_person('jimi','hendrix',age=27)\n",
    "print(musician)\n"
   ]
  },
  {
   "cell_type": "markdown",
   "id": "1120098a-4ea8-46c5-ab16-9ea89d5a7cad",
   "metadata": {},
   "source": [
    "### 8.3.4 结合使用函数和while循环"
   ]
  },
  {
   "cell_type": "code",
   "execution_count": null,
   "id": "ad0904bc-7819-49a8-893e-5ddcef1140ff",
   "metadata": {},
   "outputs": [],
   "source": [
    "def get_formatted_name(first_name,last_name):\n",
    "    \"\"\"返回标准格式的姓名\"\"\"\n",
    "    full_name=f\"{first_name} {last_name}\")\n",
    "    return full_name.title()\n",
    "\n",
    "#这是一个无限循环！\n",
    "while True:\n",
    "    print(\"\\nPlease tell me your name:\")\n",
    "    f_name=input(\"First name:\")\n",
    "    l_name=input(\"Last name:\")\n",
    "\n",
    "    formatted_name=get_formatted_name(f_name,l_name)\n",
    "    print(f\"\\nHello,{formatted_name}!\")"
   ]
  },
  {
   "cell_type": "code",
   "execution_count": 9,
   "id": "99d9bdae-8f70-4074-8722-af85ddb36148",
   "metadata": {},
   "outputs": [
    {
     "name": "stdout",
     "output_type": "stream",
     "text": [
      "\n",
      "Please tell me your name:\n",
      "(enter 'q' at anytime to quit)\n"
     ]
    },
    {
     "name": "stdin",
     "output_type": "stream",
     "text": [
      "First name: guan\n",
      "Last name: yangyu\n"
     ]
    },
    {
     "name": "stdout",
     "output_type": "stream",
     "text": [
      "\n",
      "Hello,Guan Yangyu!\n",
      "\n",
      "Please tell me your name:\n",
      "(enter 'q' at anytime to quit)\n"
     ]
    },
    {
     "name": "stdin",
     "output_type": "stream",
     "text": [
      "First name: duan\n",
      "Last name: huitong\n"
     ]
    },
    {
     "name": "stdout",
     "output_type": "stream",
     "text": [
      "\n",
      "Hello,Duan Huitong!\n",
      "\n",
      "Please tell me your name:\n",
      "(enter 'q' at anytime to quit)\n"
     ]
    },
    {
     "name": "stdin",
     "output_type": "stream",
     "text": [
      "First name: quit\n",
      "Last name: q\n"
     ]
    }
   ],
   "source": [
    "def get_formatted_name(first_name,last_name):\n",
    "    \"\"\"返回标准格式的姓名\"\"\"\n",
    "    full_name=f\"{first_name} {last_name}\"\n",
    "    return full_name.title()\n",
    "\n",
    "\n",
    "while True:\n",
    "    print(\"\\nPlease tell me your name:\")\n",
    "    print(\"(enter 'q' at anytime to quit)\")\n",
    "    \n",
    "    f_name=input(\"First name:\")\n",
    "    if f_name=='q':\n",
    "        break\n",
    "    l_name=input(\"Last name:\")\n",
    "    if l_name=='q':\n",
    "        break\n",
    "\n",
    "    formatted_name=get_formatted_name(f_name,l_name)\n",
    "    print(f\"\\nHello,{formatted_name}!\")"
   ]
  },
  {
   "cell_type": "markdown",
   "id": "80d39139-ce8e-4072-97ed-b1ce1942e5ac",
   "metadata": {},
   "source": [
    "## 8.4 传递列表"
   ]
  },
  {
   "cell_type": "code",
   "execution_count": 11,
   "id": "abedbd68-0122-4030-a03f-5ed62c9833f1",
   "metadata": {},
   "outputs": [
    {
     "name": "stdout",
     "output_type": "stream",
     "text": [
      "Hello,Hanah\n",
      "Hello,Ty\n",
      "Hello,Margot\n"
     ]
    }
   ],
   "source": [
    "def greet_users(names):\n",
    "    \"\"\"向列表中的每个用户发出简单的问候\"\"\"\n",
    "    for name in names:\n",
    "        msg=f\"Hello,{name.title()}\"\n",
    "        print(msg)\n",
    "\n",
    "usernames=['hanah','ty','margot']\n",
    "greet_users(usernames)"
   ]
  },
  {
   "cell_type": "markdown",
   "id": "f73b2583-a091-4ff1-a66e-45abe1593ad6",
   "metadata": {},
   "source": [
    "### 8.4.1 在函数中修改列表"
   ]
  },
  {
   "cell_type": "markdown",
   "id": "938598b2-944f-4ada-9292-354bab9830a2",
   "metadata": {},
   "source": [
    "将列表传递给函数后，函数就能对列表进行修改，并且这种修改是永久的"
   ]
  },
  {
   "cell_type": "code",
   "execution_count": 12,
   "id": "2cd1bcb2-b4cc-44a3-832e-05dd54caa90a",
   "metadata": {},
   "outputs": [
    {
     "name": "stdout",
     "output_type": "stream",
     "text": [
      "Printing model:dodecahedron\n",
      "Printing model:robot pendant\n",
      "Printing model:phone case\n",
      "\n",
      " The following models have been printed:\n",
      "dodecahedron\n",
      "robot pendant\n",
      "phone case\n"
     ]
    }
   ],
   "source": [
    "#首先创建一个列表，其中包含一些要打印的设计\n",
    "unprinted_designs=['phone case','robot pendant','dodecahedron']\n",
    "completed_models=[]\n",
    "\n",
    "#模拟打印每个设计，直到没有未打印的设计为止\n",
    "#打印每个设计后，都将其移到列表completed_models中\n",
    "while unprinted_designs:\n",
    "    current_design=unprinted_designs.pop()\n",
    "    print(f\"Printing model:{current_design}\")\n",
    "    completed_models.append(current_design)\n",
    "\n",
    "#显示打印好的所有模型\n",
    "print(\"\\n The following models have been printed:\")\n",
    "for completed_model in completed_models:\n",
    "    print(completed_model)"
   ]
  },
  {
   "cell_type": "code",
   "execution_count": 14,
   "id": "864a38e3-9ac2-4d58-9542-29c062cfacc9",
   "metadata": {},
   "outputs": [
    {
     "name": "stdout",
     "output_type": "stream",
     "text": [
      "Printing model:dodecahedron\n",
      "Printing model:robot pendant\n",
      "Printing model:phone case\n",
      "\n",
      " The following models have been printed:\n",
      "dodecahedron\n",
      "robot pendant\n",
      "phone case\n"
     ]
    }
   ],
   "source": [
    "def print_models(unprinted_designs,completed_designs):\n",
    "    \"\"\"\n",
    "    模拟打印每个设计，直到没有呢未打印的设计为止\n",
    "    打印每个设计后，都将其移到列表completed_models中\n",
    "    \"\"\"\n",
    "\n",
    "while unprinted_designs:\n",
    "    current_design=unprinted_designs.pop()\n",
    "    print(f\"Printing model:{current_design}\")\n",
    "    completed_models.append(current_design)\n",
    "\n",
    "def show_completed_models(completed_models):\n",
    "    \"\"\"显示打印好的所有模型\"\"\"\n",
    "print(\"\\n The following models have been printed:\")\n",
    "for completed_model in completed_models:\n",
    "    print(completed_model)\n",
    "\n",
    "unprinted_designs=['phone case','robot pendant','dodecahedron']\n",
    "completed_models=[]\n",
    "\n",
    "print_models(unprinted_designs,completed_models)\n",
    "show_completed_models(completed_models)"
   ]
  },
  {
   "cell_type": "markdown",
   "id": "0bce1c72-0915-420c-986a-0e208a02568c",
   "metadata": {},
   "source": [
    "### 8.4.2 禁止函数修改列表"
   ]
  },
  {
   "cell_type": "code",
   "execution_count": 16,
   "id": "66edd66c-0cd8-4744-9033-d742e60b1863",
   "metadata": {},
   "outputs": [
    {
     "name": "stdout",
     "output_type": "stream",
     "text": [
      "Printing model:dodecahedron\n",
      "Printing model:robot pendant\n",
      "Printing model:phone case\n",
      "\n",
      " The following models have been printed:\n",
      "dodecahedron\n",
      "robot pendant\n",
      "phone case\n",
      "['phone case', 'robot pendant', 'dodecahedron']\n"
     ]
    }
   ],
   "source": [
    "def print_models(unprinted_designs,completed_designs):\n",
    "    \"\"\"\n",
    "    模拟打印每个设计，直到没有呢未打印的设计为止\n",
    "    打印每个设计后，都将其移到列表completed_models中\n",
    "    \"\"\"\n",
    "\n",
    "while unprinted_designs:\n",
    "    current_design=unprinted_designs.pop()\n",
    "    print(f\"Printing model:{current_design}\")\n",
    "    completed_models.append(current_design)\n",
    "\n",
    "def show_completed_models(completed_models):\n",
    "    \"\"\"显示打印好的所有模型\"\"\"\n",
    "print(\"\\n The following models have been printed:\")\n",
    "for completed_model in completed_models:\n",
    "    print(completed_model)\n",
    "\n",
    "unprinted_designs=['phone case','robot pendant','dodecahedron']\n",
    "completed_models=[]\n",
    "\n",
    "print_models(unprinted_designs[:],completed_models)\n",
    "show_completed_models(completed_models)\n",
    "\n",
    "print(unprinted_designs)"
   ]
  },
  {
   "cell_type": "markdown",
   "id": "59d6008f-4252-41c5-82b2-09639de4a335",
   "metadata": {},
   "source": [
    "## 8.5 传递任意数量的实参"
   ]
  },
  {
   "cell_type": "code",
   "execution_count": 2,
   "id": "31fafc4f-f664-4576-af87-0b728e48cd6c",
   "metadata": {},
   "outputs": [
    {
     "name": "stdout",
     "output_type": "stream",
     "text": [
      "('pepperoni',)\n",
      "('mushroom', 'green peppers', 'extra cheese')\n"
     ]
    }
   ],
   "source": [
    "def make_pizza(*toppings):\n",
    "    \"\"\"打印顾客点的所有配料\"\"\"\n",
    "    print(toppings)\n",
    "\n",
    "make_pizza('pepperoni')\n",
    "make_pizza('mushroom','green peppers','extra cheese')  #pyrhon会将实参封装到一个元组中"
   ]
  },
  {
   "cell_type": "code",
   "execution_count": 3,
   "id": "4200f226-19ff-4d4f-b087-d4af3e64a687",
   "metadata": {},
   "outputs": [
    {
     "name": "stdout",
     "output_type": "stream",
     "text": [
      "\n",
      "Making a pizza with the following toppings:\n",
      "-pepperoni\n",
      "\n",
      "Making a pizza with the following toppings:\n",
      "-mushroom\n",
      "-green peppers\n",
      "-extra cheese\n"
     ]
    }
   ],
   "source": [
    "def make_pizza(*toppings):\n",
    "    \"\"\"概述要制作的比萨\"\"\"\n",
    "    print(\"\\nMaking a pizza with the following toppings:\")\n",
    "    for topping in toppings:\n",
    "        print(f\"-{topping}\")\n",
    "\n",
    "make_pizza('pepperoni')\n",
    "make_pizza('mushroom','green peppers','extra cheese')"
   ]
  },
  {
   "cell_type": "markdown",
   "id": "31dbb08d-86f8-41b3-a229-65a904f6b7d0",
   "metadata": {},
   "source": [
    "### 8.5.1结合使用位置实参和任意数量的实参"
   ]
  },
  {
   "cell_type": "markdown",
   "id": "a505f127-bc9a-437c-a054-5197285e3e3b",
   "metadata": {},
   "source": [
    "如果要让函数接受不同类型的实参，必须在函数定义中接受任意数量实参的形参放在最后"
   ]
  },
  {
   "cell_type": "code",
   "execution_count": 5,
   "id": "a10dfce5-bc29-411b-a4c9-a12200473d5a",
   "metadata": {},
   "outputs": [
    {
     "name": "stdout",
     "output_type": "stream",
     "text": [
      "\n",
      "Making a 16-inch pizza with the following toppings:\n",
      "-pepperoni\n",
      "\n",
      "Making a 12-inch pizza with the following toppings:\n",
      "-mushroom\n",
      "-green peppers\n",
      "-extra cheese\n"
     ]
    }
   ],
   "source": [
    "def make_pizza(size,*toppings):\n",
    "    \"\"\"概述要制作的比萨\"\"\"\n",
    "    print(f\"\\nMaking a {size}-inch pizza with the following toppings:\")\n",
    "    for topping in toppings:\n",
    "        print(f\"-{topping}\")\n",
    "\n",
    "make_pizza(16,'pepperoni')\n",
    "make_pizza(12,'mushroom','green peppers','extra cheese')"
   ]
  },
  {
   "cell_type": "markdown",
   "id": "7f11b534-7d89-4687-b034-4bf2eb83bbf7",
   "metadata": {},
   "source": [
    "### 8.5.2  使用任意数量的关键字实参"
   ]
  },
  {
   "cell_type": "code",
   "execution_count": 8,
   "id": "6eaff0a8-e97e-40f0-958d-ab834f0dc13c",
   "metadata": {},
   "outputs": [
    {
     "name": "stdout",
     "output_type": "stream",
     "text": [
      "{'location': 'princeton', 'filed': 'physics', 'first_name': 'albert', 'last_name': 'einstein'}\n"
     ]
    }
   ],
   "source": [
    "def build_profile(first,last,**user_info):   #其中 ** 让python创建了一个名为user_info的字典\n",
    "    \"\"\"创建一个字典，其中包含我们知道的有关用户的一切\"\"\"\n",
    "    user_info['first_name']=first\n",
    "    user_info['last_name']=last\n",
    "    return user_info\n",
    "\n",
    "user_profile=build_profile('albert','einstein',\n",
    "                           location='princeton',\n",
    "                           filed='physics')\n",
    "print(user_profile)"
   ]
  },
  {
   "cell_type": "markdown",
   "id": "78bbbb1b-28a8-41ac-8a97-a1e57b687065",
   "metadata": {},
   "source": [
    "## 8.6 将函数存储在模块中"
   ]
  },
  {
   "cell_type": "markdown",
   "id": "d29741fc-0bef-4ab0-9518-4a5198b058b1",
   "metadata": {},
   "source": [
    "### 8.6.1 导入整个模块"
   ]
  },
  {
   "cell_type": "code",
   "execution_count": 9,
   "id": "1b4fe41b-59be-4dbf-80ee-0ce5245efd48",
   "metadata": {},
   "outputs": [
    {
     "name": "stdout",
     "output_type": "stream",
     "text": [
      "\n",
      "Making a 16-inch pizza with the following toppings:\n",
      "-pepperoni\n",
      "\n",
      "Making a 12-inch pizza with the following toppings:\n",
      "-mushrooms\n",
      "-green peppers\n",
      "-extra cheese\n"
     ]
    }
   ],
   "source": [
    "import pizza\n",
    "pizza.make_pizza(16,'pepperoni')\n",
    "pizza.make_pizza(12,'mushrooms','green peppers','extra cheese')"
   ]
  },
  {
   "cell_type": "markdown",
   "id": "9de998a7-559d-4d4f-9fa7-9474fd8fce58",
   "metadata": {},
   "source": [
    "### 8.6.2 导入特定的函数"
   ]
  },
  {
   "cell_type": "code",
   "execution_count": null,
   "id": "9ed873e1-3fc7-451a-92f2-34102a6dacca",
   "metadata": {},
   "outputs": [],
   "source": [
    "# 导入特定函数：from module_name import fuction_0,fuction_1,function_2"
   ]
  },
  {
   "cell_type": "code",
   "execution_count": 11,
   "id": "06437280-529a-455a-ab42-0e769023f00f",
   "metadata": {},
   "outputs": [
    {
     "name": "stdout",
     "output_type": "stream",
     "text": [
      "\n",
      "Making a 16-inch pizza with the following toppings:\n",
      "-pepperoni\n",
      "\n",
      "Making a 12-inch pizza with the following toppings:\n",
      "-mushrooms\n",
      "-green peppers\n",
      "-extra cheese\n"
     ]
    }
   ],
   "source": [
    "from pizza import make_pizza\n",
    "\n",
    "make_pizza(16,'pepperoni')\n",
    "make_pizza(12,'mushrooms','green peppers','extra cheese')"
   ]
  },
  {
   "cell_type": "markdown",
   "id": "1c1dcfff-0d6c-4e1e-accb-af4138d6e0cb",
   "metadata": {},
   "source": [
    "### 8.3.6 使用 as 给函数指定别名"
   ]
  },
  {
   "cell_type": "code",
   "execution_count": 13,
   "id": "84fb0163-9906-4a95-b638-3d115a667e9d",
   "metadata": {},
   "outputs": [
    {
     "name": "stdout",
     "output_type": "stream",
     "text": [
      "\n",
      "Making a 16-inch pizza with the following toppings:\n",
      "-pepperoni\n",
      "\n",
      "Making a 12-inch pizza with the following toppings:\n",
      "-mushrooms\n",
      "-green peppers\n",
      "-extra cheese\n"
     ]
    }
   ],
   "source": [
    "#给模块指定别名的通用语法为：import module_name as mn\n",
    "\n",
    "import pizza as p\n",
    "\n",
    "p.make_pizza(16,'pepperoni')\n",
    "p.make_pizza(12,'mushrooms','green peppers','extra cheese')"
   ]
  },
  {
   "cell_type": "markdown",
   "id": "e92c497e-80cf-4ae7-af43-6330c2502ea2",
   "metadata": {},
   "source": [
    "### 8.6.5 导入模块中的所有函数"
   ]
  },
  {
   "cell_type": "code",
   "execution_count": 14,
   "id": "0c6f2778-0766-4c1d-9858-f986494831d6",
   "metadata": {},
   "outputs": [
    {
     "name": "stdout",
     "output_type": "stream",
     "text": [
      "\n",
      "Making a 16-inch pizza with the following toppings:\n",
      "-pepperoni\n",
      "\n",
      "Making a 12-inch pizza with the following toppings:\n",
      "-mushrooms\n",
      "-green peppers\n",
      "-extra cheese\n"
     ]
    }
   ],
   "source": [
    "# 使用 * 运算符可让Pyhton导入模块中的所有函数：\n",
    "\n",
    "from pizza import*\n",
    "make_pizza(16,'pepperoni')\n",
    "make_pizza(12,'mushrooms','green peppers','extra cheese')\n"
   ]
  },
  {
   "cell_type": "markdown",
   "id": "4d88c0ee-98b9-48c8-9a78-6a746d92fe8f",
   "metadata": {},
   "source": [
    "### 8.7 函数编写指南"
   ]
  },
  {
   "cell_type": "markdown",
   "id": "a91af5ff-af56-4c3a-a91d-e76d9058b7da",
   "metadata": {},
   "source": [
    "要给函数指定描述性名称，且只使用小写字母和下划线。\n",
    "需要包含简要阐释其功能的注释。 \n",
    "在给形参指定默认值时，等号两边不要有空格。\n",
    "代码行的长度不宜过长（不要超过79个字符）。\n",
    "如果程序或模块包含多个函数，可使用两个空行将相邻的函数分开。\n",
    "所有的import语句都应该放在文件开头。"
   ]
  },
  {
   "cell_type": "markdown",
   "id": "8374a84b-04ed-4c4e-bc4b-9c668d8ee0c7",
   "metadata": {},
   "source": [
    "# 课后练习——动手试一试"
   ]
  },
  {
   "cell_type": "markdown",
   "id": "186fe8c0-19a4-49fc-ba6f-893a9cfd95bc",
   "metadata": {},
   "source": [
    "## 练习8.1 ：消息"
   ]
  },
  {
   "cell_type": "code",
   "execution_count": 3,
   "id": "3b4b2f07-c6f2-488c-8b64-694f910578fe",
   "metadata": {},
   "outputs": [
    {
     "name": "stdout",
     "output_type": "stream",
     "text": [
      "function/call\n"
     ]
    }
   ],
   "source": [
    "def display_message(a,b):\n",
    "    \"\"\"函数与调用函数\"\"\"\n",
    "    print(f\"{a}/{b}\")\n",
    "\n",
    "display_message('function','call')"
   ]
  },
  {
   "cell_type": "markdown",
   "id": "85b21480-2aa7-4119-bca4-b21e0cc88897",
   "metadata": {},
   "source": [
    "## 练习8.2 ： 喜欢的书"
   ]
  },
  {
   "cell_type": "code",
   "execution_count": 5,
   "id": "b14a1daa-e524-4c27-8361-72ae90d27326",
   "metadata": {},
   "outputs": [
    {
     "name": "stdout",
     "output_type": "stream",
     "text": [
      "One of my favorite books is Alice In Wonderland.\n"
     ]
    }
   ],
   "source": [
    "def favorite_book(title):\n",
    "    \"\"\"描述书名\"\"\"\n",
    "    print(f\"One of my favorite books is {title.title()}.\")\n",
    "\n",
    "favorite_book('Alice in Wonderland')"
   ]
  },
  {
   "cell_type": "markdown",
   "id": "df9febeb-8ad8-4401-8de7-2a82f3958381",
   "metadata": {},
   "source": [
    "## 练习8.3 ： T恤"
   ]
  },
  {
   "cell_type": "code",
   "execution_count": 9,
   "id": "6d4300ea-e5c5-4056-b692-f7fd3506a527",
   "metadata": {},
   "outputs": [
    {
     "name": "stdout",
     "output_type": "stream",
     "text": [
      "\n",
      "The size is 12,and please print the Actice in it.\n"
     ]
    }
   ],
   "source": [
    "def make_shirt(size,logo):\n",
    "    \"\"\"描述T恤尺码及字样\"\"\"\n",
    "    print(f\"\\nThe size is {size},and please print the {logo} in it.\")\n",
    "\n",
    "\n",
    "make_shirt(logo='Actice',size='12')"
   ]
  },
  {
   "cell_type": "markdown",
   "id": "320dd9b1-f089-482c-8f98-4c682c2c1eca",
   "metadata": {},
   "source": [
    "## 练习8.4 ： 大号T恤"
   ]
  },
  {
   "cell_type": "code",
   "execution_count": 11,
   "id": "38a47e60-9beb-4a11-92dc-a6f9914acc43",
   "metadata": {},
   "outputs": [
    {
     "name": "stdout",
     "output_type": "stream",
     "text": [
      "\n",
      "The size is 12,and please print the I love Python in it.\n",
      "\n",
      "The size is 18,and please print the I love Python in it.\n",
      "\n",
      "The size is 16,and please print the I love Python in it.\n",
      "\n",
      "The size is 12,and please print the Active in it.\n"
     ]
    }
   ],
   "source": [
    "def make_shirt(size,logo='I love Python'):\n",
    "    \"\"\"描述T恤尺码及字样\"\"\"\n",
    "    print(f\"\\nThe size is {size},and please print the {logo} in it.\")\n",
    "\n",
    "make_shirt('12')\n",
    "make_shirt('18')\n",
    "make_shirt('16')\n",
    "make_shirt('12','Active')"
   ]
  },
  {
   "cell_type": "markdown",
   "id": "511827eb-5e93-4a17-9ddd-a24b7c3ba867",
   "metadata": {},
   "source": [
    "## 练习 8.5 ：城市"
   ]
  },
  {
   "cell_type": "code",
   "execution_count": 13,
   "id": "4b6d4039-4bec-4e90-aef0-7627c234d25a",
   "metadata": {},
   "outputs": [
    {
     "name": "stdout",
     "output_type": "stream",
     "text": [
      "\n",
      "Nanjing is in China\n",
      "\n",
      "Beijing is in China\n",
      "\n",
      "Paris is in France\n"
     ]
    }
   ],
   "source": [
    "def describe_city(name,country='china'):\n",
    "    \"\"\"描述城市及其所属国家\"\"\"\n",
    "    print(f\"\\n{name.title()} is in {country.title()}\")\n",
    "\n",
    "describe_city('nanjing')\n",
    "describe_city('beijing')\n",
    "describe_city('paris','france')"
   ]
  },
  {
   "cell_type": "markdown",
   "id": "24b5097e-4578-40ff-845a-d62279c44eae",
   "metadata": {},
   "source": [
    "## 练习8.6 ：城市名"
   ]
  },
  {
   "cell_type": "code",
   "execution_count": 19,
   "id": "79d2cf7d-ca55-49a4-994f-b661c8bb7626",
   "metadata": {},
   "outputs": [
    {
     "name": "stdout",
     "output_type": "stream",
     "text": [
      "nanjing,china is a beautiful city.\n",
      "beijing,china is a beautiful city.\n",
      "shanghai,china is a beautiful city.\n"
     ]
    }
   ],
   "source": [
    "def city_country(name,country):\n",
    "    \"\"\"描述城市名及国家并返回字符串\"\"\"\n",
    "    full_name=f\"{name},{country}\"\n",
    "    print(f\"{full_name} is a beautiful city.\")\n",
    "\n",
    "city_country('nanjing','china')\n",
    "city_country('beijing','china')\n",
    "city_country('shanghai','china')"
   ]
  },
  {
   "cell_type": "code",
   "execution_count": 39,
   "id": "62390212-c40b-4ff2-9270-80d9e38120b9",
   "metadata": {},
   "outputs": [
    {
     "name": "stdout",
     "output_type": "stream",
     "text": [
      "Nanjing,China\n",
      "Beijing,China\n",
      "Shanghai,China\n"
     ]
    }
   ],
   "source": [
    "def city_country(name,country):\n",
    "    \"\"\"描述城市名及国家并返回字符串\"\"\"\n",
    "    full_name=f'{name},{country}'\n",
    "    return full_name.title()\n",
    "    \n",
    "a=city_country('nanjing','china')\n",
    "print(a)\n",
    "b=city_country('beijing','china')\n",
    "print(b)\n",
    "c=city_country('shanghai','china')\n",
    "print(c)\n",
    "\n",
    "\n",
    "#为什么只能打印出一条消息"
   ]
  },
  {
   "cell_type": "markdown",
   "id": "27032d50-cdd3-4813-9461-5fd5907d5c11",
   "metadata": {},
   "source": [
    "## 8.7 : 专辑"
   ]
  },
  {
   "cell_type": "code",
   "execution_count": 37,
   "id": "e95f097d-9b01-4337-ad11-1ec86d929cc8",
   "metadata": {},
   "outputs": [
    {
     "name": "stdout",
     "output_type": "stream",
     "text": [
      "{'name': 'liuhuan', 'song': 'heart'}\n",
      "{'name': 'talay', 'song': 'summer'}\n",
      "{'name': 'ladygaga', 'song': 'you'}\n"
     ]
    }
   ],
   "source": [
    "def make_album(singer,album):\n",
    "    \"\"\"描述歌手及专辑名\"\"\"\n",
    "    full={'name':singer,'song':album}\n",
    "    return full\n",
    "a=make_album('liuhuan','heart')\n",
    "print(a)\n",
    "b=make_album('talay','summer')\n",
    "print(b)\n",
    "c=make_album('ladygaga','you')\n",
    "print(c)"
   ]
  },
  {
   "cell_type": "code",
   "execution_count": 42,
   "id": "c28887e9-0e83-4b92-ad60-94c094d06d88",
   "metadata": {},
   "outputs": [
    {
     "name": "stdout",
     "output_type": "stream",
     "text": [
      "{'name': 'liuhuan', 'song': 'heart'}\n",
      "{'name': 'talay'}\n",
      "{'name': 'ladygaga', 'song': 'you'}\n"
     ]
    }
   ],
   "source": [
    "def make_album(singer,album=''):\n",
    "    \"\"\"描述歌手及专辑名\"\"\"\n",
    "    if album:\n",
    "         full={'name':singer,'song':album}\n",
    "    else:\n",
    "         full={'name':singer}\n",
    "    return full\n",
    "a=make_album('liuhuan','heart')\n",
    "print(a)\n",
    "b=make_album('talay')\n",
    "print(b)\n",
    "c=make_album('ladygaga','you')\n",
    "print(c)"
   ]
  },
  {
   "cell_type": "markdown",
   "id": "e746fbb7-fb2d-4523-bcf6-7f287958c19c",
   "metadata": {},
   "source": [
    "## 练习8.8 ： 用户的专辑"
   ]
  },
  {
   "cell_type": "code",
   "execution_count": 55,
   "id": "6d216445-a764-4583-af87-0ab9311dca77",
   "metadata": {},
   "outputs": [
    {
     "name": "stdin",
     "output_type": "stream",
     "text": [
      "\n",
      " Which singer do you like best? liuhuan\n",
      "\n",
      " Which song? bumber\n",
      "\n",
      " Which singer do you like best? megadeth\n",
      "\n",
      " Which song? rust in peace\n",
      "\n",
      " Which singer do you like best? quit\n"
     ]
    },
    {
     "name": "stdout",
     "output_type": "stream",
     "text": [
      "\n",
      "Thanks for responding.\n",
      "{'singer': 'Liuhuan', 'album': 'Lala'}\n",
      "{'singer': 'Megadeth', 'album': 'Title', 'track': 'rust in peace'}\n"
     ]
    }
   ],
   "source": [
    "def make_album(singer,album,tracks=0):\n",
    "    \"\"\"描述歌手及专辑名\"\"\"\n",
    "    album_dict={'singer':singer.title(),\n",
    "                'album':album.title()}\n",
    "    if tracks:\n",
    "        album_dict['track']=tracks\n",
    "    return album_dict\n",
    "\n",
    "    #生成提示语\n",
    "    singer_prompt=\"\\n Which singer do you like best?\"\n",
    "    album_prompt=\"\\n Which song?\"\n",
    "    break_prompt=\"\\n You can finish  by entering 'quit'.\"\n",
    "\n",
    "while True:\n",
    "    singer=input(singer_prompt)\n",
    "    if singer=='quit':\n",
    "        break\n",
    "\n",
    "    album=input(album_prompt)\n",
    "    if album=='quit':\n",
    "        break\n",
    "print(\"\\nThanks for responding.\")\n",
    "\n",
    "a=make_album('liuhuan','lala')\n",
    "print(a)\n",
    "b=make_album('megadeth','title','rust in peace')\n",
    "print(b)\n"
   ]
  },
  {
   "cell_type": "markdown",
   "id": "65938fea-e41e-445a-9731-d4c58f3c0210",
   "metadata": {},
   "source": [
    "## 练习8.9 ： 消息"
   ]
  },
  {
   "cell_type": "code",
   "execution_count": 56,
   "id": "b05e1722-14f3-4329-a5f6-b22c47164c5d",
   "metadata": {},
   "outputs": [
    {
     "name": "stdout",
     "output_type": "stream",
     "text": [
      "hello\n",
      "hi\n",
      "byebye\n",
      "see you next time\n"
     ]
    }
   ],
   "source": [
    "def show_messages(messages):\n",
    "    \"\"\"打印列表的所有消息\"\"\"\n",
    "    for message in messages:\n",
    "        print(message)\n",
    "\n",
    "messages=['hello','hi','byebye','see you next time']\n",
    "show_messages(messages)"
   ]
  },
  {
   "cell_type": "markdown",
   "id": "021ef7db-4c0b-426d-b123-9cac81217e1e",
   "metadata": {},
   "source": [
    "## 练习8.10：发送消息"
   ]
  },
  {
   "cell_type": "code",
   "execution_count": 7,
   "id": "e75c5105-f0b2-43f4-ad71-19e19e9460fd",
   "metadata": {},
   "outputs": [
    {
     "name": "stdout",
     "output_type": "stream",
     "text": [
      "Showing all messages:\n",
      "hello\n",
      "hi\n",
      "byebye\n",
      "see you next time\n",
      "\n",
      "Sending all messages:\n",
      "see you next time\n",
      "byebye\n",
      "hi\n",
      "hello\n",
      "\n",
      "Final lists:\n",
      "[]\n",
      "['see you next time', 'byebye', 'hi', 'hello']\n"
     ]
    }
   ],
   "source": [
    "def show_messages(messages):\n",
    "    \"\"\"打印列表的所有消息\"\"\"\n",
    "    print(\"Showing all messages:\")\n",
    "    for message in messages:\n",
    "        print(message)\n",
    "\n",
    "def send_messages(messages,sent_messages):\n",
    "    \"\"\"打印每条消息，并将其赋到列表sent_messages中\"\"\"\n",
    "    print(\"\\nSending all messages:\")\n",
    "    while messages:\n",
    "        current_messages=messages.pop()\n",
    "        print(current_messages)\n",
    "        sent_messages.append(current_messages)\n",
    "\n",
    "messages=['hello','hi','byebye','see you next time']\n",
    "show_messages(messages)\n",
    "\n",
    "sent_messages=[]\n",
    "send_messages(messages,sent_messages)\n",
    "\n",
    "print(\"\\nFinal lists:\")\n",
    "print(messages)\n",
    "print(sent_messages)\n",
    "\n"
   ]
  },
  {
   "cell_type": "markdown",
   "id": "05b3ee9f-d27a-4775-a5d1-cbddbf369862",
   "metadata": {},
   "source": [
    "## 练习8.11 ：消息归档"
   ]
  },
  {
   "cell_type": "code",
   "execution_count": 8,
   "id": "934feeda-ddcc-43cf-8341-a3c12054db31",
   "metadata": {},
   "outputs": [
    {
     "name": "stdout",
     "output_type": "stream",
     "text": [
      "Showing all messages:\n",
      "hello\n",
      "hi\n",
      "byebye\n",
      "see you next time\n",
      "\n",
      "Sending all messages:\n",
      "see you next time\n",
      "byebye\n",
      "hi\n",
      "hello\n",
      "\n",
      "Final lists:\n",
      "['hello', 'hi', 'byebye', 'see you next time']\n",
      "['see you next time', 'byebye', 'hi', 'hello']\n"
     ]
    }
   ],
   "source": [
    "def show_messages(messages):\n",
    "    \"\"\"打印列表的所有消息\"\"\"\n",
    "    print(\"Showing all messages:\")\n",
    "    for message in messages:\n",
    "        print(message)\n",
    "\n",
    "def send_messages(messages,sent_messages):\n",
    "    \"\"\"打印每条消息，并将其赋到列表sent_messages中\"\"\"\n",
    "    print(\"\\nSending all messages:\")\n",
    "    while messages:\n",
    "        current_messages=messages.pop()\n",
    "        print(current_messages)\n",
    "        sent_messages.append(current_messages)\n",
    "\n",
    "messages=['hello','hi','byebye','see you next time']\n",
    "show_messages(messages)\n",
    "\n",
    "sent_messages=[]\n",
    "send_messages(messages[:],sent_messages)\n",
    "\n",
    "print(\"\\nFinal lists:\")\n",
    "print(messages)\n",
    "print(sent_messages)"
   ]
  },
  {
   "cell_type": "markdown",
   "id": "7da7ba66-5e5f-4274-96c3-ba78e8df15ce",
   "metadata": {},
   "source": [
    "## 练习8.12 ：三明治"
   ]
  },
  {
   "cell_type": "code",
   "execution_count": 9,
   "id": "5ddfa391-65d4-422e-af63-dca7cfcbf857",
   "metadata": {},
   "outputs": [
    {
     "name": "stdout",
     "output_type": "stream",
     "text": [
      "\n",
      "I'll make you a great sandwich.\n",
      "Please adding roast beef to your sandwich.\n",
      "Please adding lettuce to your sandwich.\n",
      "Please adding honey dijion to your sandwich.\n",
      "Your sandwich is ready.\n",
      "\n",
      "I'll make you a great sandwich.\n",
      "Please adding turkey to your sandwich.\n",
      "Please adding apple slices to your sandwich.\n",
      "Your sandwich is ready.\n",
      "\n",
      "I'll make you a great sandwich.\n",
      "Please adding peanut butter to your sandwich.\n",
      "Please adding strawberry jam to your sandwich.\n",
      "Your sandwich is ready.\n"
     ]
    }
   ],
   "source": [
    "def make_sandwich(*items):\n",
    "    \"\"\"使用指定的食材制作三明治\"\"\"\n",
    "    print(\"\\nI'll make you a great sandwich.\")\n",
    "    for item in items:\n",
    "        print(f\"Please adding {item} to your sandwich.\")\n",
    "    print(\"Your sandwich is ready.\")\n",
    "\n",
    "make_sandwich('roast beef','lettuce','honey dijion')\n",
    "make_sandwich('turkey','apple slices')\n",
    "make_sandwich('peanut butter','strawberry jam')"
   ]
  },
  {
   "cell_type": "markdown",
   "id": "7322ac14-b149-4a4f-bec5-50cebf0877de",
   "metadata": {},
   "source": [
    "## 练习8.13 ：用户简介"
   ]
  },
  {
   "cell_type": "code",
   "execution_count": 14,
   "id": "56baf363-abe1-4bec-9ac8-df5845c5790b",
   "metadata": {},
   "outputs": [
    {
     "name": "stdout",
     "output_type": "stream",
     "text": [
      "{'location': 'nanjing', 'filed': 'xinchuan', 'grade': '22', 'first_name': 'guan', 'last_name': 'yangyu'}\n"
     ]
    }
   ],
   "source": [
    "def build_profile(first,last,**user_info):   #其中 ** 让python创建了一个名为user_info的字典\n",
    "    \"\"\"创建一个字典，其中包含我们知道的有关用户的一切\"\"\"\n",
    "    user_info['first_name']=first\n",
    "    user_info['last_name']=last\n",
    "    return user_info\n",
    "\n",
    "user_profile=build_profile('guan','yangyu',\n",
    "                           location='nanjing',\n",
    "                           filed='xinchuan',\n",
    "                          grade='22')\n",
    "print(user_profile)"
   ]
  },
  {
   "cell_type": "markdown",
   "id": "777486bf-a2be-4479-805d-1ed978e3ba86",
   "metadata": {},
   "source": [
    "## 练习8.14 ：汽车"
   ]
  },
  {
   "cell_type": "code",
   "execution_count": 16,
   "id": "99669158-0b12-487e-979f-38b3d2d1dfae",
   "metadata": {},
   "outputs": [
    {
     "name": "stdout",
     "output_type": "stream",
     "text": [
      "{'manufacturer': 'Subaru', 'model': 'Outbreak', 'color': 'bule', 'tow_package': True}\n",
      "{'manufacturer': 'Honda', 'model': 'Accord', 'year': 1991, 'color': 'white', 'headlights': 'popup'}\n"
     ]
    }
   ],
   "source": [
    "def make_car(manufacturer,model,**options):\n",
    "    \"\"\"创建一个表示汽车的字典\"\"\"\n",
    "    car_dict={'manufacturer':manufacturer.title(),'model':model.title(),}\n",
    "    for option,value in options.items():\n",
    "        car_dict[option]=value\n",
    "\n",
    "    return car_dict\n",
    "\n",
    "my=make_car('subaru','outbreak',color='bule',tow_package=True)\n",
    "print(my)\n",
    "\n",
    "the_other=make_car('honda','accord',year=1991,color='white',headlights='popup')\n",
    "print(the_other)"
   ]
  },
  {
   "cell_type": "code",
   "execution_count": null,
   "id": "7689a7de-5d77-4e32-9971-6fc6b53afecd",
   "metadata": {},
   "outputs": [],
   "source": []
  }
 ],
 "metadata": {
  "kernelspec": {
   "display_name": "Python 3 (ipykernel)",
   "language": "python",
   "name": "python3"
  },
  "language_info": {
   "codemirror_mode": {
    "name": "ipython",
    "version": 3
   },
   "file_extension": ".py",
   "mimetype": "text/x-python",
   "name": "python",
   "nbconvert_exporter": "python",
   "pygments_lexer": "ipython3",
   "version": "3.11.7"
  }
 },
 "nbformat": 4,
 "nbformat_minor": 5
}
