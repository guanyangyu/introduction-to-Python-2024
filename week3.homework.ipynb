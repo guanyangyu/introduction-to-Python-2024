{
 "cells": [
  {
   "cell_type": "code",
   "execution_count": 1,
   "id": "8b649ba6-fc55-44cb-a418-cf2753b316be",
   "metadata": {},
   "outputs": [
    {
     "name": "stdout",
     "output_type": "stream",
     "text": [
      "['trek', 'cannondale', 'redline', 'specilized']\n"
     ]
    }
   ],
   "source": [
    "bicycles=['trek','cannondale','redline','specilized']\n",
    "print(bicycles)"
   ]
  },
  {
   "cell_type": "code",
   "execution_count": 2,
   "id": "b06ece47-e252-46b3-96e8-9b7b3191d375",
   "metadata": {},
   "outputs": [
    {
     "name": "stdout",
     "output_type": "stream",
     "text": [
      "trek\n"
     ]
    }
   ],
   "source": [
    "bicycles=['trek','cannondale','redline','specilized']\n",
    "print(bicycles[0])"
   ]
  },
  {
   "cell_type": "code",
   "execution_count": 3,
   "id": "34558cd8-5dac-49af-8c8a-e9dcd66674ff",
   "metadata": {},
   "outputs": [
    {
     "name": "stdout",
     "output_type": "stream",
     "text": [
      "Trek\n"
     ]
    }
   ],
   "source": [
    "bicycles=['trek','cannondale','redline','specilized']\n",
    "print(bicycles[0].title())"
   ]
  },
  {
   "cell_type": "code",
   "execution_count": 4,
   "id": "550b9d5a-8dfa-4dc0-bb1b-27d905b403c9",
   "metadata": {},
   "outputs": [
    {
     "name": "stdout",
     "output_type": "stream",
     "text": [
      "cannondale\n",
      "specilized\n"
     ]
    }
   ],
   "source": [
    "bicycles=['trek','cannondale','redline','specilized']\n",
    "print(bicycles[1])\n",
    "print(bicycles[3])"
   ]
  },
  {
   "cell_type": "code",
   "execution_count": 5,
   "id": "c713484e-9e9b-4b8a-a159-06810a82f35f",
   "metadata": {},
   "outputs": [
    {
     "name": "stdout",
     "output_type": "stream",
     "text": [
      "specilized\n"
     ]
    }
   ],
   "source": [
    "bicycles=['trek','cannondale','redline','specilized']\n",
    "print(bicycles[-1])"
   ]
  },
  {
   "cell_type": "code",
   "execution_count": 12,
   "id": "bcc11847-2f4d-430f-aed7-8def67fa10d3",
   "metadata": {},
   "outputs": [
    {
     "name": "stdout",
     "output_type": "stream",
     "text": [
      "my favorite was a Trek\n"
     ]
    }
   ],
   "source": [
    "bicycles=['trek','cannondale','realine','specilized']\n",
    "message=f\"my favorite was a {bicycles[0].title()}\"\n",
    "print(message)"
   ]
  },
  {
   "cell_type": "code",
   "execution_count": 14,
   "id": "230076db-e297-4821-ac93-7a8eee95a7d6",
   "metadata": {},
   "outputs": [
    {
     "name": "stdout",
     "output_type": "stream",
     "text": [
      "huitong\n",
      "Hi,Huitong,happy everyday!\n"
     ]
    }
   ],
   "source": [
    "names=['huitong','ruixue','fannan']\n",
    "print(names[0])\n",
    "message=f\"Hi,{names[0].title()},happy everyday!\"\n",
    "print(message)\n"
   ]
  },
  {
   "cell_type": "code",
   "execution_count": 15,
   "id": "b1d65be6-63b1-4eb8-b2a0-e057e9dfec5e",
   "metadata": {},
   "outputs": [
    {
     "name": "stdout",
     "output_type": "stream",
     "text": [
      "['honda', 'yamaha', 'suzuki']\n",
      "['ducati', 'yamaha', 'suzuki']\n"
     ]
    }
   ],
   "source": [
    "motorcycles=['honda','yamaha','suzuki']\n",
    "print(motorcycles)\n",
    "\n",
    "motorcycles[0]='ducati'\n",
    "print(motorcycles)"
   ]
  },
  {
   "cell_type": "code",
   "execution_count": 16,
   "id": "d3faf02a-015c-4f69-b75b-9564e63af786",
   "metadata": {},
   "outputs": [
    {
     "data": {
      "text/plain": [
       "['ducati', 'yamaha', 'suzuki']"
      ]
     },
     "execution_count": 16,
     "metadata": {},
     "output_type": "execute_result"
    }
   ],
   "source": [
    "['honda','yamaha','suzuki']\n",
    "['ducati','yamaha','suzuki']"
   ]
  },
  {
   "cell_type": "code",
   "execution_count": 1,
   "id": "92467acc-3f51-4791-a011-e2fbda48eec8",
   "metadata": {},
   "outputs": [
    {
     "name": "stdout",
     "output_type": "stream",
     "text": [
      "['honda', 'yamaha', 'suzuki']\n",
      "['honda', 'yamaha', 'suzuki', 'ducati']\n"
     ]
    }
   ],
   "source": [
    "motorcycles=['honda','yamaha','suzuki']\n",
    "print(motorcycles)\n",
    "\n",
    "motorcycles.append(\"ducati\")\n",
    "print(motorcycles)\n",
    "\n"
   ]
  },
  {
   "cell_type": "code",
   "execution_count": 4,
   "id": "0b6b2e3b-9ef6-49a2-9633-6d1e3b8e7123",
   "metadata": {},
   "outputs": [
    {
     "name": "stdout",
     "output_type": "stream",
     "text": [
      "['honda', 'yamaha', 'suzuki']\n"
     ]
    }
   ],
   "source": [
    "motorcycles=[]\n",
    "\n",
    "motorcycles.append('honda')\n",
    "motorcycles.append('yamaha')\n",
    "motorcycles.append('suzuki')\n",
    "\n",
    "print(motorcycles)               "
   ]
  },
  {
   "cell_type": "code",
   "execution_count": 7,
   "id": "8d5c6337-5938-40cd-ac85-022547da91c4",
   "metadata": {},
   "outputs": [
    {
     "name": "stdout",
     "output_type": "stream",
     "text": [
      "['ducati', 'honda', 'haha', 'yamaha', 'suzuki']\n"
     ]
    }
   ],
   "source": [
    "motorcycles=['honda','yamaha','suzuki']\n",
    "motorcycles.insert(0,'ducati')\n",
    "\n",
    "motorcycles.insert(2,'haha')\n",
    "print(motorcycles)"
   ]
  },
  {
   "cell_type": "code",
   "execution_count": 8,
   "id": "3d88d4c0-26ec-4bfe-89c4-ba67a8f0c0ba",
   "metadata": {},
   "outputs": [
    {
     "name": "stdout",
     "output_type": "stream",
     "text": [
      "['honda', 'yamaha', 'suzuki']\n",
      "['yamaha', 'suzuki']\n"
     ]
    }
   ],
   "source": [
    "motorcycles=['honda','yamaha','suzuki']\n",
    "print(motorcycles)\n",
    "\n",
    "del motorcycles[0]\n",
    "print(motorcycles)"
   ]
  },
  {
   "cell_type": "code",
   "execution_count": 9,
   "id": "85ae4380-ab16-486e-9c8b-07dc11411040",
   "metadata": {},
   "outputs": [
    {
     "name": "stdout",
     "output_type": "stream",
     "text": [
      "['honda', 'yamaha']\n"
     ]
    }
   ],
   "source": [
    "motorcycles=['honda','yamaha','suzuki']\n",
    "del motorcycles[2]\n",
    "print(motorcycles)"
   ]
  },
  {
   "cell_type": "code",
   "execution_count": 21,
   "id": "faf4e699-6251-4df7-9206-ee748e560e5a",
   "metadata": {},
   "outputs": [
    {
     "name": "stdout",
     "output_type": "stream",
     "text": [
      "['honda', 'yamaha', 'suzuki']\n",
      "['honda', 'yamaha']\n",
      "suzuki\n"
     ]
    }
   ],
   "source": [
    "motorcycles=['honda','yamaha','suzuki']\n",
    "print(motorcycles)\n",
    "popped_motorcycle=motorcycles.pop()\n",
    "\n",
    "print(motorcycles)\n",
    "print(popped_motorcycle)\n"
   ]
  },
  {
   "cell_type": "code",
   "execution_count": 25,
   "id": "eb9d8857-d2bf-4ee8-8dbb-d1bc2b1a4cd1",
   "metadata": {},
   "outputs": [
    {
     "name": "stdout",
     "output_type": "stream",
     "text": [
      "My last_owned motorbike is Suzuki.\n"
     ]
    }
   ],
   "source": [
    "motorcycles=['honda','yamaha','suzuki']\n",
    "last_owned=motorcycles.pop()\n",
    "message=f\"My last_owned motorbike is {last_owned.title()}.\"\n",
    "print(message)"
   ]
  },
  {
   "cell_type": "code",
   "execution_count": 27,
   "id": "fa254e08-628a-49df-a5b5-490d940138cb",
   "metadata": {},
   "outputs": [
    {
     "name": "stdout",
     "output_type": "stream",
     "text": [
      "My first-owned motorbike was a Honda.\n"
     ]
    }
   ],
   "source": [
    "motorcycles=['honda','yamaha','suzuki']\n",
    "first_owned=motorcycles.pop(0)\n",
    "print(f\"My first-owned motorbike was a {first_owned.title()}.\")"
   ]
  },
  {
   "cell_type": "code",
   "execution_count": 28,
   "id": "51ee121a-5773-417f-80b0-8e41147c91d3",
   "metadata": {},
   "outputs": [
    {
     "name": "stdout",
     "output_type": "stream",
     "text": [
      "['honda', 'yamaha', 'suzuki']\n",
      "['honda', 'suzuki']\n"
     ]
    }
   ],
   "source": [
    "motorcycles=['honda','yamaha','suzuki']\n",
    "print(motorcycles)\n",
    "motorcycles.remove('yamaha')\n",
    "print(motorcycles)"
   ]
  },
  {
   "cell_type": "code",
   "execution_count": 31,
   "id": "8ca4f1ec-31b4-4740-b09d-d72597e3c5d8",
   "metadata": {},
   "outputs": [
    {
     "name": "stdout",
     "output_type": "stream",
     "text": [
      "['honda', 'yamaha', 'suzuki', 'ducati']\n",
      "['honda', 'yamaha', 'suzuki']\n",
      "\n",
      "A Ducati is too expensive to me\n"
     ]
    }
   ],
   "source": [
    "motorcycles=['honda','yamaha','suzuki','ducati']\n",
    "print(motorcycles)\n",
    "\n",
    "too_expensive='ducati'\n",
    "motorcycles.remove(too_expensive)\n",
    "print(motorcycles)\n",
    "print(f\"\\nA {too_expensive.title()} is too expensive to me\")"
   ]
  },
  {
   "cell_type": "code",
   "execution_count": 32,
   "id": "8c308bf8-05ac-4630-bc05-9afa79df99eb",
   "metadata": {},
   "outputs": [
    {
     "name": "stdout",
     "output_type": "stream",
     "text": [
      "Gwh,May I invite you have dinner with me?\n"
     ]
    }
   ],
   "source": [
    "names=['gwh','tt','ruixue','ll']\n",
    "print(f\"{names[0].title()},May I invite you have dinner with me?\")"
   ]
  },
  {
   "cell_type": "code",
   "execution_count": 47,
   "id": "a5d35923-3248-41ff-a5da-c1dedb30436d",
   "metadata": {},
   "outputs": [
    {
     "name": "stdout",
     "output_type": "stream",
     "text": [
      "['tt', 'yintong', 'ruixue', 'll', 'liuli']\n"
     ]
    }
   ],
   "source": [
    "names=['gwh','tt','ruixue','ll']\n",
    "names.pop(0)\n",
    "names.insert(1,'yintong')\n",
    "names.append('liuli')\n",
    "print(names)"
   ]
  },
  {
   "cell_type": "code",
   "execution_count": 65,
   "id": "7c594751-c37b-4134-b0c0-93b6de26c048",
   "metadata": {},
   "outputs": [
    {
     "name": "stdout",
     "output_type": "stream",
     "text": [
      "['tt', 'ruixue', 'll', 'liuyi']\n",
      "Yintong,I am sorry.\n",
      "['tt', 'ruixue', 'll']\n",
      "Liuyi, I am sorry.\n",
      "['tt', 'll']\n",
      "Ruixue, I am sorry.\n",
      "['tt', 'll'],Welcome!\n"
     ]
    }
   ],
   "source": [
    "names=['tt','yintong','ruixue','ll','liuyi']\n",
    "a=names.pop(1)\n",
    "print(names)\n",
    "print(f\"{a.title()},I am sorry.\")\n",
    "b=names.pop(3)\n",
    "print(names)\n",
    "print(f\"{b.title()}, I am sorry.\")\n",
    "c=names.pop(1)\n",
    "print(names)\n",
    "print(f\"{c.title()}, I am sorry.\")\n",
    "print(f\"{names},Welcome!\")\n"
   ]
  },
  {
   "cell_type": "code",
   "execution_count": 66,
   "id": "adfd85e7-af26-4b1b-887c-914c6367864e",
   "metadata": {},
   "outputs": [
    {
     "name": "stdout",
     "output_type": "stream",
     "text": [
      "['audi', 'bmw', 'subaru', 'toyota']\n"
     ]
    }
   ],
   "source": [
    "cars=['bmw','audi','toyota','subaru']\n",
    "cars.sort()\n",
    "print(cars)"
   ]
  },
  {
   "cell_type": "code",
   "execution_count": 67,
   "id": "a05c99ad-b8b6-4872-b4fb-88ae689fb966",
   "metadata": {},
   "outputs": [
    {
     "name": "stdout",
     "output_type": "stream",
     "text": [
      "['toyota', 'subaru', 'bmw', 'audi']\n"
     ]
    }
   ],
   "source": [
    "cars=['bmw','audi','toyota','subaru']\n",
    "cars.sort(reverse=True)\n",
    "print(cars)"
   ]
  },
  {
   "cell_type": "code",
   "execution_count": 68,
   "id": "800798ee-759c-4eb7-9f8d-8cf3d2435f44",
   "metadata": {},
   "outputs": [
    {
     "name": "stdout",
     "output_type": "stream",
     "text": [
      "Here is the original list:\n",
      "['bmw', 'audi', 'toyota', 'subaru']\n",
      "Where is the sorted list?\n",
      "['audi', 'bmw', 'subaru', 'toyota']\n",
      "Where is the original list again?\n",
      "['bmw', 'audi', 'toyota', 'subaru']\n"
     ]
    }
   ],
   "source": [
    "cars=['bmw','audi','toyota','subaru']\n",
    "print(\"Here is the original list:\")\n",
    "print(cars)\n",
    "print(\"Where is the sorted list?\")\n",
    "print(sorted(cars))\n",
    "print(\"Where is the original list again?\")\n",
    "print(cars)"
   ]
  },
  {
   "cell_type": "code",
   "execution_count": 1,
   "id": "e9119e63-c14c-4c97-97dc-138f082c6b2b",
   "metadata": {},
   "outputs": [
    {
     "name": "stdout",
     "output_type": "stream",
     "text": [
      "['bmw', 'audi', 'toyota', 'subaru']\n",
      "['subaru', 'toyota', 'audi', 'bmw']\n"
     ]
    }
   ],
   "source": [
    "cars=['bmw','audi','toyota','subaru']\n",
    "print(cars)\n",
    "cars.reverse()\n",
    "print(cars)"
   ]
  },
  {
   "cell_type": "code",
   "execution_count": 2,
   "id": "c13d7b64-d3ba-4567-a845-384a3a6d7ab1",
   "metadata": {},
   "outputs": [
    {
     "data": {
      "text/plain": [
       "4"
      ]
     },
     "execution_count": 2,
     "metadata": {},
     "output_type": "execute_result"
    }
   ],
   "source": [
    "cars=['bwm','audi','toyota','subaru']\n",
    "len(cars)"
   ]
  },
  {
   "cell_type": "code",
   "execution_count": 16,
   "id": "b54e6fa8-8898-4a4d-8e28-6bec175e291c",
   "metadata": {},
   "outputs": [
    {
     "name": "stdout",
     "output_type": "stream",
     "text": [
      "['chengdu', 'chongqing', 'xian', 'beijing', 'sanya']\n",
      "['sanya', 'beijing', 'xian', 'chongqing', 'chengdu']\n",
      "['beijing', 'chengdu', 'chongqing', 'sanya', 'xian']\n",
      "['xian', 'sanya', 'chongqing', 'chengdu', 'beijing']\n"
     ]
    }
   ],
   "source": [
    "places=['chengdu','chongqing','xian','beijing','sanya']\n",
    "print(places)\n",
    "\n",
    "\n",
    "\n",
    "places.reverse()\n",
    "print(places)\n",
    "\n",
    "print(sorted(places))\n",
    "\n",
    "places.sort(reverse=True)\n",
    "print(places)\n",
    "\n"
   ]
  },
  {
   "cell_type": "code",
   "execution_count": null,
   "id": "e2212589-0a9f-4434-b405-ca9bef5c8c51",
   "metadata": {},
   "outputs": [],
   "source": []
  }
 ],
 "metadata": {
  "kernelspec": {
   "display_name": "Python 3 (ipykernel)",
   "language": "python",
   "name": "python3"
  },
  "language_info": {
   "codemirror_mode": {
    "name": "ipython",
    "version": 3
   },
   "file_extension": ".py",
   "mimetype": "text/x-python",
   "name": "python",
   "nbconvert_exporter": "python",
   "pygments_lexer": "ipython3",
   "version": "3.11.7"
  }
 },
 "nbformat": 4,
 "nbformat_minor": 5
}
